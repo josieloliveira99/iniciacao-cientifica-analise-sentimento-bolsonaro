{
 "cells": [
  {
   "cell_type": "code",
   "execution_count": 1,
   "metadata": {},
   "outputs": [],
   "source": [
    "import pandas as pd\n",
    "import random\n",
    "import re\n",
    "import utils.functions as f\n",
    "from utils.stop_words_custom import my_stop_words as stop_words\n",
    "pd.set_option('display.max_colwidth', -1)"
   ]
  },
  {
   "cell_type": "code",
   "execution_count": 2,
   "metadata": {},
   "outputs": [],
   "source": [
    "df = f.get_data(\"data/03_just_may/may.xlsx\")"
   ]
  },
  {
   "cell_type": "code",
   "execution_count": 3,
   "metadata": {},
   "outputs": [
    {
     "data": {
      "text/plain": [
       "Index(['pubdate', 'id', 'guid', 'link', 'author', 'title', 'description',\n",
       "       'source', 'user_id', 'profile_image_url', 'user_statuses_count',\n",
       "       'user_friends_count', 'user_followers_count', 'user_created_at',\n",
       "       'user_bio', 'user_location', 'lang', 'code', 'coords'],\n",
       "      dtype='object')"
      ]
     },
     "execution_count": 3,
     "metadata": {},
     "output_type": "execute_result"
    }
   ],
   "source": [
    "df.columns"
   ]
  },
  {
   "cell_type": "code",
   "execution_count": 4,
   "metadata": {},
   "outputs": [
    {
     "data": {
      "text/plain": [
       "NaN                            344442\n",
       "Brasil                         56600 \n",
       "São Paulo, Brasil              31492 \n",
       "Rio de Janeiro, Brasil         29476 \n",
       "Rio de Janeiro                 13943 \n",
       "Brazil                         11722 \n",
       "São Paulo                      10190 \n",
       "Belo Horizonte, Brasil         8224  \n",
       "Brasília, Brasil               7820  \n",
       "Curitiba, Brasil               5558  \n",
       "Porto Alegre, Brasil           5314  \n",
       "Recife, Brasil                 4929  \n",
       "Minas Gerais, Brasil           4108  \n",
       "Fortaleza, Brasil              3996  \n",
       "Sao Paulo, Brazil              3922  \n",
       "Salvador, Brasil               3856  \n",
       "Rio Grande do Sul, Brasil      3128  \n",
       "Goiânia, Brasil                2974  \n",
       "Manaus, Brasil                 2961  \n",
       "Belo Horizonte                 2725  \n",
       "Natal, Brasil                  2471  \n",
       "Brasília                       2432  \n",
       "Florianópolis, Brasil          2354  \n",
       "Campinas, Brasil               2292  \n",
       "Recife                         2280  \n",
       "Porto Alegre                   2271  \n",
       "Santa Catarina, Brasil         2246  \n",
       "Belém, Brasil                  2163  \n",
       "São Luís, Brasil               2128  \n",
       "São Paulo - Brasil             2099  \n",
       "Rio de Janeiro, Brazil         2057  \n",
       "Bahia, Brasil                  2051  \n",
       "Curitiba                       2039  \n",
       "Paraná, Brasil                 1856  \n",
       "Pernambuco, Brasil             1757  \n",
       "Ceará, Brasil                  1634  \n",
       "Niterói, Brasil                1618  \n",
       "João Pessoa, Brasil            1576  \n",
       "brasil                         1571  \n",
       "Espírito Santo, Brasil         1341  \n",
       "BRASIL                         1273  \n",
       "RJ                             1242  \n",
       "São José dos Campos, Brasil    1217  \n",
       "Juiz de Fora, Brasil           1200  \n",
       "Aracaju, Brasil                1199  \n",
       "Rio de Janeiro - Brasil        1191  \n",
       "Maceió, Brasil                 1162  \n",
       "Distrito Federal, Brasil       1097  \n",
       "Salvador                       1092  \n",
       "Santos, Brasil                 1084  \n",
       "Name: user_location, dtype: int64"
      ]
     },
     "execution_count": 4,
     "metadata": {},
     "output_type": "execute_result"
    }
   ],
   "source": [
    "locations = df['user_location'].value_counts(dropna=False)\n",
    "locations.iloc[0:50]"
   ]
  },
  {
   "cell_type": "code",
   "execution_count": 53,
   "metadata": {},
   "outputs": [],
   "source": [
    "index = 0\n",
    "new_pubdate = []\n",
    "for row in df['user_location']:\n",
    "    if type(row) == str:\n",
    "        if re.findall(r'[Ss][ãa]o [Pp]aulo.*', row):\n",
    "            pubdate = re.sub(r'[Ss][ãa]o [Pp]aulo.*', \"São Paulo\", row)\n",
    "        elif re.findall(r'^[Ss].*[Pp]aulo.*', row):\n",
    "            pubdate = re.sub(r'^[Ss].*[Pp]aulo.*', \"São Paulo\", row)\n",
    "        elif re.findall(r'^[Rr]io de [Jj]aneiro.*', row):\n",
    "            pubdate = re.sub(r'^[Rr]io de [Jj]aneiro.*', \"Rio de Janeiro\", row)\n",
    "#         elif re.findall(r'.*[Rr][Jj].*', row):\n",
    "#             pubdate = re.sub(r'.*[Rr][Jj].*', \"Rio de Janeiro\", row)\n",
    "        elif re.findall(r'^[Bb]ra[sz]il.*', row):\n",
    "            pubdate = re.sub(r'^[Bb]ra[sz]il.*', \"Brasil\", row)\n",
    "        elif re.findall(r'^[Bb]elo [Hh]orizonte.*', row):\n",
    "            pubdate = re.sub(r'^[Bb]elo [Hh]orizonte.*', \"Belo Horizonte\", row)\n",
    "        elif re.findall(r'^[Bb]ras[ií]lia.*', row):\n",
    "            pubdate = re.sub(r'^Bras[ií]lia.*', \"Brasília\", row)\n",
    "        elif re.findall(r'^[Cc]uritiba.*', row):\n",
    "            pubdate = re.sub(r'[Cc]uritiba.*', \"Curitiba\", row)\n",
    "        elif re.findall(r', [Bb]ra[zs]il.*', row):\n",
    "            pubdate = re.sub(r', [Bb]ra[zs]il.*', \"\", row)\n",
    "        else:\n",
    "            pubdate = row\n",
    "    else:\n",
    "        pubdate = row\n",
    "    new_pubdate.append(pubdate)\n",
    "    index = index + 1"
   ]
  },
  {
   "cell_type": "code",
   "execution_count": 56,
   "metadata": {},
   "outputs": [
    {
     "data": {
      "text/plain": [
       "NaN               344442\n",
       "Brasil            78109 \n",
       "São Paulo         58517 \n",
       "Rio de Janeiro    52311 \n",
       "Brasília          16085 \n",
       "Belo Horizonte    15184 \n",
       "Curitiba          11165 \n",
       "Porto Alegre      8106  \n",
       "Recife            7764  \n",
       "Fortaleza         5266  \n",
       "dtype: int64"
      ]
     },
     "execution_count": 56,
     "metadata": {},
     "output_type": "execute_result"
    }
   ],
   "source": [
    "pd.Series(new_pubdate).value_counts(dropna=False).iloc[0:10]"
   ]
  },
  {
   "cell_type": "code",
   "execution_count": 77,
   "metadata": {},
   "outputs": [],
   "source": [
    "# df['title'].value_counts().iloc[0:10]"
   ]
  },
  {
   "cell_type": "code",
   "execution_count": 73,
   "metadata": {},
   "outputs": [
    {
     "data": {
      "text/plain": [
       "295414"
      ]
     },
     "execution_count": 73,
     "metadata": {},
     "output_type": "execute_result"
    }
   ],
   "source": [
    "len(df['title'].unique())"
   ]
  },
  {
   "cell_type": "code",
   "execution_count": 78,
   "metadata": {},
   "outputs": [],
   "source": [
    "# df['description'].value_counts().iloc[0:20]"
   ]
  },
  {
   "cell_type": "code",
   "execution_count": 79,
   "metadata": {},
   "outputs": [
    {
     "data": {
      "text/plain": [
       "279231"
      ]
     },
     "execution_count": 79,
     "metadata": {},
     "output_type": "execute_result"
    }
   ],
   "source": [
    "len(df['description'].unique())"
   ]
  },
  {
   "cell_type": "code",
   "execution_count": 81,
   "metadata": {},
   "outputs": [
    {
     "data": {
      "text/plain": [
       "Michell69330944    965\n",
       "arte_prima         679\n",
       "carlosffrank       640\n",
       "souza_maurilio     551\n",
       "moema4             528\n",
       "LavaJatoNews       488\n",
       "gojammaj           464\n",
       "nadiabambirra      432\n",
       "JGZZZO             423\n",
       "malungorei         412\n",
       "ZilmaLima5         411\n",
       "1maseoutras        406\n",
       "marciav2015        398\n",
       "AnaMari46150993    398\n",
       "tialilucas         395\n",
       "LuciaCa33110815    372\n",
       "CartasMarottas     362\n",
       "agesantana         355\n",
       "AldoNunes57        352\n",
       "jussapreta         347\n",
       "_pinccc            346\n",
       "cesarefatimaglo    337\n",
       "EvandroOuriques    326\n",
       "WalfferBarreto     324\n",
       "BLOGdoPEPE         317\n",
       "franciscoamr       309\n",
       "MoyenneA           307\n",
       "BetoPereira19      304\n",
       "PetucioS           302\n",
       "epopeiaorg         302\n",
       "                  ... \n",
       "aaaaaaaagenor      1  \n",
       "ChiavoneLais       1  \n",
       "Jrcrvg10           1  \n",
       "GodLiberta         1  \n",
       "bellacalfa         1  \n",
       "ggaisller          1  \n",
       "trynnax            1  \n",
       "nikolasdiego       1  \n",
       "_italodeleon       1  \n",
       "AndreynnaRezen1    1  \n",
       "ccrzsrs            1  \n",
       "lgdtavares10       1  \n",
       "CarolOhanna        1  \n",
       "aahluametraiu      1  \n",
       "Luuu2019           1  \n",
       "Tay900Up           1  \n",
       "tiagolliveira      1  \n",
       "helogroff          1  \n",
       "Gaabs_Reis         1  \n",
       "Lara_Randp         1  \n",
       "brenda_eloa        1  \n",
       "EduLira_           1  \n",
       "marcia_tininha     1  \n",
       "mikaelbaumann      1  \n",
       "J_fred16           1  \n",
       "OdsZ1              1  \n",
       "JerriDias          1  \n",
       "GrilloViking       1  \n",
       "_tononnara         1  \n",
       "yaegiya_mochi      1  \n",
       "Name: author, Length: 333727, dtype: int64"
      ]
     },
     "execution_count": 81,
     "metadata": {},
     "output_type": "execute_result"
    }
   ],
   "source": [
    "df['author'].value_counts(dropna=False)"
   ]
  },
  {
   "cell_type": "code",
   "execution_count": 82,
   "metadata": {},
   "outputs": [
    {
     "data": {
      "text/plain": [
       "2018-12-18 18:11:05    965\n",
       "2013-08-04 13:34:50    679\n",
       "2011-02-28 06:54:39    640\n",
       "2012-01-22 08:51:44    551\n",
       "2009-07-06 06:32:38    528\n",
       "2016-10-21 23:00:46    488\n",
       "2010-03-14 14:41:53    464\n",
       "2010-05-09 22:46:38    432\n",
       "2011-09-27 16:18:17    423\n",
       "2012-04-30 22:51:59    412\n",
       "2019-04-30 07:51:54    411\n",
       "2009-06-26 14:10:36    406\n",
       "2014-08-06 11:42:04    398\n",
       "2018-09-01 13:47:33    398\n",
       "2019-01-24 21:48:51    395\n",
       "2018-10-10 16:34:33    372\n",
       "2010-01-31 17:10:34    362\n",
       "2009-10-12 18:45:38    355\n",
       "2009-07-21 12:55:06    352\n",
       "2011-06-08 08:24:29    347\n",
       "2011-07-30 02:52:54    346\n",
       "2009-04-16 08:56:12    337\n",
       "2009-04-15 21:24:34    326\n",
       "2018-04-30 05:43:19    324\n",
       "2011-05-26 15:36:58    317\n",
       "2009-04-27 10:10:10    309\n",
       "2016-04-26 12:58:47    307\n",
       "2015-08-22 16:57:20    304\n",
       "2014-11-18 12:02:28    302\n",
       "2018-10-11 11:52:21    302\n",
       "                      ... \n",
       "2016-09-12 18:47:55    1  \n",
       "2013-11-28 11:28:31    1  \n",
       "2007-04-10 22:34:48    1  \n",
       "2016-08-04 13:13:14    1  \n",
       "2013-05-27 07:32:19    1  \n",
       "2019-02-15 18:34:18    1  \n",
       "2010-04-22 13:29:10    1  \n",
       "2010-08-16 20:08:41    1  \n",
       "2016-12-14 05:22:24    1  \n",
       "2010-03-19 11:46:11    1  \n",
       "2019-02-28 10:45:39    1  \n",
       "2013-05-25 09:38:34    1  \n",
       "2019-03-15 12:01:17    1  \n",
       "2018-06-26 15:40:53    1  \n",
       "2015-09-29 07:10:21    1  \n",
       "2009-07-03 22:23:30    1  \n",
       "2010-03-05 07:34:12    1  \n",
       "2010-03-23 09:08:27    1  \n",
       "2015-10-17 21:54:19    1  \n",
       "2017-11-25 18:00:54    1  \n",
       "2014-09-11 14:12:04    1  \n",
       "2018-08-10 18:55:25    1  \n",
       "2019-05-13 10:03:17    1  \n",
       "2017-02-14 12:39:01    1  \n",
       "2018-10-27 16:00:15    1  \n",
       "2019-01-29 08:39:20    1  \n",
       "2013-06-21 20:36:37    1  \n",
       "2017-11-17 11:36:33    1  \n",
       "2019-02-24 21:11:43    1  \n",
       "2015-02-15 13:52:42    1  \n",
       "Name: user_created_at, Length: 331470, dtype: int64"
      ]
     },
     "execution_count": 82,
     "metadata": {},
     "output_type": "execute_result"
    }
   ],
   "source": [
    "df['user_created_at'].value_counts(dropna=False)"
   ]
  },
  {
   "cell_type": "code",
   "execution_count": 84,
   "metadata": {},
   "outputs": [
    {
     "data": {
      "text/plain": [
       "1037.0499749638507"
      ]
     },
     "execution_count": 84,
     "metadata": {},
     "output_type": "execute_result"
    }
   ],
   "source": [
    "df['user_friends_count'].mean()"
   ]
  },
  {
   "cell_type": "code",
   "execution_count": 86,
   "metadata": {},
   "outputs": [
    {
     "data": {
      "text/plain": [
       "367.0"
      ]
     },
     "execution_count": 86,
     "metadata": {},
     "output_type": "execute_result"
    }
   ],
   "source": [
    "df['user_friends_count'].median()"
   ]
  },
  {
   "cell_type": "code",
   "execution_count": 87,
   "metadata": {},
   "outputs": [
    {
     "data": {
      "text/plain": [
       "6294.76519202576"
      ]
     },
     "execution_count": 87,
     "metadata": {},
     "output_type": "execute_result"
    }
   ],
   "source": [
    "df['user_followers_count'].mean()"
   ]
  },
  {
   "cell_type": "code",
   "execution_count": 89,
   "metadata": {},
   "outputs": [
    {
     "data": {
      "text/plain": [
       "242.0"
      ]
     },
     "execution_count": 89,
     "metadata": {},
     "output_type": "execute_result"
    }
   ],
   "source": [
    "df['user_followers_count'].median()"
   ]
  },
  {
   "cell_type": "code",
   "execution_count": 92,
   "metadata": {},
   "outputs": [
    {
     "data": {
      "text/plain": [
       "3084    “O Brasil não pode ser o país do turismo gay. Quem quiser vir aqui fazer sexo com uma mulher, fique à vontade.”\\n\\nJair Messias Bolsonaro https://t.co/nk6wz51qBc                                                                                                                  \n",
       "3101    O que o cara não faz pra se manter na mamata. Mais uma vez Bozo passa por cima de Moro como se não existisse ministro.\\n\\nBolsonaro anuncia excludente de ilicitude a agricultores sem consultar Moro @UOLNoticias @UOL https://t.co/rfR08dzEB7                                    \n",
       "3294    A UnB, a UFBA e a UFF terão 30% das verbas cortadas por permitirem “atos políticos” nos campus. Deveriam ser multadas se não permitissem! Nenhuma reitoria pode censurar alunos e professores. Universidade é lugar do livre pensamento! E, disso, Bolsonaro tem medo!             \n",
       "3315    Onde Bolsonaro for em NY será assim. Já foi rejeitado no Museu de História Natutal, agora terá ativistas todos os dias na porta do Hotel Marriot — haverá um custo para a rede. Se receber Bolsonaro, iniciaremos um rejeição sem fim à rede de hotéis https://t.co/i2XC1a0mv8     \n",
       "3339    Perceberam q o jornalismo Globo q censurou a entrevista de Lula entrou pilhado hj no discurso de q o golpe de estado na Venezuela estava dando certo e os âncoras agora não sabem o q fazer c a derrota?\\n\\nE ainda tem gente q acha q a Globo é oposição a Bolsonaro.\\n\\nTolinhos.\n",
       "3806    Quem critica Bolsonaro não é, necessariamente, de esquerda.\\nQuem critica Maduro não é, necessariamente, de direita.\\n\\nÀs vezes é só bom senso mesmo.                                                                                                                             \n",
       "3833    Como pode um deputado interferir assim em assuntos externos como faz o Eduardo Bolsonaro ? Ele está na fronteira do Brasil com a Venezuela dando apoio à tentativa de golpe. Enqto isso o desemprego aqui só cresce ...                                                            \n",
       "7770    Diante do desemprego crescente, Bolsonaro reage com firmeza: atacou o turismo gay, quer destituir Paulo Freire como patrono, pede aos homens que façam higiene íntima, condena nudez na UnB em 2014, deu licença para fazendeiro matar.\\n\\nhttps://t.co/XYDT1H26qg                 \n",
       "8036    Dono da Cacau Show, que apoiou o golpe e o Bolsonaro, está fechando as lojas e tem raiva do povo que não compra mais chocolate delekkkkkk                                                                                                                                          \n",
       "8157    Supremo, Congresso, PGR, Forças Armadas não podem assistir impassíveis o país entregue a um bando de alucinados.\\nÉ hora de parar Bolsonaro, por Luis Nassif https://t.co/etkjaXQix8 via @JornalGGN https://t.co/hn9l8yAETO                                                        \n",
       "Name: description, dtype: object"
      ]
     },
     "execution_count": 92,
     "metadata": {},
     "output_type": "execute_result"
    }
   ],
   "source": [
    "criteria = df['user_created_at'] == '2018-12-18 18:11:05'\n",
    "df[criteria][\"description\"].iloc[0:10]"
   ]
  },
  {
   "cell_type": "code",
   "execution_count": 97,
   "metadata": {},
   "outputs": [
    {
     "data": {
      "text/plain": [
       "🇧🇷                                                                                                                                                                    1314\n",
       "#LulaLivre                                                                                                                                                            1259\n",
       "...                                                                                                                                                                   946 \n",
       ".                                                                                                                                                                     835 \n",
       "sem tempo irmão                                                                                                                                                       730 \n",
       "Dêem flores para os jovens que falharam...      A hipocrisia é a homenagem que o vicio presta à virtude...                                                            679 \n",
       "administrador,paulistano,casado,tres filhos,santista,gosto de futebol,jornalismo,história,filosofia,música,literatura , cinema,politica,,,                            640 \n",
       "#EsquerdistasSeguemEsquerdistas                                                                                                                                       612 \n",
       "Não seremos apenas RESISTÊNCIA, seremos também DEBOCHE!\\nsou NORDESTINAo ELEITO NÃO É meu PRESIDENTE (com certeza é a ÚNICA coisa q RATIFICO q ele disse)             528 \n",
       "fan account                                                                                                                                                           500 \n",
       "🤖Robô com noticias, críticas e retweets sobre denuncias de corrupção na América Latina, entre elas, Lavajato\\nOs RTs não significam endosso nem apoio ao postado      488 \n",
       "Jornalista                                                                                                                                                            473 \n",
       "Manifestem-se! Só um velho engenheiro econômico aposentado, um vagabundo a mais, segundo um conhecido sociopata canalha! #EsquerdistasSeguemEsquerdistas              464 \n",
       "Advogado                                                                                                                                                              456 \n",
       "Diretora, Professora, Atriz🎭                                                                                                                                          432 \n",
       "Pernambucano,vascaíno,bem casado.Música,futebol,quadrinhos,livros,cerveja,cinema,política. Na esquerda da via.Tomo guaraná,suco de caju,goiabada para sobremesa.      412 \n",
       "Mãe de Gui                                                                                                                                                            411 \n",
       ". DE QUE MODO SER O QUE SOU IMPEDE VC DE SER O QUE É?                                                                                                                 406 \n",
       "Amo à DEUS, família e igreja! Sou\\n Petista,Lulista,Dilma! Amo meu Brasil! Não ao golpe! Viva a Democracia!#Lulalivre😘                                                398 \n",
       "Médica, psicóloga junguiana, artista plástica                                                                                                                         398 \n",
       "É preciso ter força, é preciso ter raça!                                                                                                                              372 \n",
       "Juiz bão é juiz que condena... só o PT.\\nPolítico bão é o que rouba... mas não é do PT.\\nDireita HIPÓCRITA!\\nCarioca, jornalista, humanista, um ser político          362 \n",
       "Um brasileiro. Defensor intransigente da Democracia, da Justiça Social e de um mundo igualitário.                                                                     355 \n",
       "Santista roxo                                                                                                                                                         352 \n",
       "Clinical Nurse Specialist in Public Health, mother, grandmother                                                                                                       347 \n",
       "Petista segue Petista... Lulista!!!                                                                                                                                   346 \n",
       "😎                                                                                                                                                                     337 \n",
       "Dedico-me à Teoria Psicopolítica e à sua metodologia, a Gestão Mental,renovação da teoria social e da filosofia. Retuites aqui não são endosso mas diálogo            326 \n",
       "gosto de música ,teatro e cinema...\\nespecializado em ARTES GRÁFICAS, praticante de MUAY THAI,.Pai de Stephanie Regina                                                317 \n",
       "Professor                                                                                                                                                             314 \n",
       "Palmeirense e Petista.                                                                                                                                                309 \n",
       "«Todas las pistas que llevan a Bolsonaro» #LulaLivre #LulaInocente #QuemMatouMarielle #BrésilSousRégimeFasciste                                                       307 \n",
       "Este é meu filho Enzo, baterista, pratica natação, anda a 🏇, joga bola, adora ir a rodeio. 💙                                                                          304 \n",
       "Inteligência                                                                                                                                                          302 \n",
       "Não diga que a vitória está perdida, tenha fé em Deus. \\nLembre-se o nosso futuro, irá depender do que plantamos hoje.\\nnão plante vento, sempre colhe tempestade.    302 \n",
       "Agregador de notícias.                                                                                                                                                302 \n",
       "O primeiro em inteligência legislativa. Tweets sobre política, internet, zen budismo, startups, tecnologia ou tudo isso junto.                                        301 \n",
       "Amazônida 🌳🐊Supporter of human rights and environmental protection🌴🌱Book-lover 📚                                                                                      300 \n",
       "Ex-preso político em 1971/72. Sobrevivendo na luta nestes tempos difíceis.                                                                                            293 \n",
       "A vida acima de tudo Chega de tirar vidas, por interesse ou fanatismo                                                                                                 281 \n",
       "live and let die                                                                                                                                                      277 \n",
       "Olá estou me juntando a milhões de Pessoas por este mundo!                                                                                                            270 \n",
       "Bacharel em direito, jornalista formado, especialista em Direito Administrativo e Constitucional, mestrando, assessor e consultor. Um brasileiro que acredita...      266 \n",
       "Possível vestígio corpóreo                                                                                                                                            262 \n",
       "Jornalista e Consultor                                                                                                                                                261 \n",
       "🔎 Quem visitou seu perfil no Twitter? 🔎 \\n                👆 Clique aqui: https://t.co/0nbkNBfh4Y 👆                                                                    257 \n",
       "🤨                                                                                                                                                                     255 \n",
       "Esquerda sempre. \"Un sueno que suenas solo, és solo un sueno. Un sueno que suenas con alguien más, és una realidad,\" Dijo John Lennon                                 254 \n",
       "“É que a democracia, como qualquer sonho, não se faz com palavras desencarnadas, mas com reflexão e prática”. Paulo Freire                                            253 \n",
       "Bacharel em Jornalismo e Publicidade,pela UNICEUB; Ouvinte Mestrado em Economia e Política para Países de Terceiro Mundo, pelo IEDES INSTITUT D’ETUDE, SORBONNE       247 \n",
       "Name: user_bio, dtype: int64"
      ]
     },
     "execution_count": 97,
     "metadata": {},
     "output_type": "execute_result"
    }
   ],
   "source": [
    "df['user_bio'].value_counts().iloc[0:50]"
   ]
  },
  {
   "cell_type": "code",
   "execution_count": 103,
   "metadata": {},
   "outputs": [
    {
     "data": {
      "text/plain": [
       "15869    Bolsonaro diz que decisão sobre Venezuela é exclusivamente dele https://t.co/7NWr6VO2ew                                                                                                                                                                                                          \n",
       "20608    QUANDO ESTOU DIANTE DA TV E VEJO ANUNCIAR QUE :\\nSou somente eu que sente um embrulho no estômago quando ouço \"Presidente Bolsonaro\" ou tem mais alguém?😤🤐🤕🤒                                                                                                                                     \n",
       "59763    Patrocínios retirados em evento de homenagem a Bolsonaro. \\nEnquanto deputado, vergonha nacional.\\nAgora presidente, a vergonha é mundial.\\n#CancelBolsonaro                                                                                                                                     \n",
       "60045    O Financial Times é mais um dos que cancelaram o patrocínio ao jantar em homenagem à Bolsonaro nos EUA. Ontem, foi a aerolínea Delta. A consultoria Bain também pulou fora. Bolsonaro é um pária internacional e uma vergonha amazônica para o Brasil.                                           \n",
       "64390    Guilherme Boulos, do MTST, convoca a classe trabalhadora a participar da #GreveGeral no próximo dia 14 de junho, para que se crie a resistência necessária para barrar a reforma da Previdência. #DiadoTrabalhador https://t.co/ii6GumgNfO https://t.co/ufc40HWydR                               \n",
       "64491    Quantos esquemas dava pra organizar em um churrasco de domingo com a família Bolsonaro e o Queiroz?\\n\\n#CadêOQueiroz https://t.co/OIZTkGcAll                                                                                                                                                     \n",
       "2656     Se essa moda pega... O Salles vai mostrar cicatrizes de flechadas de indígenas; a Musa do Veneno, marcas de contaminação por alimentos orgânicos; os min. generais,  cicatrizes das 3 guerras mundiais... E se a Damares desnudar \"estragos do estupro\"?  https://t.co/nytSptovom                \n",
       "4862     Bolsonaro mantém o título internacional de idiota de ouro. Vc enganou os bolsolixos, mas não engana o mundo. @jairbolsonaro https://t.co/vPm2Rer8je                                                                                                                                              \n",
       "20261    Governo Bolsonaro coleciona vários avanços até agora:\\nAvanço no preço da gasolina\\nAvanço no preço do feijão\\nAvanço no preço do tomate\\nAvanço da ignorância\\nAvanço no preconceito\\nAvanço da baixaria\\nAvanço do laranjal\\nAvanço no tempo de serviço para se aposentar\\nAvanço no desemprego\n",
       "51220    Sem conseguir explicar a sua relação com o motorista Fabrício Queiroz, Flávio Bolsonaro deve se tornar formalmente investigado pelo MPRJ, que vai pedir a quebra dos sigilos fiscais e bancários do senador e do seu ex-motorista. https://t.co/kudFNCLpa7                                       \n",
       "Name: description, dtype: object"
      ]
     },
     "execution_count": 103,
     "metadata": {},
     "output_type": "execute_result"
    }
   ],
   "source": [
    "criteria = df['user_bio'] == \"#lulalivre\"\n",
    "teste = df[criteria][\"description\"]\n",
    "teste.iloc[0:10]"
   ]
  },
  {
   "cell_type": "code",
   "execution_count": 104,
   "metadata": {},
   "outputs": [
    {
     "data": {
      "text/plain": [
       "342     Eduardo Bolsonaro está na fronteira do Brasil com a Venezuela apoiando a tentativa de golpe. Uma interferência inaceitável em assuntos externos.                                                                                                                                           \n",
       "381     eu denomino este governo de DITADURA MILITAR ELEITA. muita gente diz que é um exagero. aí hoje bolsonaro pune universidades públicas com corte de verbas por BALBÚRDIA, ou seja, manifestações políticas, EXATAMENTE COMO NA OUTRA DITADURA.\\n\\né uma ditadura militar eleita ou não é?    \n",
       "1029    Bolsonaro quero te agradecer por confessar que Lula é preso politico, preso pelo juiz lavajateiro que hoje é seu empregado. \\nObrigada seu desgraçado!                                                                                                                                     \n",
       "1045    Perceberam q o jornalismo Globo q censurou a entrevista de Lula entrou pilhado hj no discurso de q o golpe de estado na Venezuela estava dando certo e os âncoras agora não sabem o q fazer c a derrota?\\n\\nE ainda tem gente q acha q a Globo é oposição a Bolsonaro.\\n\\nTolinhos.        \n",
       "3033    No dia que foi anunciada a pesquisa do IBGE indicando que o Brasil tem 13 milhões e 400 mil desempregados, Jair e Eduardo Bolsonaro passaram o dia tentando derrubar o governo da Venezuela. Fracassaram! Quanto ao desemprego, não é prioridade para eles!                                \n",
       "5070    O jornal nacional prontinho achando que o Maduro fosse cair e se deu mal.\\nAí, fica arrumando teorias da conspiração.\\nBolsonaro ladra, mas, não morde, diz que vai fazer e acontecer e Putin só rindo da cara dele.\\nO babaca do Eduardo querendo aparecer vai pra fronteira, fazer o quê?\n",
       "5208    Financial Times, Delta e consultoria suspendem patrocínio de evento pró-Bolsonaro em Nova York 🤣🤣🤣 https://t.co/DjtRY55skE via @iG                                                                                                                                                         \n",
       "5253    Vou propor um projeto de lei para que o presidente da república tenha que se submeter a um teste de sanidade mental antes da diplomação e o mesmo teste seja obrigatório para qualquer pessoas para quem ele informe as senhas das redes sociais que utiliza. #Bolsonaro #Milicianos       \n",
       "5358    Bolsonaro é CONTRA tributar grandes fortunas ou os mais ricos, mas é A FAVOR de espremer idosos em situação de miserabilidade e trabalhadores rurais para tirar mais R$ 1,2 trilhão do bolso dos mais pobres em sua Reforma da Previdência. https://t.co/9orQEdaxUP                        \n",
       "5371    Reforma de Bolsonaro: mais pobres vão pagar o preço da crise econômica\\n\\nPara Marcio Pochmann, a economia de R$ 1,2 trilhão anunciada pelo governo com a reforma da Previdência não tem fundamento econômico\\n\\nhttps://t.co/5GI3Bgs6HS via @CUT_Brasil #1MAgoraÉGreve                    \n",
       "Name: description, dtype: object"
      ]
     },
     "execution_count": 104,
     "metadata": {},
     "output_type": "execute_result"
    }
   ],
   "source": [
    "criteria = df['user_bio'] == \"#LulaLivre\"\n",
    "teste = df[criteria][\"description\"]\n",
    "teste.iloc[0:10]"
   ]
  },
  {
   "cell_type": "code",
   "execution_count": 105,
   "metadata": {},
   "outputs": [
    {
     "data": {
      "text/plain": [
       "6271     Estudantes de Pouso Alegre/MG realizaram um protesto contra o corte de verba na Educação anunciado pelo governo Bolsonaro na semana passada. O bloqueio de verba passa de 30% no orçamento anual de algumas universidades e institutos. https://t.co/NL2cEOi7hO                         \n",
       "9195     Em entrevista à Band, Bolsonaro confirma que indicará Sérgio Moro p/ o STF (ñ é bem uma novidade). Segundo o presidente para cumprir uma promessa que havia feito a ele. Que promessa, a de condenar Lula? Se não fecharem o STF antes, em novembro de 2020 Celso de Mello deixa a Corte\n",
       "10200    Há 41 anos, em 12.5 de 1978, a greve dos metalúrgicos no ABC paulista introduziu novo ator político que foi decisivo para o fim do autoritarismo militar. Lula que ascendeu como líder sindical tornou-se presidente e hoje segue preso político da plutocracia que sustenta Bolsonaro. \n",
       "21049    O Prefeito de Nova York é “bobalhão”, “paspalhão”, “feio” e “cara de minhoca”,\\n\\nQuem falou isso, uma criança do pré?\\nNão!\\nUm adolescente revoltado? \\nNão! \\nQuem falou?  \\nJair Bolsonaro !                                                                                        \n",
       "21104    Uma vaga no Supremo Tribunal Federal. Esse foi o preço que Sérgio Moro cobrou para tirar Lula da eleição de 2018. \\nBolsonaro diz que vai indicar Sergio Moro para vaga no STF https://t.co/rVD7Kx7Nh4                                                                                  \n",
       "22240    ATO\\n\\nDE\\n\\nOFÍCIO\\n\\nINDETERMINADO\\n\\n...\\n\\nNINGUÉM\\n\\nESTÁ\\n\\nACIMA\\n\\nDA\\n\\nLEI\\n\\nhttps://t.co/D1SwNxXFpk                                                                                                                                                                         \n",
       "23740    Tadinho desse injustiçado... https://t.co/FG3QhMKKJz                                                                                                                                                                                                                                    \n",
       "23779    Nunca entendi como o juiz Moro poderia aceitar meninos de azul e meninas de rosa,fuzilamento  de cantor no RJ,homofobia,entreguismo,fim de direitos ...\\nHoje Bolsonaro explicou tudo, “foi um acordo para indicar Moro para o STF”!\\nA velha e sordida politica do “troca, troca”?     \n",
       "23917    Bolsonaro anuncia Moro no STF. É propina paga por ter condenado e impedido Lula na eleição presidencial.                                                                                                                                                                                \n",
       "23940    Conta do Jair Bolsonaro no Twitter 4.191.694 'seguidores' sendo que:\\n\\n- 60.9% são contas inativas (2.516.985 milhões)\\n- 59% não falam português\\n- 61% são contas novas\\n- 18% s/ foto\\n- 17% de retweets vem de contas com menos de 10 seguidores\\n\\nhttps://t.co/v4WtJ5mvLv        \n",
       "Name: description, dtype: object"
      ]
     },
     "execution_count": 105,
     "metadata": {},
     "output_type": "execute_result"
    }
   ],
   "source": [
    "criteria = df['user_bio'] == \"«Todas las pistas que llevan a Bolsonaro» #LulaLivre #LulaInocente #QuemMatouMarielle #BrésilSousRégimeFasciste\"\n",
    "teste = df[criteria][\"description\"]\n",
    "teste.iloc[0:10]"
   ]
  },
  {
   "cell_type": "code",
   "execution_count": 106,
   "metadata": {},
   "outputs": [
    {
     "data": {
      "text/plain": [
       "Twitter for Android                543559\n",
       "Twitter for iPhone                 218025\n",
       "Twitter Web App                    92567 \n",
       "Twitter Web Client                 89932 \n",
       "Facebook                           27248 \n",
       "Twitter for iPad                   8985  \n",
       "TweetDeck                          4495  \n",
       "WordPress.com                      1799  \n",
       "IFTTT                              1197  \n",
       "dlvr.it                            1074  \n",
       "Mobile Web (M2)                    689   \n",
       "Instagram                          539   \n",
       "AutoPost Viper IT                  488   \n",
       "Curious Cat                        405   \n",
       "Zapier.com                         404   \n",
       "Hootsuite Inc.                     392   \n",
       "Tweetbot for iΟS                   247   \n",
       "TweetCaster for Android            241   \n",
       "mLabs - Gestão de Redes Sociais    194   \n",
       "Google                             174   \n",
       "Echofon                            171   \n",
       "Tumblr                             148   \n",
       "Buffer                             131   \n",
       "Twitterrific for iOS               122   \n",
       "Tweetbot for Mac                   108   \n",
       "adkasokdçlaksdç                    79    \n",
       "TW Blue                            74    \n",
       "Folha com welcome-app 1.0          70    \n",
       "SocialFlow                         69    \n",
       "jornaltijucas agenciadeno          69    \n",
       "Paper.li                           58    \n",
       "Twidere for Android #7             58    \n",
       "pastandopouco                      54    \n",
       "Blog2Social APP                    53    \n",
       "Polílica Livre                     48    \n",
       "Folha Poder welcome-app 1.0        47    \n",
       "Flamingo for Android               41    \n",
       "Twidere for Android #8             40    \n",
       "Republicaposting                   40    \n",
       "DesculpasDoPT                      39    \n",
       "NeyLopes                           38    \n",
       "swonkie                            36    \n",
       "TheBoBoBot_ebooks                  35    \n",
       "Twitter Media Studio               34    \n",
       "Work In Ideas - WiiD               34    \n",
       "SnappyTV.com                       33    \n",
       "Gab.ai                             33    \n",
       "The Tweeted Times                  31    \n",
       "O Sul                              31    \n",
       "jc_pe                              30    \n",
       "Name: source, dtype: int64"
      ]
     },
     "execution_count": 106,
     "metadata": {},
     "output_type": "execute_result"
    }
   ],
   "source": [
    "df['source'].value_counts().iloc[0:50]"
   ]
  },
  {
   "cell_type": "code",
   "execution_count": 107,
   "metadata": {},
   "outputs": [],
   "source": [
    "#df.set_index('pubdate', inplace=True)"
   ]
  }
 ],
 "metadata": {
  "kernelspec": {
   "display_name": "Python 3",
   "language": "python",
   "name": "python3"
  },
  "language_info": {
   "codemirror_mode": {
    "name": "ipython",
    "version": 3
   },
   "file_extension": ".py",
   "mimetype": "text/x-python",
   "name": "python",
   "nbconvert_exporter": "python",
   "pygments_lexer": "ipython3",
   "version": "3.7.1"
  }
 },
 "nbformat": 4,
 "nbformat_minor": 2
}
