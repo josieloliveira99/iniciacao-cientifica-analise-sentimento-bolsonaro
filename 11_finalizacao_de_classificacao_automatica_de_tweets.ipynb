{
 "cells": [
  {
   "cell_type": "code",
   "execution_count": 1,
   "metadata": {},
   "outputs": [],
   "source": [
    "import pandas as pd\n",
    "import random\n",
    "import re\n",
    "import utils.functions as f\n",
    "from utils.stop_words_custom import my_stop_words as stop_words\n",
    "pd.set_option('display.max_colwidth', -1)"
   ]
  },
  {
   "cell_type": "code",
   "execution_count": 3,
   "metadata": {},
   "outputs": [],
   "source": [
    "df_all = f.get_data('data/09_columns_deleteds/columns_deleteds.xlsx')"
   ]
  },
  {
   "cell_type": "code",
   "execution_count": 4,
   "metadata": {},
   "outputs": [],
   "source": [
    "df_all.dropna(subset=['description'],inplace=True)"
   ]
  },
  {
   "cell_type": "code",
   "execution_count": 13,
   "metadata": {},
   "outputs": [
    {
     "name": "stdout",
     "output_type": "stream",
     "text": [
      "<class 'pandas.core.frame.DataFrame'>\n",
      "Int64Index: 226772 entries, 834 to 20829\n",
      "Data columns (total 6 columns):\n",
      "pubdate            226772 non-null datetime64[ns]\n",
      "id                 226772 non-null int64\n",
      "author             226772 non-null object\n",
      "description        226772 non-null object\n",
      "user_created_at    226772 non-null object\n",
      "user_bio           171591 non-null object\n",
      "dtypes: datetime64[ns](1), int64(1), object(4)\n",
      "memory usage: 12.1+ MB\n"
     ]
    }
   ],
   "source": [
    "df_all.info()"
   ]
  },
  {
   "cell_type": "code",
   "execution_count": 29,
   "metadata": {},
   "outputs": [],
   "source": [
    "# Desfavoráveis\n",
    "marielle = []\n",
    "queiroz  = []\n",
    "milicia  = []\n",
    "balburdia  = []\n",
    "reeleicao = []\n",
    "minion = []\n",
    "tomar_no_cu = []\n",
    "golpe = []\n",
    "ditadura = []\n",
    "ustra = []\n",
    "lula_livre = []\n",
    "preso_politico = []\n",
    "corte_de_verbas = []\n",
    "bozo = []\n",
    "fascis = []\n",
    "nazis = []\n",
    "idiotas_uteis = []\n",
    "moro_vendido = []\n",
    "vaga = []\n",
    "laranja = []\n",
    "educacao = []\n",
    "greve = []\n",
    "contra_a_reforma = []\n",
    "vai_ter_luta = []\n",
    "cuba = []\n",
    "\n",
    "# Favoráveis\n",
    "mortadela = []\n",
    "bolsonaro_warrior = []\n",
    "porte_armas = []\n",
    "brasil_weintraub =[]\n",
    "bolsonaro_nosso_presidente = []\n",
    "bolsonaro_tem_razao = []\n",
    "deus_brasil_bolsonaro = []\n",
    "dia_26_eu_vou = []\n",
    "dia_26_brasil_ruas = []\n",
    "nordeste_com_bolsonaro =[]\n",
    "domingo_pelo_brasil =[]\n",
    "quem_mandou_matar_bolsonaro =[]\n",
    "bolsonaro_no_the_noite =[]\n",
    "\n",
    "\n",
    "bom_presidente = []\n",
    "bolsonaro_ser = []\n",
    "\n",
    "for index,row in df_all.iterrows():\n",
    "    if \"marielle\" in str(row[\"description\"]).lower():\n",
    "        marielle.append(row[\"description\"])\n",
    "    elif \"queiroz\" in str(row[\"description\"]).lower():\n",
    "        queiroz.append(row[\"description\"])\n",
    "    elif \"milícia\" in str(row[\"description\"]).lower():\n",
    "        milicia.append(row[\"description\"])\n",
    "    elif \"balbúrdia\" in str(row[\"description\"]).lower():\n",
    "        balburdia.append(row[\"description\"])\n",
    "    elif \"2022\" in str(row[\"description\"]).lower():\n",
    "        reeleicao.append(row[\"description\"])\n",
    "    elif \"minion\" in str(row[\"description\"]).lower():\n",
    "        minion.append(row[\"description\"])\n",
    "    elif \"tomar no cú\" in str(row[\"description\"]).lower() or \"tomar no cu\" in str(row[\"description\"]).lower():\n",
    "        tomar_no_cu.append(row[\"description\"])\n",
    "    elif \"golpe\" in str(row[\"description\"]).lower():\n",
    "        golpe.append(row[\"description\"])\n",
    "    elif \"ditadura\" in str(row[\"description\"]).lower():\n",
    "        ditadura.append(row[\"description\"])\n",
    "    elif \"ustra\" in str(row[\"description\"]).lower():\n",
    "        ditadura.append(row[\"description\"])\n",
    "    elif \"lulalivre\" in str(row[\"description\"]).lower():\n",
    "        lula_livre.append(row[\"description\"])\n",
    "    elif \"preso político\" in str(row[\"description\"]).lower():\n",
    "        preso_politico.append(row[\"description\"])\n",
    "    elif \"corte de verbas\" in str(row[\"description\"]).lower():\n",
    "        corte_de_verbas.append(row[\"description\"])\n",
    "    elif \"bozo\" in str(row[\"description\"]).lower():\n",
    "        bozo.append(row[\"description\"])\n",
    "    elif \"fascis\" in str(row[\"description\"]).lower():\n",
    "        fascis.append(row[\"description\"])\n",
    "    elif \"nazis\" in str(row[\"description\"]).lower():\n",
    "        nazis.append(row[\"description\"])\n",
    "    elif \"idiotas úteis\" in str(row[\"description\"]).lower():\n",
    "        idiotas_uteis.append(row[\"description\"])\n",
    "    elif \"#morovendido\" in str(row[\"description\"]).lower():\n",
    "        moro_vendido.append(row[\"description\"])\n",
    "    elif \"vaga \" in str(row[\"description\"]).lower():\n",
    "        vaga.append(row[\"description\"])\n",
    "    elif \"laranja\" in str(row[\"description\"]).lower():\n",
    "        laranja.append(row[\"description\"])\n",
    "    elif \"#tsunaminaeducação\" in str(row[\"description\"]).lower():\n",
    "        educacao.append(row[\"description\"])\n",
    "    elif \"greve\" in str(row[\"description\"]).lower():\n",
    "        greve.append(row[\"description\"])\n",
    "    elif \"contra a reforma da previdência\" in str(row[\"description\"]).lower():\n",
    "        contra_a_reforma.append(row[\"description\"])\n",
    "    elif \"vai ter luta\" in str(row[\"description\"]).lower():\n",
    "        vai_ter_luta.append(row[\"description\"])\n",
    "    elif \"cuba\" in str(row[\"description\"]).lower():\n",
    "        cuba.append(row[\"description\"])\n",
    "    ###############################################################################################################\n",
    "    elif \"bolsonaro é\" in str(row[\"description\"]).lower():\n",
    "        bolsonaro_ser.append(row[\"description\"])\n",
    "    ##############################################################################################################\n",
    "    elif \"mortadela\" in str(row[\"description\"]).lower():\n",
    "        mortadela.append(row[\"description\"])\n",
    "    elif \"#bolsonarowarrior\" in str(row[\"description\"]).lower():\n",
    "        bolsonaro_warrior.append(row[\"description\"])\n",
    "    elif \"#brasilexigeportedearmas\" in str(row[\"description\"]).lower():\n",
    "        porte_armas.append(row[\"description\"])\n",
    "    elif \"#brasilcomweintraub\" in str(row[\"description\"]).lower():\n",
    "        brasil_weintraub.append(row[\"description\"])\n",
    "    elif \"#bolsonaronossopresidente\" in str(row[\"description\"]).lower():\n",
    "        bolsonaro_nosso_presidente.append(row[\"description\"])\n",
    "    elif \"#BolsonaroTemRazao\".lower() in str(row[\"description\"]).lower():\n",
    "        bolsonaro_tem_razao.append(row[\"description\"])\n",
    "    elif \"#DeusBrasilBolsonaro\".lower() in str(row[\"description\"]).lower():\n",
    "        deus_brasil_bolsonaro.append(row[\"description\"])\n",
    "    elif \"#Dia26EuVou\".lower() in str(row[\"description\"]).lower():\n",
    "        dia_26_eu_vou.append(row[\"description\"])\n",
    "    elif \"#Dia26BrasilNasRuas\".lower() in str(row[\"description\"]).lower():\n",
    "        dia_26_brasil_ruas.append(row[\"description\"])\n",
    "    elif \"#NordesteComBolsonaro\".lower() in str(row[\"description\"]).lower():\n",
    "        nordeste_com_bolsonaro.append(row[\"description\"])\n",
    "    elif \"#DomingoPeloBrasil\".lower() in str(row[\"description\"]).lower():\n",
    "        domingo_pelo_brasil.append(row[\"description\"])\n",
    "    elif \"#QuemMandouMatarBolsonaro\".lower() in str(row[\"description\"]).lower():\n",
    "        quem_mandou_matar_bolsonaro.append(row[\"description\"])\n",
    "    elif \"#BolsonaroNoTheNoite\".lower() in str(row[\"description\"]).lower():\n",
    "        bolsonaro_no_the_noite.append(row[\"description\"])\n",
    "    elif \"bom presidente\" in str(row[\"description\"]).lower():\n",
    "        bom_presidente.append(row[\"description\"])"
   ]
  },
  {
   "cell_type": "code",
   "execution_count": 30,
   "metadata": {},
   "outputs": [
    {
     "data": {
      "text/plain": [
       "161"
      ]
     },
     "execution_count": 30,
     "metadata": {},
     "output_type": "execute_result"
    }
   ],
   "source": [
    "len(mortadela)"
   ]
  },
  {
   "cell_type": "code",
   "execution_count": 31,
   "metadata": {},
   "outputs": [
    {
     "data": {
      "text/plain": [
       "['🇧🇷🇧🇷👉👉👉😎💚💛 Bolsonaro Orgulho do Brasil 🇧🇷💛💚💚🇧🇷🇧🇷#BolsonaroWarrior https://t.co/jgu0Jvnc28',\n",
       " 'BOLSONARO GUERREIRO, ORGULHO BRASILEIRO...\\n#BolsonaroWarrior https://t.co/XQtTDic1t3',\n",
       " 'A nossa força vem dos nossos ideais e valores comuns. Quem votou no Bolsonaro tem um projeto de Brasil que quer ver executado. Mais do que isso está ajudando a executar. Não é difícil entender isso. Corruptos se aquitem, nós somos o tsunami e estamos à porta #BolsonaroWarrior https://t.co/GvXQnvSHJO',\n",
       " 'Orgulho de ser Bolsonaro #BolsonaroWarrior https://t.co/IUrmumbsaq',\n",
       " 'Nós que escolhemos Bolsonaro não temos o direito de desistir, deixar ele sozinho para enfrentar vampiros da Nação #BolsonaroWarrior https://t.co/j8iVMjYWPw',\n",
       " '🇧🇷🇧🇷 Bolsonaro guerreiro, orgulho brasileiro. #BolsonaroWarrior https://t.co/AIfkUu3Yjq',\n",
       " 'Bolsonaro Guerreiro                               Estamos juntos Capitão                       #BolsonaroWarrior https://t.co/ET1yJZJY8M',\n",
       " 'Estamos todos com vc presidente do nosso Brasil\\nJair Bolsonaro! 🇧🇷👊🇧🇷\\n\\n#BolsonaroWarrior https://t.co/VoGNe8VLm5',\n",
       " 'A eleição dei Bolsonaro nis revelou em tão pouco tempo o teatro que i Congresso se tirnou há anos. Um Teatro dos Horrores. Nunca houve oposição à implantação das teses marxistas no pais. \\nPorisso #BolsonaroWarrior\\nPrecisa dos seus eleitores unidos.',\n",
       " '@CassioLacerdaBR @urbano_caos @jairbolsonaro Força presidente Bolsonaro \\n#BolsonaroWarrior']"
      ]
     },
     "execution_count": 31,
     "metadata": {},
     "output_type": "execute_result"
    }
   ],
   "source": [
    "bolsonaro_warrior[0:10]"
   ]
  },
  {
   "cell_type": "code",
   "execution_count": 32,
   "metadata": {},
   "outputs": [
    {
     "data": {
      "text/plain": [
       "904"
      ]
     },
     "execution_count": 32,
     "metadata": {},
     "output_type": "execute_result"
    }
   ],
   "source": [
    "len(bolsonaro_nosso_presidente)"
   ]
  },
  {
   "cell_type": "code",
   "execution_count": 34,
   "metadata": {},
   "outputs": [
    {
     "data": {
      "text/plain": [
       "16593"
      ]
     },
     "execution_count": 34,
     "metadata": {},
     "output_type": "execute_result"
    }
   ],
   "source": [
    "negative = marielle + queiroz + milicia + balburdia + minion + tomar_no_cu + golpe + ditadura + lula_livre\n",
    "negative = negative + preso_politico + corte_de_verbas + bozo + fascis + nazis + idiotas_uteis + mortadela \n",
    "negative = negative + moro_vendido + vaga + laranja + educacao + greve + contra_a_reforma + vai_ter_luta\n",
    "\n",
    "len(negative)"
   ]
  },
  {
   "cell_type": "code",
   "execution_count": 35,
   "metadata": {},
   "outputs": [
    {
     "data": {
      "text/plain": [
       "6245"
      ]
     },
     "execution_count": 35,
     "metadata": {},
     "output_type": "execute_result"
    }
   ],
   "source": [
    "positive = mortadela + bolsonaro_warrior + porte_armas + brasil_weintraub + bolsonaro_nosso_presidente + reeleicao\n",
    "positive = positive + bolsonaro_tem_razao + deus_brasil_bolsonaro + dia_26_eu_vou + dia_26_brasil_ruas + nordeste_com_bolsonaro\n",
    "positive = positive + domingo_pelo_brasil + quem_mandou_matar_bolsonaro + bolsonaro_no_the_noite + cuba\n",
    "\n",
    "len(positive)"
   ]
  },
  {
   "cell_type": "code",
   "execution_count": 37,
   "metadata": {},
   "outputs": [
    {
     "data": {
      "text/plain": [
       "16593"
      ]
     },
     "execution_count": 37,
     "metadata": {},
     "output_type": "execute_result"
    }
   ],
   "source": [
    "def unique(list1): \n",
    "    unique_list = [] \n",
    "    for x in list1: \n",
    "        if x not in unique_list: \n",
    "            unique_list.append(x) \n",
    "    return unique_list\n",
    "\n",
    "uniques = unique(negative)\n",
    "len(uniques)"
   ]
  },
  {
   "cell_type": "code",
   "execution_count": 38,
   "metadata": {},
   "outputs": [
    {
     "data": {
      "text/plain": [
       "502"
      ]
     },
     "execution_count": 38,
     "metadata": {},
     "output_type": "execute_result"
    }
   ],
   "source": [
    "len(marielle)"
   ]
  },
  {
   "cell_type": "code",
   "execution_count": 39,
   "metadata": {},
   "outputs": [
    {
     "data": {
      "text/plain": [
       "2532"
      ]
     },
     "execution_count": 39,
     "metadata": {},
     "output_type": "execute_result"
    }
   ],
   "source": [
    "len(queiroz)"
   ]
  },
  {
   "cell_type": "code",
   "execution_count": 40,
   "metadata": {},
   "outputs": [
    {
     "data": {
      "text/plain": [
       "1183"
      ]
     },
     "execution_count": 40,
     "metadata": {},
     "output_type": "execute_result"
    }
   ],
   "source": [
    "len(milicia)"
   ]
  },
  {
   "cell_type": "code",
   "execution_count": 41,
   "metadata": {},
   "outputs": [
    {
     "data": {
      "text/plain": [
       "331"
      ]
     },
     "execution_count": 41,
     "metadata": {},
     "output_type": "execute_result"
    }
   ],
   "source": [
    "len(balburdia)"
   ]
  },
  {
   "cell_type": "code",
   "execution_count": 42,
   "metadata": {},
   "outputs": [
    {
     "data": {
      "text/plain": [
       "2161"
      ]
     },
     "execution_count": 42,
     "metadata": {},
     "output_type": "execute_result"
    }
   ],
   "source": [
    "len(reeleicao)"
   ]
  },
  {
   "cell_type": "code",
   "execution_count": 43,
   "metadata": {},
   "outputs": [
    {
     "data": {
      "text/plain": [
       "2051"
      ]
     },
     "execution_count": 43,
     "metadata": {},
     "output_type": "execute_result"
    }
   ],
   "source": [
    "len(minion)"
   ]
  },
  {
   "cell_type": "code",
   "execution_count": 44,
   "metadata": {},
   "outputs": [
    {
     "data": {
      "text/plain": [
       "964"
      ]
     },
     "execution_count": 44,
     "metadata": {},
     "output_type": "execute_result"
    }
   ],
   "source": [
    "len(tomar_no_cu)"
   ]
  },
  {
   "cell_type": "code",
   "execution_count": 45,
   "metadata": {},
   "outputs": [
    {
     "data": {
      "text/plain": [
       "1419"
      ]
     },
     "execution_count": 45,
     "metadata": {},
     "output_type": "execute_result"
    }
   ],
   "source": [
    "len(golpe)"
   ]
  },
  {
   "cell_type": "code",
   "execution_count": 46,
   "metadata": {},
   "outputs": [
    {
     "data": {
      "text/plain": [
       "1133"
      ]
     },
     "execution_count": 46,
     "metadata": {},
     "output_type": "execute_result"
    }
   ],
   "source": [
    "len(ditadura)"
   ]
  },
  {
   "cell_type": "code",
   "execution_count": 47,
   "metadata": {},
   "outputs": [
    {
     "data": {
      "text/plain": [
       "625"
      ]
     },
     "execution_count": 47,
     "metadata": {},
     "output_type": "execute_result"
    }
   ],
   "source": [
    "len(lula_livre)"
   ]
  },
  {
   "cell_type": "code",
   "execution_count": 48,
   "metadata": {},
   "outputs": [
    {
     "data": {
      "text/plain": [
       "47"
      ]
     },
     "execution_count": 48,
     "metadata": {},
     "output_type": "execute_result"
    }
   ],
   "source": [
    "len(preso_politico)"
   ]
  },
  {
   "cell_type": "code",
   "execution_count": 49,
   "metadata": {},
   "outputs": [
    {
     "data": {
      "text/plain": [
       "185"
      ]
     },
     "execution_count": 49,
     "metadata": {},
     "output_type": "execute_result"
    }
   ],
   "source": [
    "len(corte_de_verbas)"
   ]
  },
  {
   "cell_type": "code",
   "execution_count": 50,
   "metadata": {},
   "outputs": [
    {
     "data": {
      "text/plain": [
       "1051"
      ]
     },
     "execution_count": 50,
     "metadata": {},
     "output_type": "execute_result"
    }
   ],
   "source": [
    "len(bozo)"
   ]
  },
  {
   "cell_type": "code",
   "execution_count": 51,
   "metadata": {},
   "outputs": [
    {
     "data": {
      "text/plain": [
       "1251"
      ]
     },
     "execution_count": 51,
     "metadata": {},
     "output_type": "execute_result"
    }
   ],
   "source": [
    "len(fascis)"
   ]
  },
  {
   "cell_type": "code",
   "execution_count": 52,
   "metadata": {},
   "outputs": [
    {
     "data": {
      "text/plain": [
       "413"
      ]
     },
     "execution_count": 52,
     "metadata": {},
     "output_type": "execute_result"
    }
   ],
   "source": [
    "len(nazis)"
   ]
  },
  {
   "cell_type": "code",
   "execution_count": 53,
   "metadata": {},
   "outputs": [
    {
     "data": {
      "text/plain": [
       "567"
      ]
     },
     "execution_count": 53,
     "metadata": {},
     "output_type": "execute_result"
    }
   ],
   "source": [
    "len(idiotas_uteis)"
   ]
  },
  {
   "cell_type": "code",
   "execution_count": 54,
   "metadata": {},
   "outputs": [
    {
     "data": {
      "text/plain": [
       "85"
      ]
     },
     "execution_count": 54,
     "metadata": {},
     "output_type": "execute_result"
    }
   ],
   "source": [
    "len(moro_vendido)"
   ]
  },
  {
   "cell_type": "code",
   "execution_count": 55,
   "metadata": {},
   "outputs": [
    {
     "data": {
      "text/plain": [
       "685"
      ]
     },
     "execution_count": 55,
     "metadata": {},
     "output_type": "execute_result"
    }
   ],
   "source": [
    "len(vaga)"
   ]
  },
  {
   "cell_type": "code",
   "execution_count": 56,
   "metadata": {},
   "outputs": [
    {
     "data": {
      "text/plain": [
       "547"
      ]
     },
     "execution_count": 56,
     "metadata": {},
     "output_type": "execute_result"
    }
   ],
   "source": [
    "len(laranja)"
   ]
  },
  {
   "cell_type": "code",
   "execution_count": 57,
   "metadata": {},
   "outputs": [
    {
     "data": {
      "text/plain": [
       "0"
      ]
     },
     "execution_count": 57,
     "metadata": {},
     "output_type": "execute_result"
    }
   ],
   "source": [
    "len(educacao)"
   ]
  },
  {
   "cell_type": "code",
   "execution_count": 58,
   "metadata": {},
   "outputs": [
    {
     "data": {
      "text/plain": [
       "161"
      ]
     },
     "execution_count": 58,
     "metadata": {},
     "output_type": "execute_result"
    }
   ],
   "source": [
    "len(mortadela)"
   ]
  },
  {
   "cell_type": "code",
   "execution_count": 59,
   "metadata": {},
   "outputs": [
    {
     "data": {
      "text/plain": [
       "44"
      ]
     },
     "execution_count": 59,
     "metadata": {},
     "output_type": "execute_result"
    }
   ],
   "source": [
    "len(bom_presidente)"
   ]
  },
  {
   "cell_type": "code",
   "execution_count": 60,
   "metadata": {},
   "outputs": [
    {
     "data": {
      "text/plain": [
       "659"
      ]
     },
     "execution_count": 60,
     "metadata": {},
     "output_type": "execute_result"
    }
   ],
   "source": [
    "len(greve)"
   ]
  },
  {
   "cell_type": "code",
   "execution_count": 61,
   "metadata": {},
   "outputs": [
    {
     "data": {
      "text/plain": [
       "186"
      ]
     },
     "execution_count": 61,
     "metadata": {},
     "output_type": "execute_result"
    }
   ],
   "source": [
    "len(contra_a_reforma)"
   ]
  },
  {
   "cell_type": "code",
   "execution_count": 62,
   "metadata": {},
   "outputs": [
    {
     "data": {
      "text/plain": [
       "16"
      ]
     },
     "execution_count": 62,
     "metadata": {},
     "output_type": "execute_result"
    }
   ],
   "source": [
    "len(vai_ter_luta)"
   ]
  },
  {
   "cell_type": "code",
   "execution_count": 63,
   "metadata": {},
   "outputs": [
    {
     "data": {
      "text/plain": [
       "339"
      ]
     },
     "execution_count": 63,
     "metadata": {},
     "output_type": "execute_result"
    }
   ],
   "source": [
    "len(cuba)"
   ]
  },
  {
   "cell_type": "code",
   "execution_count": 64,
   "metadata": {},
   "outputs": [
    {
     "data": {
      "text/plain": [
       "9703"
      ]
     },
     "execution_count": 64,
     "metadata": {},
     "output_type": "execute_result"
    }
   ],
   "source": [
    "len(bolsonaro_ser)"
   ]
  },
  {
   "cell_type": "code",
   "execution_count": 65,
   "metadata": {},
   "outputs": [
    {
     "data": {
      "text/plain": [
       "44"
      ]
     },
     "execution_count": 65,
     "metadata": {},
     "output_type": "execute_result"
    }
   ],
   "source": [
    "len(bolsonaro_warrior)"
   ]
  },
  {
   "cell_type": "code",
   "execution_count": 66,
   "metadata": {},
   "outputs": [
    {
     "data": {
      "text/plain": [
       "['@blogdojosias @UOLNoticias @UOL Bolsonaro é o verdadeiro Papagaio de Pirata,acha que é o dono do Mundo.',\n",
       " '@jairbolsonaro Bolsonaro é aquele(a) ex que não aceita o término, não segue a vida, vê o(a) ex com outro(a) e TUDO tem que fazer comparação!!\\n\\nDESAPEGA! \\n\\n... vergonha! 🤦🏻\\u200d♀️',\n",
       " 'Entidade de filosofia diz que fala de Bolsonaro é \"ignorância inadmissível\" https://t.co/VIp2dEOh1R',\n",
       " '@regixss Bolsonaro é o presidente, sem nenhuma mácula em sua moral. Ô Regis, VTNC!\\n#LulaContinuaPresoBABACA https://t.co/ufphgIR9qe',\n",
       " 'O Bolsonaro é o presidente mais honesto e sincero que já tivemos. Quem não gosta dele não presta.',\n",
       " '@BlogdoNoblat Noblat, o senhor já viu algum covarde que não busque o aconchego da segurança? Eduardo Bolsonaro é o famoso macho de redes sociais.',\n",
       " '@Estadao Esse Bolsonaro é um comediante hahahahahaha',\n",
       " 'O Bolsonaro é presidente e vive postando bosta no twitter, acho que vou me candidatar na próxima vez , eu faço isso todos os dias e de graça ainda',\n",
       " 'Bolsonaro é a maior fraquejada dos últimos tempos',\n",
       " 'Ler as postagens da família Bolsonaro é o momento mais engraçado do meu dia. #falandosério',\n",
       " 'Curioso como Bolsonaro é uma figura inexistente na política brasileira depois de 4 meses de mandato. Carlos, Mourão, Moro, Damaris e qualquer outra pessoa irrelevante ou não é mais presente que o presidente.',\n",
       " '@pauloteixeira13 Bolsonaro é ridículo e o PT defendendo ditador é ridículo. Está na hora de articular uma oposição baseada em projetos. Pare de defender ditador.',\n",
       " \"#política via #UOL - 'Bolsonaro é apenas uma peça no xadrez de Trump', diz chanceler venezuelano https://t.co/jGDyfV9NVE\",\n",
       " \"#política via #Folha - 'Bolsonaro é apenas uma peça no xadrez de Trump', diz chanceler venezuelano https://t.co/jGDyfV9NVE\",\n",
       " '@JornalOGlobo A fala do Bolsonaro é de quem que está realmente preocupado com a situação. Já o do Rodrigo Maia é de quem está preocupado com a política.',\n",
       " 'Bolsonaro é flagrado fazendo conversão à esquerda sem uso da seta, diz Folha · Otávio Sá Leitão https://t.co/pJCAHWcBfe',\n",
       " 'CNN esclarece: \"Delta corta apoio ao evento de Jair Bolsonaro, conhecido por posicionamentos racistas, homofóbicos e misóginos\"\\n\\nA realidade é clara: Bolsonaro é um idiota internacional.\\nhttps://t.co/JKk9J0JfmR',\n",
       " '@felipeneto Esse povo é muito ignorante. O livro de cabeceira do bolsonaro é de um assassino, torturador e covarde. O cara violentou uma mulher na frente dos dois filhos. Esse povo passa muito tempo na internet e só aprende e repete 💩 .',\n",
       " \"'O que espanta nas declarações de Bolsonaro é o que ele mostra não entender' https://t.co/46Q5rE9K4R\",\n",
       " '@o_antagonista vai firme @angelocoronel_   se vc acha mesmo que bolsonaro é qualquer um, os bonzão tentaram néh e  perderam feio, não tem haver com conhecer o brasil oque falta e vergonha cara o dia que vcs tiveram 1% de  patriotismo é honestidade, decência de bolsonaro vcs quem sabe  !.',\n",
       " '@jairbolsonaro Bolsonaro é a melhor coisa que podia ter acontecido ao Brasil.',\n",
       " 'Tipo assim, Bolsonaro é T-Rex da humanidade. Cérebro do tamanho de um noz e fazendo estrago comparável a um asteroide.',\n",
       " '120 dias de mundo cão: governo Bolsonaro é movido a vingança e ódio https://t.co/tWAYtjLatA',\n",
       " '120 dias de mundo cão: governo Bolsonaro é movido a vingança e ódio https://t.co/GBv0aX3VcT',\n",
       " 'Resultado da política machista de Bolsonaro é aumento de feminicídios no Brasil em 2019 https://t.co/5TSntOEVWa',\n",
       " '@brasil247 Bolsonaro é o karai',\n",
       " '@RodrigoMaia Tbm compete ao congresso aprovar o pacote ANTICRIME do Moro. Mas parece q alguns parlamentares tem medo desses projetos. O senhor pode respoder p tdos nós? O senhor deve entender q Bolsonaro é MITO e usa redes sociais p informar o povo. Vc é apenas um oportunista incompetente...',\n",
       " '@MarceloTas Esse Bolsonaro é mesmo um racista, comparou VIADOS de Pelotas com produto de exportação... \\nChamou mulheres de GRELO DURO.\\nFez pouco caso de uma mulher que trabalhava no Santander,,,, esse Bolsonaro nao presta.',\n",
       " '@LMilhati Ainnn....  discurso de ódio.... eleitor do Bolsonaro é assim ... vão tomar no rabo seus fudidos!',\n",
       " \"'Bolsonaro é apenas uma peça no xadrez de Trump', diz chanceler venezuelano -... https://t.co/RKqbdFj5Uc\",\n",
       " '@MarceloTas Esqueceu de dizer que Jair Bolsonaro é FRACO DAS IDÉIAS.  Fraquíssimo aliás.',\n",
       " '@monicabergamo @jaarreaza Bolsonaro é o peão que será abatido \"en passant\".',\n",
       " '@skalivv @Rafael42140432 @PurperK @aquelejean @Marcell26088988 @sabrinauchoa @Haddad_Fernando Quem tá surtando é você Diego... governo Bolsonaro é o maior apoiador da liberdade de expressão (segundo você, há censura) e gastando dinheiro errado. Quem é você pra dizer que gastos são certos ou errados? Rapaz, surta não querido.',\n",
       " '@jaarreaza @jairbolsonaro Bolsonaro é uma vergonha para o povo brasileiro, e para o mundo, não nos representa! Pedimos desculpas por este sujeito que assumiu a presidência do nosso país, já conseguiu conflitos com vários países do mundo em somente 4 meses de posse, inclusive não é bem vindo em Nova York',\n",
       " 'Tem milicianos no poder e muita grana rolando solta... quem se exalta logo cala a boca!!! Bolsonaro é o chefe e quem prende é Moro !!!! https://t.co/O51QhbvXcR',\n",
       " 'Doutor, eu não me engano!\\nO Bolsonaro é miliciano!',\n",
       " 'Bolsonaro é uma versão de Hittler deformado, pancado da ideia!!! Por isso só está fazendo cagada !!! https://t.co/UyMwdsH802',\n",
       " '120 dias de mundo cão: governo Bolsonaro é movido a vingança e ódio https://t.co/QUIFKiqQTt',\n",
       " '@jpintocoelho60 @jairbolsonaro A verdade é que o Presidente Bolsonaro é amado pelo povo brasileiro. A esquerda é igual no mundo inteiro.  Obrigada elo apoio e boa sorte na sua luta em Portugal.',\n",
       " 'Thank you Delta \\n\\nBolsonaro é um pária internacional https://t.co/U7EVeDp8ci',\n",
       " 'Primeira visita desde a posse: presidente Jair Bolsonaro é aguardado para abertura da Agrobalsas, dia 20 de maio, na cidade Balsas https://t.co/qTwfsW70KY https://t.co/DjoxtzK5U6',\n",
       " '@alexmo3 @Michell69330944 @UOLNoticias @UOL Bolsonaro é sem noção!!! Desautorizou dois ministros, a não entende seu papel de presidente.... Moro como não quer largar o osso fica quieto e obedece!!! Estamos bem de governo!!! Rumo ao abismo!!!',\n",
       " '\"Bolsonaro é a cara, sem verniz, da elite brasileira.\"  (Breno Altman) https://t.co/4XpQuCY7Fc',\n",
       " 'Bolsonaro é o maior inimigo dos trabalhadores. Sua reforma da previdência vai acabar com a aposentadoria e destruir a previdência pública no Brasil. Neste 1º de maio, vamos fazer história e mostrar pra esse governo que seremos resistência contra todos os ataques e retrocessos! https://t.co/2NdXWw99mo',\n",
       " '@Emsc28 @mariofortes @JornalOGlobo Bolsonaro é pilantra. Não você.',\n",
       " '@RevistaCrusoe Desemprego sobe 10%, gasolina sobe 30% nos primeiros 4 meses e Bolsonaro lambendo botas dos EUA e se metendo com Venezuela. \\n\\nO Bolsonaro é presidente do Brasil ou é funcionário do Trump?!',\n",
       " '@rochafort @monicabergamo Bolsonaro é incompetente e ponto final,até os aliados já jogaram a toalha.',\n",
       " '@SgtDeJesusus Bom trabalho, com Deus tudo dá certo, Bolsonaro é a prova viva disso.',\n",
       " '@monicabergamo @jaarreaza E ta certíssimo Bolsonaro é só uma Maricá do Trump, se o Trump pedir o tóba de Bolsonaro  , acreditem ele fica de 4 rápidinho',\n",
       " 'Bolsonaro é um mico']"
      ]
     },
     "execution_count": 66,
     "metadata": {},
     "output_type": "execute_result"
    }
   ],
   "source": [
    "bolsonaro_ser[0:50]"
   ]
  },
  {
   "cell_type": "code",
   "execution_count": 67,
   "metadata": {},
   "outputs": [
    {
     "data": {
      "text/plain": [
       "['TODOS “AMAM” O NAZISTA!!!!    \\n\\nDelta Airlines retira apoio de homenagem a Bolsonaro - Época https://t.co/NGYlHUrysK',\n",
       " '@caramez_luciano @lelispatricia @jairbolsonaro Pensa um pouco, porque os racistas e neonazistas estão todos do lado de Bolsonaro?',\n",
       " 'capaz de gerações futuras filhotes dessa gente aí falar que o bolsonaro era de esquerda como fazem com nazismo só porque ambos tinha social no nome do partido https://t.co/H5fO7ZojSB',\n",
       " '@JornalOGlobo Ninguém quer a presença dessa nazistinha desgraçado! O mundo odeia bolsonaro!',\n",
       " '@esgarotobom @folha Depende da camiseta que ele for.\\nSe for com uma camiseta do MST de 150 reais, do PT do PSOL. Ele é negro.\\n\\nSe for com uma camiseta do Brasil ou Bolsonaro ele é nazista',\n",
       " 'frio: no brasil, mais predominante no sul e sudeste\\nlogo, pessoas que estão acostumadas com o frio preferem calor\\nsul e sudeste: lugares que  bolsonaro mais ganhou\\n\\nlogo, quem não gosta de frio = nazista',\n",
       " '\"A próxima empresa a declarar o nazista Jair Bolsonaro persona non grata poderá ser a rede…\" — PedroMottadeBarros https://t.co/kmLXiEDoii',\n",
       " 'Este impostor Olavo acaba de receber do nazista Jair Bolsonaro uma medalha que pretende honrá-lo, num ato que, de fato, só serve para detratar a imagem do Brasil. Vergonha. #ImpeachmentdeJairBolsonaroja https://t.co/Cav2HvKRzD',\n",
       " 'Atentemos para o significado do \"mais que perfeito\" que sai da boca pútrida deste nazista Jair Bolsonaro, que desonra a função que ocupa: ser mais truculento, mais anti-intelectualista, ser mais armamentista, ser mais misógino, ser mais homofóbico  #ImpeachmentdeJairBolsonaroja. https://t.co/ejuYLUyTjY',\n",
       " 'Bolsonaro é um nazista. #JornaldaCultura']"
      ]
     },
     "execution_count": 67,
     "metadata": {},
     "output_type": "execute_result"
    }
   ],
   "source": [
    "nazis[0:10]"
   ]
  },
  {
   "cell_type": "code",
   "execution_count": 68,
   "metadata": {},
   "outputs": [
    {
     "data": {
      "text/plain": [
       "['Fascistinha faz enquete entre Bolsonaro e Lula e passa vergonha na internet https://t.co/muUcPh5H0i',\n",
       " 'A companhia aérea @Delta está de parabéns por desistir de patrocinar evento em homenagem ao protofascista Jair Bolsonaro. \\n\\nContinue voando em bons ares Delta.',\n",
       " 'primavera fascista vai ser a música tocada de fundo nos movimentos pró impeachment do bolsonaro, podem anotar',\n",
       " '@monicabergamo @jaarreaza Canalha, cara de pau! Os caras passando com tanques por cima das pessoas, mas o bolsonaro é fascista né? Acessora de imprensa de bandido condenado por 9 juízes, em 3 instâncias e defensora de ditador. Só no Brasil um LIXO desse é chamado de jornalista',\n",
       " 'Fascistinha faz enquete entre Bolsonaro e Lula e passa vergonha na internet https://t.co/MtgLrLX3qq',\n",
       " '@jaarreaza @jairbolsonaro Bolsonaro é um vagabundo fascista. Se aposentou com 33 anos, ficou outros 30 no parlamento sem produzir nada que preste. É um merda, um ser humano desagradável.',\n",
       " '@DiHernandes2 @nesimachado @progride_br @joaoozelim @gleisi Se ela opitar por votar nulo vai estar apoiando o fascismo, eu não quero ter o Bolsonaro no poder até 2062 e a gente precisa pensar nisso e é momento da esquerda se unir',\n",
       " '@ptbrasil @gleisi @DeputadoFederal @senadorhumberto Se fosse o Bolsonaro que mandasse tanques sobre a população, vcs chamariam ele de fascista né seus filhos da puta, canalhas e oportunistas!',\n",
       " '@xicosa @CarolDeToni3 Pedir a uma fanática religiosa fascista que \"pense\" é mesma coisa que pedir que alguém da família Bolsonaro trabalhe.',\n",
       " '@pauloteixeira13 @xicograziano Eh Paulo, a Venezuela sofre porque desarmou a população, enganada pelo Chavez. Democrata? NAO! Imperialista. O Bolsonaro esta permitindo que a população tenha arma. Fascista? NAO! Democrata.']"
      ]
     },
     "execution_count": 68,
     "metadata": {},
     "output_type": "execute_result"
    }
   ],
   "source": [
    "fascis[0:10]"
   ]
  },
  {
   "cell_type": "code",
   "execution_count": 71,
   "metadata": {},
   "outputs": [
    {
     "data": {
      "text/plain": [
       "16593"
      ]
     },
     "execution_count": 71,
     "metadata": {},
     "output_type": "execute_result"
    }
   ],
   "source": [
    "len(negative)"
   ]
  },
  {
   "cell_type": "code",
   "execution_count": 72,
   "metadata": {},
   "outputs": [
    {
     "data": {
      "text/plain": [
       "6245"
      ]
     },
     "execution_count": 72,
     "metadata": {},
     "output_type": "execute_result"
    }
   ],
   "source": [
    "len(positive)"
   ]
  },
  {
   "cell_type": "code",
   "execution_count": 74,
   "metadata": {},
   "outputs": [],
   "source": [
    "writer = pd.ExcelWriter(r'data/11_classified/negative.xlsx', engine='xlsxwriter',options={'strings_to_urls': False})\n",
    "pd.DataFrame(negative).to_excel(writer)\n",
    "writer.close()"
   ]
  },
  {
   "cell_type": "code",
   "execution_count": 75,
   "metadata": {},
   "outputs": [],
   "source": [
    "writer = pd.ExcelWriter(r'data/11_classified/positive.xlsx', engine='xlsxwriter',options={'strings_to_urls': False})\n",
    "pd.DataFrame(positive).to_excel(writer)\n",
    "writer.close()"
   ]
  }
 ],
 "metadata": {
  "kernelspec": {
   "display_name": "Python 3",
   "language": "python",
   "name": "python3"
  },
  "language_info": {
   "codemirror_mode": {
    "name": "ipython",
    "version": 3
   },
   "file_extension": ".py",
   "mimetype": "text/x-python",
   "name": "python",
   "nbconvert_exporter": "python",
   "pygments_lexer": "ipython3",
   "version": "3.7.1"
  }
 },
 "nbformat": 4,
 "nbformat_minor": 2
}
