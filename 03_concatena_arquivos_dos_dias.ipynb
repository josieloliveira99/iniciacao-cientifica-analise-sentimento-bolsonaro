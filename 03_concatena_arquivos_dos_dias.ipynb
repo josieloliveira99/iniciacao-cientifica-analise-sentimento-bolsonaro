{
 "cells": [
  {
   "cell_type": "code",
   "execution_count": 1,
   "metadata": {},
   "outputs": [],
   "source": [
    "import pandas as pd\n",
    "import random\n",
    "import utils.functions as f\n",
    "from utils.stop_words_custom import my_stop_words as stop_words\n",
    "pd.set_option('display.max_colwidth', -1)"
   ]
  },
  {
   "cell_type": "code",
   "execution_count": 2,
   "metadata": {},
   "outputs": [],
   "source": [
    "df30 = f.get_data(\"data/01_no_april/30.xlsx\")\n",
    "df31 = f.get_data(\"data/00_initial/31.xlsx\")\n",
    "df32 = f.get_data(\"data/00_initial/32.xlsx\")\n",
    "df33 = f.get_data(\"data/00_initial/33.xlsx\")\n",
    "df34 = f.get_data(\"data/00_initial/34.xlsx\")\n",
    "df35 = f.get_data(\"data/00_initial/35.xlsx\")\n",
    "df36 = f.get_data(\"data/00_initial/36.xlsx\")\n",
    "df37 = f.get_data(\"data/00_initial/37.xlsx\")\n",
    "df38 = f.get_data(\"data/00_initial/38.xlsx\")\n",
    "df39 = f.get_data(\"data/00_initial/39.xlsx\")\n",
    "df40 = f.get_data(\"data/02_no_june/40.xlsx\")"
   ]
  },
  {
   "cell_type": "code",
   "execution_count": 3,
   "metadata": {},
   "outputs": [
    {
     "name": "stdout",
     "output_type": "stream",
     "text": [
      "<class 'pandas.core.frame.DataFrame'>\n",
      "RangeIndex: 76001 entries, 0 to 76000\n",
      "Data columns (total 19 columns):\n",
      "pubdate                 76001 non-null datetime64[ns]\n",
      "id                      76001 non-null int64\n",
      "guid                    76001 non-null object\n",
      "link                    76001 non-null object\n",
      "author                  76001 non-null object\n",
      "title                   76001 non-null object\n",
      "description             76001 non-null object\n",
      "source                  76001 non-null object\n",
      "user_id                 76001 non-null int64\n",
      "profile_image_url       76001 non-null object\n",
      "user_statuses_count     76001 non-null int64\n",
      "user_friends_count      76001 non-null int64\n",
      "user_followers_count    76001 non-null int64\n",
      "user_created_at         76001 non-null object\n",
      "user_bio                55912 non-null object\n",
      "user_location           50136 non-null object\n",
      "lang                    76001 non-null object\n",
      "code                    76001 non-null object\n",
      "coords                  9 non-null object\n",
      "dtypes: datetime64[ns](1), int64(5), object(13)\n",
      "memory usage: 11.0+ MB\n"
     ]
    }
   ],
   "source": [
    "df30.info()"
   ]
  },
  {
   "cell_type": "code",
   "execution_count": 4,
   "metadata": {},
   "outputs": [
    {
     "name": "stdout",
     "output_type": "stream",
     "text": [
      "<class 'pandas.core.frame.DataFrame'>\n",
      "RangeIndex: 100000 entries, 0 to 99999\n",
      "Data columns (total 19 columns):\n",
      "id                      100000 non-null int64\n",
      "guid                    100000 non-null object\n",
      "link                    100000 non-null object\n",
      "pubdate                 100000 non-null object\n",
      "author                  100000 non-null object\n",
      "title                   100000 non-null object\n",
      "description             100000 non-null object\n",
      "source                  100000 non-null object\n",
      "user_id                 100000 non-null int64\n",
      "profile_image_url       100000 non-null object\n",
      "user_statuses_count     100000 non-null int64\n",
      "user_friends_count      100000 non-null int64\n",
      "user_followers_count    100000 non-null int64\n",
      "user_created_at         100000 non-null object\n",
      "user_bio                75534 non-null object\n",
      "user_location           66894 non-null object\n",
      "lang                    100000 non-null object\n",
      "code                    100000 non-null object\n",
      "coords                  10 non-null object\n",
      "dtypes: int64(5), object(14)\n",
      "memory usage: 14.5+ MB\n"
     ]
    }
   ],
   "source": [
    "df31.info()"
   ]
  },
  {
   "cell_type": "code",
   "execution_count": 5,
   "metadata": {},
   "outputs": [
    {
     "name": "stdout",
     "output_type": "stream",
     "text": [
      "<class 'pandas.core.frame.DataFrame'>\n",
      "RangeIndex: 100000 entries, 0 to 99999\n",
      "Data columns (total 19 columns):\n",
      "id                      100000 non-null int64\n",
      "guid                    100000 non-null object\n",
      "link                    100000 non-null object\n",
      "pubdate                 100000 non-null object\n",
      "author                  100000 non-null object\n",
      "title                   99999 non-null object\n",
      "description             99999 non-null object\n",
      "source                  100000 non-null object\n",
      "user_id                 100000 non-null int64\n",
      "profile_image_url       100000 non-null object\n",
      "user_statuses_count     100000 non-null int64\n",
      "user_friends_count      100000 non-null int64\n",
      "user_followers_count    100000 non-null int64\n",
      "user_created_at         100000 non-null object\n",
      "user_bio                77379 non-null object\n",
      "user_location           67109 non-null object\n",
      "lang                    100000 non-null object\n",
      "code                    100000 non-null object\n",
      "coords                  9 non-null object\n",
      "dtypes: int64(5), object(14)\n",
      "memory usage: 14.5+ MB\n"
     ]
    }
   ],
   "source": [
    "df32.info()"
   ]
  },
  {
   "cell_type": "code",
   "execution_count": 6,
   "metadata": {},
   "outputs": [
    {
     "name": "stdout",
     "output_type": "stream",
     "text": [
      "<class 'pandas.core.frame.DataFrame'>\n",
      "RangeIndex: 100000 entries, 0 to 99999\n",
      "Data columns (total 19 columns):\n",
      "id                      100000 non-null int64\n",
      "guid                    100000 non-null object\n",
      "link                    100000 non-null object\n",
      "pubdate                 100000 non-null object\n",
      "author                  100000 non-null object\n",
      "title                   100000 non-null object\n",
      "description             100000 non-null object\n",
      "source                  100000 non-null object\n",
      "user_id                 100000 non-null int64\n",
      "profile_image_url       100000 non-null object\n",
      "user_statuses_count     100000 non-null int64\n",
      "user_friends_count      100000 non-null int64\n",
      "user_followers_count    100000 non-null int64\n",
      "user_created_at         100000 non-null object\n",
      "user_bio                72686 non-null object\n",
      "user_location           65295 non-null object\n",
      "lang                    100000 non-null object\n",
      "code                    100000 non-null object\n",
      "coords                  15 non-null object\n",
      "dtypes: int64(5), object(14)\n",
      "memory usage: 14.5+ MB\n"
     ]
    }
   ],
   "source": [
    "df33.info()"
   ]
  },
  {
   "cell_type": "code",
   "execution_count": 7,
   "metadata": {},
   "outputs": [
    {
     "name": "stdout",
     "output_type": "stream",
     "text": [
      "<class 'pandas.core.frame.DataFrame'>\n",
      "RangeIndex: 100000 entries, 0 to 99999\n",
      "Data columns (total 19 columns):\n",
      "id                      100000 non-null int64\n",
      "guid                    100000 non-null object\n",
      "link                    100000 non-null object\n",
      "pubdate                 100000 non-null object\n",
      "author                  100000 non-null object\n",
      "title                   100000 non-null object\n",
      "description             100000 non-null object\n",
      "source                  100000 non-null object\n",
      "user_id                 100000 non-null int64\n",
      "profile_image_url       100000 non-null object\n",
      "user_statuses_count     100000 non-null int64\n",
      "user_friends_count      100000 non-null int64\n",
      "user_followers_count    100000 non-null int64\n",
      "user_created_at         100000 non-null object\n",
      "user_bio                76900 non-null object\n",
      "user_location           67412 non-null object\n",
      "lang                    100000 non-null object\n",
      "code                    100000 non-null object\n",
      "coords                  15 non-null object\n",
      "dtypes: int64(5), object(14)\n",
      "memory usage: 14.5+ MB\n"
     ]
    }
   ],
   "source": [
    "df34.info()"
   ]
  },
  {
   "cell_type": "code",
   "execution_count": 8,
   "metadata": {},
   "outputs": [
    {
     "name": "stdout",
     "output_type": "stream",
     "text": [
      "<class 'pandas.core.frame.DataFrame'>\n",
      "RangeIndex: 100000 entries, 0 to 99999\n",
      "Data columns (total 19 columns):\n",
      "id                      100000 non-null int64\n",
      "guid                    100000 non-null object\n",
      "link                    100000 non-null object\n",
      "pubdate                 100000 non-null object\n",
      "author                  100000 non-null object\n",
      "title                   100000 non-null object\n",
      "description             100000 non-null object\n",
      "source                  100000 non-null object\n",
      "user_id                 100000 non-null int64\n",
      "profile_image_url       100000 non-null object\n",
      "user_statuses_count     100000 non-null int64\n",
      "user_friends_count      100000 non-null int64\n",
      "user_followers_count    100000 non-null int64\n",
      "user_created_at         100000 non-null object\n",
      "user_bio                72088 non-null object\n",
      "user_location           63952 non-null object\n",
      "lang                    100000 non-null object\n",
      "code                    100000 non-null object\n",
      "coords                  11 non-null object\n",
      "dtypes: int64(5), object(14)\n",
      "memory usage: 14.5+ MB\n"
     ]
    }
   ],
   "source": [
    "df35.info()"
   ]
  },
  {
   "cell_type": "code",
   "execution_count": 9,
   "metadata": {},
   "outputs": [
    {
     "name": "stdout",
     "output_type": "stream",
     "text": [
      "<class 'pandas.core.frame.DataFrame'>\n",
      "RangeIndex: 100000 entries, 0 to 99999\n",
      "Data columns (total 19 columns):\n",
      "id                      100000 non-null int64\n",
      "guid                    100000 non-null object\n",
      "link                    100000 non-null object\n",
      "pubdate                 100000 non-null object\n",
      "author                  100000 non-null object\n",
      "title                   100000 non-null object\n",
      "description             100000 non-null object\n",
      "source                  100000 non-null object\n",
      "user_id                 100000 non-null int64\n",
      "profile_image_url       100000 non-null object\n",
      "user_statuses_count     100000 non-null int64\n",
      "user_friends_count      100000 non-null int64\n",
      "user_followers_count    100000 non-null int64\n",
      "user_created_at         100000 non-null object\n",
      "user_bio                73006 non-null object\n",
      "user_location           65117 non-null object\n",
      "lang                    100000 non-null object\n",
      "code                    100000 non-null object\n",
      "coords                  15 non-null object\n",
      "dtypes: int64(5), object(14)\n",
      "memory usage: 14.5+ MB\n"
     ]
    }
   ],
   "source": [
    "df36.info()"
   ]
  },
  {
   "cell_type": "code",
   "execution_count": 10,
   "metadata": {},
   "outputs": [
    {
     "name": "stdout",
     "output_type": "stream",
     "text": [
      "<class 'pandas.core.frame.DataFrame'>\n",
      "RangeIndex: 99981 entries, 0 to 99980\n",
      "Data columns (total 19 columns):\n",
      "id                      99981 non-null int64\n",
      "guid                    99981 non-null object\n",
      "link                    99981 non-null object\n",
      "pubdate                 99981 non-null object\n",
      "author                  99981 non-null object\n",
      "title                   99981 non-null object\n",
      "description             99974 non-null object\n",
      "source                  99981 non-null object\n",
      "user_id                 99981 non-null int64\n",
      "profile_image_url       99981 non-null object\n",
      "user_statuses_count     99981 non-null int64\n",
      "user_friends_count      99981 non-null int64\n",
      "user_followers_count    99981 non-null int64\n",
      "user_created_at         99981 non-null object\n",
      "user_bio                72680 non-null object\n",
      "user_location           64221 non-null object\n",
      "lang                    99981 non-null object\n",
      "code                    99981 non-null object\n",
      "coords                  17 non-null object\n",
      "dtypes: int64(5), object(14)\n",
      "memory usage: 14.5+ MB\n"
     ]
    }
   ],
   "source": [
    "df37.info()"
   ]
  },
  {
   "cell_type": "code",
   "execution_count": 11,
   "metadata": {},
   "outputs": [
    {
     "name": "stdout",
     "output_type": "stream",
     "text": [
      "<class 'pandas.core.frame.DataFrame'>\n",
      "RangeIndex: 99584 entries, 0 to 99583\n",
      "Data columns (total 19 columns):\n",
      "id                      99584 non-null int64\n",
      "guid                    99584 non-null object\n",
      "link                    99584 non-null object\n",
      "pubdate                 99584 non-null object\n",
      "author                  99584 non-null object\n",
      "title                   99584 non-null object\n",
      "description             99584 non-null object\n",
      "source                  99584 non-null object\n",
      "user_id                 99584 non-null int64\n",
      "profile_image_url       99584 non-null object\n",
      "user_statuses_count     99584 non-null int64\n",
      "user_friends_count      99584 non-null int64\n",
      "user_followers_count    99584 non-null int64\n",
      "user_created_at         99584 non-null object\n",
      "user_bio                72539 non-null object\n",
      "user_location           64022 non-null object\n",
      "lang                    99584 non-null object\n",
      "code                    99584 non-null object\n",
      "coords                  23 non-null object\n",
      "dtypes: int64(5), object(14)\n",
      "memory usage: 14.4+ MB\n"
     ]
    }
   ],
   "source": [
    "df38.info()"
   ]
  },
  {
   "cell_type": "code",
   "execution_count": 12,
   "metadata": {},
   "outputs": [
    {
     "name": "stdout",
     "output_type": "stream",
     "text": [
      "<class 'pandas.core.frame.DataFrame'>\n",
      "RangeIndex: 100000 entries, 0 to 99999\n",
      "Data columns (total 19 columns):\n",
      "id                      100000 non-null int64\n",
      "guid                    100000 non-null object\n",
      "link                    100000 non-null object\n",
      "pubdate                 100000 non-null object\n",
      "author                  100000 non-null object\n",
      "title                   100000 non-null object\n",
      "description             100000 non-null object\n",
      "source                  100000 non-null object\n",
      "user_id                 100000 non-null int64\n",
      "profile_image_url       100000 non-null object\n",
      "user_statuses_count     100000 non-null int64\n",
      "user_friends_count      100000 non-null int64\n",
      "user_followers_count    100000 non-null int64\n",
      "user_created_at         100000 non-null object\n",
      "user_bio                72668 non-null object\n",
      "user_location           64398 non-null object\n",
      "lang                    100000 non-null object\n",
      "code                    100000 non-null object\n",
      "coords                  18 non-null object\n",
      "dtypes: int64(5), object(14)\n",
      "memory usage: 14.5+ MB\n"
     ]
    }
   ],
   "source": [
    "df39.info()"
   ]
  },
  {
   "cell_type": "code",
   "execution_count": 13,
   "metadata": {},
   "outputs": [
    {
     "name": "stdout",
     "output_type": "stream",
     "text": [
      "<class 'pandas.core.frame.DataFrame'>\n",
      "RangeIndex: 20993 entries, 0 to 20992\n",
      "Data columns (total 19 columns):\n",
      "pubdate                 20993 non-null datetime64[ns]\n",
      "id                      20993 non-null int64\n",
      "guid                    20993 non-null object\n",
      "link                    20993 non-null object\n",
      "author                  20993 non-null object\n",
      "title                   20993 non-null object\n",
      "description             20993 non-null object\n",
      "source                  20993 non-null object\n",
      "user_id                 20993 non-null int64\n",
      "profile_image_url       20993 non-null object\n",
      "user_statuses_count     20993 non-null int64\n",
      "user_friends_count      20993 non-null int64\n",
      "user_followers_count    20993 non-null int64\n",
      "user_created_at         20993 non-null object\n",
      "user_bio                15422 non-null object\n",
      "user_location           13561 non-null object\n",
      "lang                    20993 non-null object\n",
      "code                    20993 non-null object\n",
      "coords                  2 non-null object\n",
      "dtypes: datetime64[ns](1), int64(5), object(13)\n",
      "memory usage: 3.0+ MB\n"
     ]
    }
   ],
   "source": [
    "df40.info()"
   ]
  },
  {
   "cell_type": "code",
   "execution_count": 10,
   "metadata": {},
   "outputs": [],
   "source": [
    "df_all = pd.concat([df30,df31,df32,df33,df34,df35,df36,df37,df38,df39,df40], sort=False)"
   ]
  },
  {
   "cell_type": "code",
   "execution_count": 12,
   "metadata": {},
   "outputs": [
    {
     "data": {
      "text/html": [
       "<div>\n",
       "<style scoped>\n",
       "    .dataframe tbody tr th:only-of-type {\n",
       "        vertical-align: middle;\n",
       "    }\n",
       "\n",
       "    .dataframe tbody tr th {\n",
       "        vertical-align: top;\n",
       "    }\n",
       "\n",
       "    .dataframe thead th {\n",
       "        text-align: right;\n",
       "    }\n",
       "</style>\n",
       "<table border=\"1\" class=\"dataframe\">\n",
       "  <thead>\n",
       "    <tr style=\"text-align: right;\">\n",
       "      <th></th>\n",
       "      <th>pubdate</th>\n",
       "      <th>id</th>\n",
       "      <th>guid</th>\n",
       "      <th>link</th>\n",
       "      <th>author</th>\n",
       "      <th>title</th>\n",
       "      <th>description</th>\n",
       "      <th>source</th>\n",
       "      <th>user_id</th>\n",
       "      <th>profile_image_url</th>\n",
       "      <th>user_statuses_count</th>\n",
       "      <th>user_friends_count</th>\n",
       "      <th>user_followers_count</th>\n",
       "      <th>user_created_at</th>\n",
       "      <th>user_bio</th>\n",
       "      <th>user_location</th>\n",
       "      <th>lang</th>\n",
       "      <th>code</th>\n",
       "      <th>coords</th>\n",
       "    </tr>\n",
       "  </thead>\n",
       "  <tbody>\n",
       "    <tr>\n",
       "      <th>0</th>\n",
       "      <td>2019-05-01 02:25:51</td>\n",
       "      <td>24000</td>\n",
       "      <td>https://twitter.com/fabianafn/statuses/1123473589460721666</td>\n",
       "      <td>https://twitter.com/fabianafn/statuses/1123473589460721666</td>\n",
       "      <td>fabianafn</td>\n",
       "      <td>RT @robertabastosn: Só para lembrar:\\n117 fuzis foram apreendidos em um apartamento que pertencia ao vizinho do Bolsonaro que executou Marie…</td>\n",
       "      <td>Só para lembrar:\\n117 fuzis foram apreendidos em um apartamento que pertencia ao vizinho do Bolsonaro que executou Marielle.\\nO q estão fazendo sobre isso?</td>\n",
       "      <td>Twitter for Android</td>\n",
       "      <td>28886238</td>\n",
       "      <td>https://pbs.twimg.com/profile_images/1122196865687138304/iBMCQs-i_normal.jpg</td>\n",
       "      <td>14652</td>\n",
       "      <td>1545</td>\n",
       "      <td>674</td>\n",
       "      <td>2009-04-04 18:39:53</td>\n",
       "      <td>Desobedecer um sistema doente é minha forma de estar presente.\\n\\n\\nPara os bots, só reservo blocks\\n#LulaLivre</td>\n",
       "      <td>NaN</td>\n",
       "      <td>pt</td>\n",
       "      <td>53f8e32da0f6571df03d749569cee69c</td>\n",
       "      <td>NaN</td>\n",
       "    </tr>\n",
       "    <tr>\n",
       "      <th>1</th>\n",
       "      <td>2019-05-01 02:25:47</td>\n",
       "      <td>24001</td>\n",
       "      <td>https://twitter.com/SergioT1910/statuses/1123473572364791809</td>\n",
       "      <td>https://twitter.com/SergioT1910/statuses/1123473572364791809</td>\n",
       "      <td>SergioT1910</td>\n",
       "      <td>Bolsonaro eh um cuzao</td>\n",
       "      <td>Bolsonaro eh um cuzao</td>\n",
       "      <td>Twitter for Android</td>\n",
       "      <td>420109560</td>\n",
       "      <td>https://pbs.twimg.com/profile_images/1063962644628103168/zHY4MZDD_normal.jpg</td>\n",
       "      <td>66366</td>\n",
       "      <td>1833</td>\n",
       "      <td>2190</td>\n",
       "      <td>2011-11-24 01:05:28</td>\n",
       "      <td>Simples, humilde, curioso, carioca, zona norte. Mas não sou de bobeira. \\n♎.</td>\n",
       "      <td>RJ, ZN, Brasil, PARÍS. FR ⚁😉</td>\n",
       "      <td>pt</td>\n",
       "      <td>014e02cf4e822a43d94cd48a0fa1a4a0</td>\n",
       "      <td>NaN</td>\n",
       "    </tr>\n",
       "    <tr>\n",
       "      <th>2</th>\n",
       "      <td>2019-05-01 02:25:45</td>\n",
       "      <td>24002</td>\n",
       "      <td>https://twitter.com/nuno_marqs/statuses/1123473565133811713</td>\n",
       "      <td>https://twitter.com/nuno_marqs/statuses/1123473565133811713</td>\n",
       "      <td>nuno_marqs</td>\n",
       "      <td>@andreazzaeditor Tem casco, exato, como qualquer outro ruminante.\\n\\nA necessidade de campanha constante deve-se ao fato de que o governo de Bolsonaro não compromete sua integridade pela governabilidade, como p.ex. troca de cargos.</td>\n",
       "      <td>@andreazzaeditor Tem casco, exato, como qualquer outro ruminante.\\n\\nA necessidade de campanha constante deve-se ao fato de que o governo de Bolsonaro não compromete sua integridade pela governabilidade, como p.ex. troca de cargos.</td>\n",
       "      <td>Twitter for Android</td>\n",
       "      <td>72658537</td>\n",
       "      <td>https://pbs.twimg.com/profile_images/952600044418498560/jS92gnb4_normal.jpg</td>\n",
       "      <td>3463</td>\n",
       "      <td>200</td>\n",
       "      <td>138</td>\n",
       "      <td>2009-09-08 16:28:31</td>\n",
       "      <td>Sempre me chamaram de 'do contra', hoje percebo que estavam me elogiando.</td>\n",
       "      <td>Salvador, Brasil</td>\n",
       "      <td>pt</td>\n",
       "      <td>d105aeeec82739351245e1cf36ea04f4</td>\n",
       "      <td>NaN</td>\n",
       "    </tr>\n",
       "    <tr>\n",
       "      <th>3</th>\n",
       "      <td>2019-05-01 02:25:45</td>\n",
       "      <td>24003</td>\n",
       "      <td>https://twitter.com/Cleo23357718/statuses/1123473564227776513</td>\n",
       "      <td>https://twitter.com/Cleo23357718/statuses/1123473564227776513</td>\n",
       "      <td>Cleo23357718</td>\n",
       "      <td>RT @AnaPaulaVolei: O atual governo tem defeitos? Há críticas? Sim. Bolsonaro acerta todas? Não. Mas foi tbm por notícias assim que eu tirei…</td>\n",
       "      <td>O atual governo tem defeitos? Há críticas? Sim. Bolsonaro acerta todas? Não. Mas foi tbm por notícias assim que eu tirei o PT do governo.\\n\\n56 invasões no 1º Tri. de 2016.\\n43 no 1º Tri. de 2018.\\nUMA invasão no 1º  Trimestre de 2019!\\n\\nInvasões de terra caem\\n\\nhttps://t.co/Uf236qZwMU</td>\n",
       "      <td>Twitter for iPhone</td>\n",
       "      <td>992849707348226048</td>\n",
       "      <td>https://pbs.twimg.com/profile_images/992855961814601728/79nHoB4K_normal.jpg</td>\n",
       "      <td>488</td>\n",
       "      <td>40</td>\n",
       "      <td>8</td>\n",
       "      <td>2018-05-05 15:33:11</td>\n",
       "      <td>Before criticize the world, fix your own life. (Jordan Peterson)</td>\n",
       "      <td>Nøtterøy, Norge</td>\n",
       "      <td>pt</td>\n",
       "      <td>a3b59728ab8eb6a722ffd56caaefb56e</td>\n",
       "      <td>NaN</td>\n",
       "    </tr>\n",
       "    <tr>\n",
       "      <th>4</th>\n",
       "      <td>2019-05-01 02:25:44</td>\n",
       "      <td>24004</td>\n",
       "      <td>https://twitter.com/ritac_aa/statuses/1123473558188044294</td>\n",
       "      <td>https://twitter.com/ritac_aa/statuses/1123473558188044294</td>\n",
       "      <td>ritac_aa</td>\n",
       "      <td>RT @felipeneto: Tradução da fala do Bolsonaro:\\n\\n“Quem quiser fazer turismo sexual aqui, fique à vontade. Pode explorar a mulher brasileira,…</td>\n",
       "      <td>Tradução da fala do Bolsonaro:\\n\\n“Quem quiser fazer turismo sexual aqui, fique à vontade. Pode explorar a mulher brasileira, objetificar e levar essa imagem pro mundo. O que não pode é ser VIADO”.\\n\\nEsse sujeito deve comer capim como refeição. Não é possível! https://t.co/zePjLuXOPa</td>\n",
       "      <td>Twitter for Android</td>\n",
       "      <td>3020243026</td>\n",
       "      <td>https://pbs.twimg.com/profile_images/1112873963066220549/89dMpyEW_normal.jpg</td>\n",
       "      <td>1880</td>\n",
       "      <td>60</td>\n",
       "      <td>25</td>\n",
       "      <td>2015-02-05 12:58:22</td>\n",
       "      <td>Química, mestre, carioca, vascaína, leonina, esquerdista, atéia, amante do meio ambiente, livros, música e filmes de terror. Siga por sua conta e risco.</td>\n",
       "      <td>Rio de Janeiro, Brasil</td>\n",
       "      <td>pt</td>\n",
       "      <td>bc1fb289221717788fc377f56e40112b</td>\n",
       "      <td>NaN</td>\n",
       "    </tr>\n",
       "  </tbody>\n",
       "</table>\n",
       "</div>"
      ],
      "text/plain": [
       "               pubdate     id  \\\n",
       "0  2019-05-01 02:25:51  24000   \n",
       "1  2019-05-01 02:25:47  24001   \n",
       "2  2019-05-01 02:25:45  24002   \n",
       "3  2019-05-01 02:25:45  24003   \n",
       "4  2019-05-01 02:25:44  24004   \n",
       "\n",
       "                                                            guid  \\\n",
       "0  https://twitter.com/fabianafn/statuses/1123473589460721666      \n",
       "1  https://twitter.com/SergioT1910/statuses/1123473572364791809    \n",
       "2  https://twitter.com/nuno_marqs/statuses/1123473565133811713     \n",
       "3  https://twitter.com/Cleo23357718/statuses/1123473564227776513   \n",
       "4  https://twitter.com/ritac_aa/statuses/1123473558188044294       \n",
       "\n",
       "                                                            link  \\\n",
       "0  https://twitter.com/fabianafn/statuses/1123473589460721666      \n",
       "1  https://twitter.com/SergioT1910/statuses/1123473572364791809    \n",
       "2  https://twitter.com/nuno_marqs/statuses/1123473565133811713     \n",
       "3  https://twitter.com/Cleo23357718/statuses/1123473564227776513   \n",
       "4  https://twitter.com/ritac_aa/statuses/1123473558188044294       \n",
       "\n",
       "         author  \\\n",
       "0  fabianafn      \n",
       "1  SergioT1910    \n",
       "2  nuno_marqs     \n",
       "3  Cleo23357718   \n",
       "4  ritac_aa       \n",
       "\n",
       "                                                                                                                                                                                                                                     title  \\\n",
       "0  RT @robertabastosn: Só para lembrar:\\n117 fuzis foram apreendidos em um apartamento que pertencia ao vizinho do Bolsonaro que executou Marie…                                                                                             \n",
       "1  Bolsonaro eh um cuzao                                                                                                                                                                                                                     \n",
       "2  @andreazzaeditor Tem casco, exato, como qualquer outro ruminante.\\n\\nA necessidade de campanha constante deve-se ao fato de que o governo de Bolsonaro não compromete sua integridade pela governabilidade, como p.ex. troca de cargos.   \n",
       "3  RT @AnaPaulaVolei: O atual governo tem defeitos? Há críticas? Sim. Bolsonaro acerta todas? Não. Mas foi tbm por notícias assim que eu tirei…                                                                                              \n",
       "4  RT @felipeneto: Tradução da fala do Bolsonaro:\\n\\n“Quem quiser fazer turismo sexual aqui, fique à vontade. Pode explorar a mulher brasileira,…                                                                                            \n",
       "\n",
       "                                                                                                                                                                                                                                                                                        description  \\\n",
       "0  Só para lembrar:\\n117 fuzis foram apreendidos em um apartamento que pertencia ao vizinho do Bolsonaro que executou Marielle.\\nO q estão fazendo sobre isso?                                                                                                                                        \n",
       "1  Bolsonaro eh um cuzao                                                                                                                                                                                                                                                                              \n",
       "2  @andreazzaeditor Tem casco, exato, como qualquer outro ruminante.\\n\\nA necessidade de campanha constante deve-se ao fato de que o governo de Bolsonaro não compromete sua integridade pela governabilidade, como p.ex. troca de cargos.                                                            \n",
       "3  O atual governo tem defeitos? Há críticas? Sim. Bolsonaro acerta todas? Não. Mas foi tbm por notícias assim que eu tirei o PT do governo.\\n\\n56 invasões no 1º Tri. de 2016.\\n43 no 1º Tri. de 2018.\\nUMA invasão no 1º  Trimestre de 2019!\\n\\nInvasões de terra caem\\n\\nhttps://t.co/Uf236qZwMU   \n",
       "4  Tradução da fala do Bolsonaro:\\n\\n“Quem quiser fazer turismo sexual aqui, fique à vontade. Pode explorar a mulher brasileira, objetificar e levar essa imagem pro mundo. O que não pode é ser VIADO”.\\n\\nEsse sujeito deve comer capim como refeição. Não é possível! https://t.co/zePjLuXOPa      \n",
       "\n",
       "                source             user_id  \\\n",
       "0  Twitter for Android  28886238             \n",
       "1  Twitter for Android  420109560            \n",
       "2  Twitter for Android  72658537             \n",
       "3  Twitter for iPhone   992849707348226048   \n",
       "4  Twitter for Android  3020243026           \n",
       "\n",
       "                                                              profile_image_url  \\\n",
       "0  https://pbs.twimg.com/profile_images/1122196865687138304/iBMCQs-i_normal.jpg   \n",
       "1  https://pbs.twimg.com/profile_images/1063962644628103168/zHY4MZDD_normal.jpg   \n",
       "2  https://pbs.twimg.com/profile_images/952600044418498560/jS92gnb4_normal.jpg    \n",
       "3  https://pbs.twimg.com/profile_images/992855961814601728/79nHoB4K_normal.jpg    \n",
       "4  https://pbs.twimg.com/profile_images/1112873963066220549/89dMpyEW_normal.jpg   \n",
       "\n",
       "   user_statuses_count  user_friends_count  user_followers_count  \\\n",
       "0  14652                1545                674                    \n",
       "1  66366                1833                2190                   \n",
       "2  3463                 200                 138                    \n",
       "3  488                  40                  8                      \n",
       "4  1880                 60                  25                     \n",
       "\n",
       "       user_created_at  \\\n",
       "0  2009-04-04 18:39:53   \n",
       "1  2011-11-24 01:05:28   \n",
       "2  2009-09-08 16:28:31   \n",
       "3  2018-05-05 15:33:11   \n",
       "4  2015-02-05 12:58:22   \n",
       "\n",
       "                                                                                                                                                   user_bio  \\\n",
       "0  Desobedecer um sistema doente é minha forma de estar presente.\\n\\n\\nPara os bots, só reservo blocks\\n#LulaLivre                                            \n",
       "1  Simples, humilde, curioso, carioca, zona norte. Mas não sou de bobeira. \\n♎.                                                                               \n",
       "2  Sempre me chamaram de 'do contra', hoje percebo que estavam me elogiando.                                                                                  \n",
       "3  Before criticize the world, fix your own life. (Jordan Peterson)                                                                                           \n",
       "4  Química, mestre, carioca, vascaína, leonina, esquerdista, atéia, amante do meio ambiente, livros, música e filmes de terror. Siga por sua conta e risco.   \n",
       "\n",
       "                  user_location lang                              code coords  \n",
       "0  NaN                           pt   53f8e32da0f6571df03d749569cee69c  NaN    \n",
       "1  RJ, ZN, Brasil, PARÍS. FR ⚁😉  pt   014e02cf4e822a43d94cd48a0fa1a4a0  NaN    \n",
       "2  Salvador, Brasil              pt   d105aeeec82739351245e1cf36ea04f4  NaN    \n",
       "3  Nøtterøy, Norge               pt   a3b59728ab8eb6a722ffd56caaefb56e  NaN    \n",
       "4  Rio de Janeiro, Brasil        pt   bc1fb289221717788fc377f56e40112b  NaN    "
      ]
     },
     "execution_count": 12,
     "metadata": {},
     "output_type": "execute_result"
    }
   ],
   "source": [
    "df_all.head()"
   ]
  },
  {
   "cell_type": "code",
   "execution_count": 13,
   "metadata": {},
   "outputs": [
    {
     "name": "stdout",
     "output_type": "stream",
     "text": [
      "<class 'pandas.core.frame.DataFrame'>\n",
      "Int64Index: 996559 entries, 0 to 20992\n",
      "Data columns (total 19 columns):\n",
      "pubdate                 996559 non-null object\n",
      "id                      996559 non-null int64\n",
      "guid                    996559 non-null object\n",
      "link                    996559 non-null object\n",
      "author                  996559 non-null object\n",
      "title                   996558 non-null object\n",
      "description             996551 non-null object\n",
      "source                  996559 non-null object\n",
      "user_id                 996559 non-null int64\n",
      "profile_image_url       996559 non-null object\n",
      "user_statuses_count     996559 non-null int64\n",
      "user_friends_count      996559 non-null int64\n",
      "user_followers_count    996559 non-null int64\n",
      "user_created_at         996559 non-null object\n",
      "user_bio                736814 non-null object\n",
      "user_location           652117 non-null object\n",
      "lang                    996559 non-null object\n",
      "code                    996559 non-null object\n",
      "coords                  144 non-null object\n",
      "dtypes: int64(5), object(14)\n",
      "memory usage: 152.1+ MB\n"
     ]
    }
   ],
   "source": [
    "df_all.info()"
   ]
  },
  {
   "cell_type": "code",
   "execution_count": 14,
   "metadata": {},
   "outputs": [
    {
     "data": {
      "text/plain": [
       "(996559, 19)"
      ]
     },
     "execution_count": 14,
     "metadata": {},
     "output_type": "execute_result"
    }
   ],
   "source": [
    "df_all.shape"
   ]
  },
  {
   "cell_type": "code",
   "execution_count": 15,
   "metadata": {},
   "outputs": [],
   "source": [
    "writer = pd.ExcelWriter(r'data/03_just_may/may.xlsx', engine='xlsxwriter',options={'strings_to_urls': False})\n",
    "df_all.to_excel(writer)\n",
    "writer.close()"
   ]
  }
 ],
 "metadata": {
  "kernelspec": {
   "display_name": "Python 3",
   "language": "python",
   "name": "python3"
  },
  "language_info": {
   "codemirror_mode": {
    "name": "ipython",
    "version": 3
   },
   "file_extension": ".py",
   "mimetype": "text/x-python",
   "name": "python",
   "nbconvert_exporter": "python",
   "pygments_lexer": "ipython3",
   "version": "3.7.1"
  }
 },
 "nbformat": 4,
 "nbformat_minor": 2
}
