{
 "cells": [
  {
   "cell_type": "code",
   "execution_count": 41,
   "metadata": {},
   "outputs": [],
   "source": [
    "import re\n",
    "import pandas as pd\n",
    "import functions as f\n",
    "pd.set_option('display.max_colwidth', -1)"
   ]
  },
  {
   "cell_type": "code",
   "execution_count": 147,
   "metadata": {},
   "outputs": [],
   "source": [
    "text = \"Mais mais um gol do Governo #jair @jairbolsonaro hoje! Confisco dos bens dos traficantes antes do trânsito em julgado. Dinheiro será usado para aplicação em investimentos sociais. @SF_Moro\""
   ]
  },
  {
   "cell_type": "code",
   "execution_count": 148,
   "metadata": {},
   "outputs": [],
   "source": [
    "text2 = text.split()"
   ]
  },
  {
   "cell_type": "code",
   "execution_count": 149,
   "metadata": {},
   "outputs": [],
   "source": [
    "def clean_text(text):\n",
    "    characteres_authorizeds = [\"@\",\"#\",\" \"]\n",
    "    stop_words              = [\"mais\",\"hoje\",\"um\", \"do\", \"dos\", \"antes\", \"em\", \"será\", \"para\", \"aplicação\"]\n",
    "    capitalized_words       = [w for w in text.split() if w.istitle()]\n",
    "    mention                 = [w for w in text.split() if re.findall(r\"@\\w+\", w)]\n",
    "    hashtag                 = [w for w in text.split() if re.findall(r\"#\\w+\", w)]\n",
    "    plural                  = [w for w in text.split() if w.endswith('s')]\n",
    "    x = [w.lower() for w in text]\n",
    "    y = [c for c in x if c.isalpha() or c in characteres_authorizeds]\n",
    "    z = \"\".join(y)\n",
    "    cleaned = [w for w in z.split() if w not in stop_words and len(w) >= 3]\n",
    "    uniques                 = [w for w in set(z.split())]\n",
    "    uniques_cleaned         = [w for w in set(cleaned)]\n",
    "    return(cleaned, mention, hashtag, plural, uniques, uniques_cleaned)"
   ]
  },
  {
   "cell_type": "code",
   "execution_count": 150,
   "metadata": {},
   "outputs": [
    {
     "name": "stdout",
     "output_type": "stream",
     "text": [
      "gol governo #jair @jairbolsonaro confisco bens traficantes trânsito julgado dinheiro usado investimentos sociais @sfmoro\n",
      "-----------------------\n",
      "['#jair']\n",
      "-----------------------\n",
      "['@jairbolsonaro', '@SF_Moro']\n",
      "-----------------------\n",
      "['Mais', 'mais', 'dos', 'bens', 'dos', 'traficantes', 'antes', 'investimentos']\n",
      "-----------------------\n",
      "['sociais', '@jairbolsonaro', 'hoje', 'para', 'confisco', 'julgado', 'dinheiro', '#jair', '@sfmoro', 'bens', 'governo', 'trânsito', 'em', 'do', 'aplicação', 'traficantes', 'usado', 'antes', 'dos', 'gol', 'investimentos', 'será', 'um', 'mais']\n",
      "-----------------------\n",
      "['sociais', '@jairbolsonaro', 'bens', '@sfmoro', 'governo', 'investimentos', 'trânsito', '#jair', 'julgado', 'dinheiro', 'traficantes', 'gol', 'usado', 'confisco']\n",
      "-----------------------\n"
     ]
    }
   ],
   "source": [
    "text_cleaned, mentions, hashtags, plural, uniques, uniques_cleaned = clean_text(text)\n",
    "print(\" \".join(text_cleaned))\n",
    "print(\"-----------------------\")\n",
    "print(hashtags)\n",
    "print(\"-----------------------\")\n",
    "print(mentions)\n",
    "print(\"-----------------------\")\n",
    "print(plural)\n",
    "print(\"-----------------------\")\n",
    "print(uniques)\n",
    "print(\"-----------------------\")\n",
    "print(uniques_cleaned)\n",
    "print(\"-----------------------\")"
   ]
  },
  {
   "cell_type": "code",
   "execution_count": 151,
   "metadata": {},
   "outputs": [
    {
     "data": {
      "text/plain": [
       "['b', 'o', 'l', 's', 'o', 'n', 'a', 'r', 'o']"
      ]
     },
     "execution_count": 151,
     "metadata": {},
     "output_type": "execute_result"
    }
   ],
   "source": [
    "list(\"bolsonaro\")"
   ]
  },
  {
   "cell_type": "code",
   "execution_count": 1,
   "metadata": {},
   "outputs": [
    {
     "data": {
      "text/plain": [
       "['b', 'o', 'l', 's', 'o', 'n', 'a', 'r', 'o']"
      ]
     },
     "execution_count": 1,
     "metadata": {},
     "output_type": "execute_result"
    }
   ],
   "source": [
    "[c for c in \"bolsonaro\"]"
   ]
  },
  {
   "cell_type": "code",
   "execution_count": 9,
   "metadata": {},
   "outputs": [
    {
     "data": {
      "text/html": [
       "<div>\n",
       "<style scoped>\n",
       "    .dataframe tbody tr th:only-of-type {\n",
       "        vertical-align: middle;\n",
       "    }\n",
       "\n",
       "    .dataframe tbody tr th {\n",
       "        vertical-align: top;\n",
       "    }\n",
       "\n",
       "    .dataframe thead th {\n",
       "        text-align: right;\n",
       "    }\n",
       "</style>\n",
       "<table border=\"1\" class=\"dataframe\">\n",
       "  <thead>\n",
       "    <tr style=\"text-align: right;\">\n",
       "      <th></th>\n",
       "      <th>description</th>\n",
       "      <th>class</th>\n",
       "    </tr>\n",
       "  </thead>\n",
       "  <tbody>\n",
       "    <tr>\n",
       "      <th>0</th>\n",
       "      <td>É chegada a hora do Congresso reagir com um pe...</td>\n",
       "      <td>negative</td>\n",
       "    </tr>\n",
       "    <tr>\n",
       "      <th>1</th>\n",
       "      <td>Como sempre se afirmou e agora se confirma, Lu...</td>\n",
       "      <td>negative</td>\n",
       "    </tr>\n",
       "    <tr>\n",
       "      <th>2</th>\n",
       "      <td>#JairBolsonaro empregava cinco funcionárias qu...</td>\n",
       "      <td>negative</td>\n",
       "    </tr>\n",
       "    <tr>\n",
       "      <th>3</th>\n",
       "      <td>@DeputadoFederal Meu Deus, eu não te bloqueei ...</td>\n",
       "      <td>positive</td>\n",
       "    </tr>\n",
       "    <tr>\n",
       "      <th>4</th>\n",
       "      <td>@jairbolsonaro Presidente incitando o golpe na...</td>\n",
       "      <td>negative</td>\n",
       "    </tr>\n",
       "  </tbody>\n",
       "</table>\n",
       "</div>"
      ],
      "text/plain": [
       "                                         description     class\n",
       "0  É chegada a hora do Congresso reagir com um pe...  negative\n",
       "1  Como sempre se afirmou e agora se confirma, Lu...  negative\n",
       "2  #JairBolsonaro empregava cinco funcionárias qu...  negative\n",
       "3  @DeputadoFederal Meu Deus, eu não te bloqueei ...  positive\n",
       "4  @jairbolsonaro Presidente incitando o golpe na...  negative"
      ]
     },
     "execution_count": 9,
     "metadata": {},
     "output_type": "execute_result"
    }
   ],
   "source": [
    "df = f.get_data('../data/10_classify_tweets/classify_tweets.xlsx')\n",
    "df.head()"
   ]
  },
  {
   "cell_type": "code",
   "execution_count": 16,
   "metadata": {},
   "outputs": [],
   "source": [
    "chars_num = df[\"description\"].apply(len)"
   ]
  },
  {
   "cell_type": "code",
   "execution_count": 18,
   "metadata": {},
   "outputs": [
    {
     "data": {
      "text/html": [
       "<div>\n",
       "<style scoped>\n",
       "    .dataframe tbody tr th:only-of-type {\n",
       "        vertical-align: middle;\n",
       "    }\n",
       "\n",
       "    .dataframe tbody tr th {\n",
       "        vertical-align: top;\n",
       "    }\n",
       "\n",
       "    .dataframe thead th {\n",
       "        text-align: right;\n",
       "    }\n",
       "</style>\n",
       "<table border=\"1\" class=\"dataframe\">\n",
       "  <thead>\n",
       "    <tr style=\"text-align: right;\">\n",
       "      <th></th>\n",
       "      <th>description</th>\n",
       "    </tr>\n",
       "  </thead>\n",
       "  <tbody>\n",
       "    <tr>\n",
       "      <th>count</th>\n",
       "      <td>2119.000000</td>\n",
       "    </tr>\n",
       "    <tr>\n",
       "      <th>mean</th>\n",
       "      <td>183.880604</td>\n",
       "    </tr>\n",
       "    <tr>\n",
       "      <th>std</th>\n",
       "      <td>69.691282</td>\n",
       "    </tr>\n",
       "    <tr>\n",
       "      <th>min</th>\n",
       "      <td>26.000000</td>\n",
       "    </tr>\n",
       "    <tr>\n",
       "      <th>25%</th>\n",
       "      <td>128.000000</td>\n",
       "    </tr>\n",
       "    <tr>\n",
       "      <th>50%</th>\n",
       "      <td>179.000000</td>\n",
       "    </tr>\n",
       "    <tr>\n",
       "      <th>75%</th>\n",
       "      <td>244.000000</td>\n",
       "    </tr>\n",
       "    <tr>\n",
       "      <th>max</th>\n",
       "      <td>418.000000</td>\n",
       "    </tr>\n",
       "  </tbody>\n",
       "</table>\n",
       "</div>"
      ],
      "text/plain": [
       "       description\n",
       "count  2119.000000\n",
       "mean    183.880604\n",
       "std      69.691282\n",
       "min      26.000000\n",
       "25%     128.000000\n",
       "50%     179.000000\n",
       "75%     244.000000\n",
       "max     418.000000"
      ]
     },
     "execution_count": 18,
     "metadata": {},
     "output_type": "execute_result"
    }
   ],
   "source": [
    "(pd.DataFrame(chars_num)).describe()"
   ]
  },
  {
   "cell_type": "code",
   "execution_count": 21,
   "metadata": {},
   "outputs": [
    {
     "data": {
      "text/plain": [
       "0       43\n",
       "1       32\n",
       "2       13\n",
       "3       24\n",
       "4       32\n",
       "5       27\n",
       "6       18\n",
       "7       16\n",
       "8       14\n",
       "9       18\n",
       "10      55\n",
       "11      31\n",
       "12      16\n",
       "13      33\n",
       "14      30\n",
       "15      28\n",
       "16      34\n",
       "17      15\n",
       "18      17\n",
       "19      40\n",
       "20      26\n",
       "21      21\n",
       "22       9\n",
       "23       7\n",
       "24      11\n",
       "25      50\n",
       "26      20\n",
       "27      11\n",
       "28      14\n",
       "29      12\n",
       "        ..\n",
       "2089    29\n",
       "2090    15\n",
       "2091    13\n",
       "2092    41\n",
       "2093    26\n",
       "2094    42\n",
       "2095    20\n",
       "2096    14\n",
       "2097    20\n",
       "2098    34\n",
       "2099    11\n",
       "2100    41\n",
       "2101    35\n",
       "2102    26\n",
       "2103    13\n",
       "2104    23\n",
       "2105    45\n",
       "2106    25\n",
       "2107    14\n",
       "2108    20\n",
       "2109    20\n",
       "2110    30\n",
       "2111    25\n",
       "2112    28\n",
       "2113    11\n",
       "2114    26\n",
       "2115    26\n",
       "2116    44\n",
       "2117    17\n",
       "2118     7\n",
       "Name: description, Length: 2119, dtype: int64"
      ]
     },
     "execution_count": 21,
     "metadata": {},
     "output_type": "execute_result"
    }
   ],
   "source": [
    "def words_count(phrase):\n",
    "    tokenized = phrase.split()\n",
    "    return len(tokenized)\n",
    "\n",
    "num_words = df[\"description\"].apply(words_count)\n",
    "num_words"
   ]
  },
  {
   "cell_type": "code",
   "execution_count": 24,
   "metadata": {},
   "outputs": [
    {
     "data": {
      "text/plain": [
       "description    Bolsonaro é pior que Temer\\n#LulaLivreSabadoSD...\n",
       "class                                                   negative\n",
       "Name: 2118, dtype: object"
      ]
     },
     "execution_count": 24,
     "metadata": {},
     "output_type": "execute_result"
    }
   ],
   "source": [
    "df.iloc[2118]"
   ]
  },
  {
   "cell_type": "code",
   "execution_count": 25,
   "metadata": {},
   "outputs": [
    {
     "data": {
      "text/html": [
       "<div>\n",
       "<style scoped>\n",
       "    .dataframe tbody tr th:only-of-type {\n",
       "        vertical-align: middle;\n",
       "    }\n",
       "\n",
       "    .dataframe tbody tr th {\n",
       "        vertical-align: top;\n",
       "    }\n",
       "\n",
       "    .dataframe thead th {\n",
       "        text-align: right;\n",
       "    }\n",
       "</style>\n",
       "<table border=\"1\" class=\"dataframe\">\n",
       "  <thead>\n",
       "    <tr style=\"text-align: right;\">\n",
       "      <th></th>\n",
       "      <th>description</th>\n",
       "    </tr>\n",
       "  </thead>\n",
       "  <tbody>\n",
       "    <tr>\n",
       "      <th>count</th>\n",
       "      <td>2119.000000</td>\n",
       "    </tr>\n",
       "    <tr>\n",
       "      <th>mean</th>\n",
       "      <td>24.748466</td>\n",
       "    </tr>\n",
       "    <tr>\n",
       "      <th>std</th>\n",
       "      <td>11.536880</td>\n",
       "    </tr>\n",
       "    <tr>\n",
       "      <th>min</th>\n",
       "      <td>3.000000</td>\n",
       "    </tr>\n",
       "    <tr>\n",
       "      <th>25%</th>\n",
       "      <td>15.000000</td>\n",
       "    </tr>\n",
       "    <tr>\n",
       "      <th>50%</th>\n",
       "      <td>23.000000</td>\n",
       "    </tr>\n",
       "    <tr>\n",
       "      <th>75%</th>\n",
       "      <td>34.000000</td>\n",
       "    </tr>\n",
       "    <tr>\n",
       "      <th>max</th>\n",
       "      <td>55.000000</td>\n",
       "    </tr>\n",
       "  </tbody>\n",
       "</table>\n",
       "</div>"
      ],
      "text/plain": [
       "       description\n",
       "count  2119.000000\n",
       "mean     24.748466\n",
       "std      11.536880\n",
       "min       3.000000\n",
       "25%      15.000000\n",
       "50%      23.000000\n",
       "75%      34.000000\n",
       "max      55.000000"
      ]
     },
     "execution_count": 25,
     "metadata": {},
     "output_type": "execute_result"
    }
   ],
   "source": [
    "(pd.DataFrame(num_words)).describe()"
   ]
  },
  {
   "cell_type": "code",
   "execution_count": 36,
   "metadata": {},
   "outputs": [
    {
     "data": {
      "text/html": [
       "<div>\n",
       "<style scoped>\n",
       "    .dataframe tbody tr th:only-of-type {\n",
       "        vertical-align: middle;\n",
       "    }\n",
       "\n",
       "    .dataframe tbody tr th {\n",
       "        vertical-align: top;\n",
       "    }\n",
       "\n",
       "    .dataframe thead th {\n",
       "        text-align: right;\n",
       "    }\n",
       "</style>\n",
       "<table border=\"1\" class=\"dataframe\">\n",
       "  <thead>\n",
       "    <tr style=\"text-align: right;\">\n",
       "      <th></th>\n",
       "      <th>description</th>\n",
       "      <th>class</th>\n",
       "    </tr>\n",
       "  </thead>\n",
       "  <tbody>\n",
       "    <tr>\n",
       "      <th>428</th>\n",
       "      <td>#CadêOQueiroz em Bolsonaro</td>\n",
       "      <td>negative</td>\n",
       "    </tr>\n",
       "  </tbody>\n",
       "</table>\n",
       "</div>"
      ],
      "text/plain": [
       "                    description     class\n",
       "428  #CadêOQueiroz em Bolsonaro  negative"
      ]
     },
     "execution_count": 36,
     "metadata": {},
     "output_type": "execute_result"
    }
   ],
   "source": [
    "criteria = df[\"description\"].str.len() <= 26\n",
    "df[criteria]"
   ]
  },
  {
   "cell_type": "code",
   "execution_count": 39,
   "metadata": {},
   "outputs": [
    {
     "data": {
      "text/plain": [
       "0       1\n",
       "1       1\n",
       "2       2\n",
       "3       2\n",
       "4       1\n",
       "5       2\n",
       "6       1\n",
       "7       1\n",
       "8       1\n",
       "9       1\n",
       "10      2\n",
       "11      4\n",
       "12      2\n",
       "13      2\n",
       "14      3\n",
       "15      2\n",
       "16      1\n",
       "17      1\n",
       "18      1\n",
       "19      0\n",
       "20      1\n",
       "21      8\n",
       "22      1\n",
       "23      1\n",
       "24      1\n",
       "25      1\n",
       "26      1\n",
       "27      1\n",
       "28      1\n",
       "29      1\n",
       "       ..\n",
       "2089    2\n",
       "2090    1\n",
       "2091    3\n",
       "2092    1\n",
       "2093    1\n",
       "2094    3\n",
       "2095    2\n",
       "2096    1\n",
       "2097    2\n",
       "2098    7\n",
       "2099    1\n",
       "2100    1\n",
       "2101    1\n",
       "2102    1\n",
       "2103    7\n",
       "2104    1\n",
       "2105    1\n",
       "2106    1\n",
       "2107    2\n",
       "2108    1\n",
       "2109    2\n",
       "2110    2\n",
       "2111    1\n",
       "2112    6\n",
       "2113    2\n",
       "2114    2\n",
       "2115    1\n",
       "2116    6\n",
       "2117    5\n",
       "2118    1\n",
       "Name: description, Length: 2119, dtype: int64"
      ]
     },
     "execution_count": 39,
     "metadata": {},
     "output_type": "execute_result"
    }
   ],
   "source": [
    "def hashtag_count(tweet):\n",
    "    tokenized = tweet.split()\n",
    "    hashtags = [w for w in tokenized if w.startswith(\"#\")]\n",
    "    return len(hashtags)\n",
    "\n",
    "num_hashtags = df[\"description\"].apply(hashtag_count)\n",
    "num_hashtags"
   ]
  },
  {
   "cell_type": "code",
   "execution_count": 42,
   "metadata": {},
   "outputs": [
    {
     "data": {
      "text/plain": [
       "description    #JairBolsonaro empregava cinco funcionárias que nunca foram ao Congresso #BolsonaroEnvergonhaOBrasil https://t.co/bkJDe2by2c via @exame\n",
       "class          negative                                                                                                                               \n",
       "Name: 2, dtype: object"
      ]
     },
     "execution_count": 42,
     "metadata": {},
     "output_type": "execute_result"
    }
   ],
   "source": [
    "df.iloc[2]"
   ]
  },
  {
   "cell_type": "code",
   "execution_count": 43,
   "metadata": {},
   "outputs": [
    {
     "data": {
      "text/plain": [
       "description    @jairbolsonaro Boa noite Presidente, o Brasil que queremos está chegando👏👏👏👏🇧🇷🇧🇷🇧🇷 ahhh..e adorei ver o senhor no The Noite com o Danilo Gentili!!😍😍 #BolsonaroOrgulhodoBrasil #bolsonaro #BrasilConservador #euapoionovaprevidencia #euapoioleianticrime #euaprovobolsonaro\n",
       "class          positive                                                                                                                                                                                                                                                                    \n",
       "Name: 2112, dtype: object"
      ]
     },
     "execution_count": 43,
     "metadata": {},
     "output_type": "execute_result"
    }
   ],
   "source": [
    "df.iloc[2112]"
   ]
  }
 ],
 "metadata": {
  "kernelspec": {
   "display_name": "Python 3",
   "language": "python",
   "name": "python3"
  },
  "language_info": {
   "codemirror_mode": {
    "name": "ipython",
    "version": 3
   },
   "file_extension": ".py",
   "mimetype": "text/x-python",
   "name": "python",
   "nbconvert_exporter": "python",
   "pygments_lexer": "ipython3",
   "version": "3.7.1"
  }
 },
 "nbformat": 4,
 "nbformat_minor": 2
}
