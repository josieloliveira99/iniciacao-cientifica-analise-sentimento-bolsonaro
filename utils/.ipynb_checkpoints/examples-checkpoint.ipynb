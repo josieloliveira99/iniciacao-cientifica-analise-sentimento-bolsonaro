{
 "cells": [
  {
   "cell_type": "code",
   "execution_count": 3,
   "metadata": {},
   "outputs": [],
   "source": [
    "text = \"Mais um gol do Governo @jairbolsonaro hoje! Confisco dos bens dos traficantes antes do trânsito em julgado. Dinheiro será usado para aplicação em investimentos sociais. @SF_Moro\""
   ]
  },
  {
   "cell_type": "code",
   "execution_count": 6,
   "metadata": {},
   "outputs": [],
   "source": [
    "text2 = text.split()"
   ]
  },
  {
   "cell_type": "code",
   "execution_count": 78,
   "metadata": {},
   "outputs": [],
   "source": [
    "def clean_text(text):\n",
    "    characteres_authorizeds = [\"@\",\"#\",\" \"]\n",
    "    x = [w.lower() for w in text]\n",
    "    y = [w for w in x if w.isalpha() or w in characteres_authorizeds]\n",
    "    #z = [w for w in text2 if len(w) > 3]\n",
    "    return \"\".join(y)"
   ]
  },
  {
   "cell_type": "code",
   "execution_count": 79,
   "metadata": {},
   "outputs": [
    {
     "data": {
      "text/plain": [
       "'mais um gol do governo @jairbolsonaro hoje confisco dos bens dos traficantes antes do trânsito em julgado dinheiro será usado para aplicação em investimentos sociais @sfmoro'"
      ]
     },
     "execution_count": 79,
     "metadata": {},
     "output_type": "execute_result"
    }
   ],
   "source": [
    "clean_text(text)"
   ]
  },
  {
   "cell_type": "code",
   "execution_count": null,
   "metadata": {},
   "outputs": [],
   "source": []
  }
 ],
 "metadata": {
  "kernelspec": {
   "display_name": "Python 3",
   "language": "python",
   "name": "python3"
  },
  "language_info": {
   "codemirror_mode": {
    "name": "ipython",
    "version": 3
   },
   "file_extension": ".py",
   "mimetype": "text/x-python",
   "name": "python",
   "nbconvert_exporter": "python",
   "pygments_lexer": "ipython3",
   "version": "3.7.1"
  }
 },
 "nbformat": 4,
 "nbformat_minor": 2
}
