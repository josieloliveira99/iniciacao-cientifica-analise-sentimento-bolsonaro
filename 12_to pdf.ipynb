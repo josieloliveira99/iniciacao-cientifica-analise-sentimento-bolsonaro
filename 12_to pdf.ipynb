{
 "cells": [
  {
   "cell_type": "code",
   "execution_count": 1,
   "metadata": {},
   "outputs": [],
   "source": [
    "import time\n",
    "import datetime\n",
    "import pandas as pd\n",
    "import utils.functions as f\n",
    "from sklearn.feature_extraction.text import CountVectorizer\n",
    "from sklearn.naive_bayes import MultinomialNB\n",
    "from sklearn.model_selection import train_test_split\n",
    "\n",
    "pd.set_option('display.max_colwidth', -1)"
   ]
  },
  {
   "cell_type": "code",
   "execution_count": 2,
   "metadata": {},
   "outputs": [],
   "source": [
    "#processa os dados antes de utilizá-los para gerar o\n",
    "#modelo ou antes de utilizar o modelo gerado\n",
    "\n",
    "def clean_tweet(tweet):\n",
    "    \n",
    "    cleaned = f.changeLink(tweet)\n",
    "    cleaned = f.changePatterns(cleaned)\n",
    "    cleaned = f.removeMention(cleaned)\n",
    "    cleaned = f.toFixPunctuation(cleaned)\n",
    "    cleaned = f.remove_punctuation(cleaned)\n",
    "    cleaned = f.toFixBlankSpaces(cleaned)\n",
    "    cleaned = f.remove_spaces_between_words(cleaned)\n",
    "    cleaned = [f.removeSpecialCharactere(word) for word in cleaned.split()]\n",
    "    cleaned = [word.lower() for word in cleaned \n",
    "               if word.isalpha() and len(word) > 1]\n",
    "    cleaned = f.get_radicals(cleaned)\n",
    "    cleaned = \" \".join(cleaned)\n",
    "    return cleaned"
   ]
  },
  {
   "cell_type": "code",
   "execution_count": 20,
   "metadata": {},
   "outputs": [],
   "source": [
    "#funções para verificar o tempo de execução de um código selecionado\n",
    "\n",
    "def start_at():\n",
    "    now = datetime.datetime.now()\n",
    "    return \"Start at: {0}:{1}:{2}\".format(now.hour, now.minute, now.second)\n",
    "\n",
    "def end_at():\n",
    "    now = datetime.datetime.now()\n",
    "    return \"End at: {0}:{1}:{2}\".format(now.hour, now.minute, now.second)\n",
    "\n",
    "def duration(start_at):\n",
    "    now = datetime.datetime.now()\n",
    "    return \"Duration: {0:6.2f} seconds\".format(time.time() - start_time)\n",
    "    "
   ]
  },
  {
   "cell_type": "code",
   "execution_count": 21,
   "metadata": {},
   "outputs": [
    {
     "name": "stdout",
     "output_type": "stream",
     "text": [
      "Start at: 16:47:13\n",
      "End at: 16:47:14\n",
      "Duration:   1.67 seconds\n"
     ]
    }
   ],
   "source": [
    "start_time = time.time()\n",
    "print(start_at())\n",
    "\n",
    "df_classified_tweets = f.get_data(\"classified_auto/all.xlsx\")\n",
    "df_classified_tweets = df_classified_tweets.dropna(subset=['description'])\n",
    "\n",
    "print(end_at())\n",
    "print(duration(start_time))"
   ]
  },
  {
   "cell_type": "code",
   "execution_count": 22,
   "metadata": {},
   "outputs": [
    {
     "data": {
      "text/plain": [
       "negative    11007\n",
       "positive    10271\n",
       "Name: class, dtype: int64"
      ]
     },
     "execution_count": 22,
     "metadata": {},
     "output_type": "execute_result"
    }
   ],
   "source": [
    "df_classified_tweets[\"class\"].value_counts()"
   ]
  },
  {
   "cell_type": "code",
   "execution_count": 23,
   "metadata": {},
   "outputs": [
    {
     "name": "stdout",
     "output_type": "stream",
     "text": [
      "Start at: 16:47:16\n",
      "End at: 16:48:5\n",
      "Duration:  49.26 seconds\n"
     ]
    }
   ],
   "source": [
    "start_time = time.time()\n",
    "print(start_at())\n",
    "\n",
    "df_description_cleaned = df_classified_tweets[\"description\"].apply(clean_tweet)\n",
    "train_X, test_X, train_y, test_y = train_test_split(\n",
    "                                    df_description_cleaned,\n",
    "                                    df_classified_tweets['class'], \n",
    "                                    test_size=0.10,\n",
    "                                    random_state=42,\n",
    "                                    stratify=df_classified_tweets['class']\n",
    "                                   )\n",
    "\n",
    "print(end_at())\n",
    "print(duration(start_time))"
   ]
  },
  {
   "cell_type": "code",
   "execution_count": 24,
   "metadata": {},
   "outputs": [
    {
     "name": "stdout",
     "output_type": "stream",
     "text": [
      "Start at: 16:48:5\n",
      "End at: 16:48:5\n",
      "Duration:   0.01 seconds\n"
     ]
    }
   ],
   "source": [
    "start_time = time.time()\n",
    "print(start_at())\n",
    "\n",
    "vectorizer = CountVectorizer(analyzer='word', ngram_range=(1, 2))\n",
    "\n",
    "print(end_at())\n",
    "print(duration(start_time))"
   ]
  },
  {
   "cell_type": "code",
   "execution_count": 25,
   "metadata": {},
   "outputs": [
    {
     "name": "stdout",
     "output_type": "stream",
     "text": [
      "Start at: 16:48:5\n",
      "End at: 16:48:7\n",
      "Duration:   1.48 seconds\n",
      "The accuracy on the test set is 0.96.\n",
      "The ngram representation had 118077 features.\n"
     ]
    }
   ],
   "source": [
    "start_time = time.time()\n",
    "print(start_at())\n",
    "\n",
    "train_X = vectorizer.fit_transform(train_X)\n",
    "test_X = vectorizer.transform(test_X)\n",
    "\n",
    "clf = MultinomialNB()\n",
    "clf.fit(train_X, train_y)\n",
    "\n",
    "print(end_at())\n",
    "print(duration(start_time))\n",
    "\n",
    "print(\"The accuracy on the test set is %.2f.\" % (clf.score(test_X, test_y)))\n",
    "print(\"The ngram representation had %i features.\" % (train_X.shape[1]))"
   ]
  },
  {
   "cell_type": "code",
   "execution_count": 26,
   "metadata": {},
   "outputs": [
    {
     "name": "stdout",
     "output_type": "stream",
     "text": [
      "Start at: 16:48:7\n",
      "End at: 16:49:5\n",
      "Duration:  58.26 seconds\n"
     ]
    }
   ],
   "source": [
    "start_time = time.time()\n",
    "print(start_at())\n",
    "\n",
    "df_all = f.get_data(\n",
    "'data/07_repeated_descriptions_deleted/without_repeated_descriptions.xlsx')\n",
    "\n",
    "print(end_at())\n",
    "print(duration(start_time))"
   ]
  },
  {
   "cell_type": "code",
   "execution_count": 27,
   "metadata": {},
   "outputs": [],
   "source": [
    "df_all.dropna(subset=['description'],inplace=True)"
   ]
  },
  {
   "cell_type": "code",
   "execution_count": 28,
   "metadata": {},
   "outputs": [],
   "source": [
    "def preditor(x):\n",
    "    prediction = clf.predict(vectorizer.transform([clean_tweet(x)]))\n",
    "    return prediction[0]"
   ]
  },
  {
   "cell_type": "code",
   "execution_count": 30,
   "metadata": {},
   "outputs": [
    {
     "name": "stdout",
     "output_type": "stream",
     "text": [
      "Start at: 17:2:3\n",
      "End at: 17:17:16\n",
      "Duration: 913.48 seconds\n"
     ]
    }
   ],
   "source": [
    "start_time = time.time()\n",
    "print(start_at())\n",
    "\n",
    "y = df_all[\"description\"].apply(preditor)\n",
    "df_all[\"predicted\"] = y\n",
    "\n",
    "print(end_at())\n",
    "print(duration(start_time))"
   ]
  },
  {
   "cell_type": "code",
   "execution_count": 31,
   "metadata": {},
   "outputs": [
    {
     "data": {
      "text/plain": [
       "positive    129959\n",
       "negative    96813 \n",
       "Name: predicted, dtype: int64"
      ]
     },
     "execution_count": 31,
     "metadata": {},
     "output_type": "execute_result"
    }
   ],
   "source": [
    "df_all[\"predicted\"].value_counts()"
   ]
  }
 ],
 "metadata": {
  "kernelspec": {
   "display_name": "Python 3",
   "language": "python",
   "name": "python3"
  },
  "language_info": {
   "codemirror_mode": {
    "name": "ipython",
    "version": 3
   },
   "file_extension": ".py",
   "mimetype": "text/x-python",
   "name": "python",
   "nbconvert_exporter": "python",
   "pygments_lexer": "ipython3",
   "version": "3.7.1"
  }
 },
 "nbformat": 4,
 "nbformat_minor": 2
}
