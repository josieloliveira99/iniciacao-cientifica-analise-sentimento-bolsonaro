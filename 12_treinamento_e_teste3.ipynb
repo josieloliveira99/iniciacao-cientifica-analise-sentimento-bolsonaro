{
 "cells": [
  {
   "cell_type": "code",
   "execution_count": 1,
   "metadata": {},
   "outputs": [],
   "source": [
    "import pandas as pd\n",
    "import re\n",
    "import utils.functions as f\n",
    "import nltk\n",
    "from utils.stop_words_custom import my_stop_words as stop_words\n",
    "pd.set_option('display.max_colwidth', -1)"
   ]
  },
  {
   "cell_type": "code",
   "execution_count": 2,
   "metadata": {},
   "outputs": [],
   "source": [
    "df = f.get_data(\"classified_auto/all.xlsx\")\n",
    "df = df.dropna(subset=['description'])"
   ]
  },
  {
   "cell_type": "code",
   "execution_count": 3,
   "metadata": {},
   "outputs": [
    {
     "name": "stdout",
     "output_type": "stream",
     "text": [
      "<class 'pandas.core.frame.DataFrame'>\n",
      "Int64Index: 21278 entries, 0 to 21277\n",
      "Data columns (total 2 columns):\n",
      "description    21278 non-null object\n",
      "class          21278 non-null object\n",
      "dtypes: object(2)\n",
      "memory usage: 498.7+ KB\n"
     ]
    }
   ],
   "source": [
    "df.info()"
   ]
  },
  {
   "cell_type": "code",
   "execution_count": 4,
   "metadata": {},
   "outputs": [
    {
     "data": {
      "text/plain": [
       "negative    11007\n",
       "positive    10271\n",
       "Name: class, dtype: int64"
      ]
     },
     "execution_count": 4,
     "metadata": {},
     "output_type": "execute_result"
    }
   ],
   "source": [
    "df[\"class\"].value_counts()"
   ]
  },
  {
   "cell_type": "code",
   "execution_count": 5,
   "metadata": {},
   "outputs": [
    {
     "data": {
      "text/html": [
       "<div>\n",
       "<style scoped>\n",
       "    .dataframe tbody tr th:only-of-type {\n",
       "        vertical-align: middle;\n",
       "    }\n",
       "\n",
       "    .dataframe tbody tr th {\n",
       "        vertical-align: top;\n",
       "    }\n",
       "\n",
       "    .dataframe thead th {\n",
       "        text-align: right;\n",
       "    }\n",
       "</style>\n",
       "<table border=\"1\" class=\"dataframe\">\n",
       "  <thead>\n",
       "    <tr style=\"text-align: right;\">\n",
       "      <th></th>\n",
       "      <th>description</th>\n",
       "      <th>class</th>\n",
       "    </tr>\n",
       "  </thead>\n",
       "  <tbody>\n",
       "    <tr>\n",
       "      <th>0</th>\n",
       "      <td>É chegada a hora do Congresso reagir com um pedido de impeachment de Bolsonaro e sua equipe. Estão colocando o país e a população em risco graças a incompetência administrativa para resolver os problemas internos porque no exterior nossa diplomacia não existe #ForaBolsonaroEBando</td>\n",
       "      <td>negative</td>\n",
       "    </tr>\n",
       "    <tr>\n",
       "      <th>1</th>\n",
       "      <td>4 meses de letargia do governo Bolsonaro, a equipe econômica é um fracasso, os índices apontam aumento da inflação, desemprego e recessão e esses tontos trocaram a tradição diplomática pacífica por um tom bélico demagogo. Nossas instituições estão falidas #ForaBolsonaroEBando</td>\n",
       "      <td>negative</td>\n",
       "    </tr>\n",
       "    <tr>\n",
       "      <th>2</th>\n",
       "      <td>em 2 horas de entrevista, LULA apresentou mais propostas que o Bolsonaro em 30 anos de política.\\n\\nem 2 horas, Lula desmascarou a farsa da Lava Jato e da Previdência.\\n\\nem apenas 2 horas, #LulaInspira o povo ir à luta contra o desmonte do país.\\n\\nPOR ISSO MORREM DE MEDO QUE ELE FALE</td>\n",
       "      <td>negative</td>\n",
       "    </tr>\n",
       "  </tbody>\n",
       "</table>\n",
       "</div>"
      ],
      "text/plain": [
       "                                                                                                                                                                                                                                                                                      description  \\\n",
       "0  É chegada a hora do Congresso reagir com um pedido de impeachment de Bolsonaro e sua equipe. Estão colocando o país e a população em risco graças a incompetência administrativa para resolver os problemas internos porque no exterior nossa diplomacia não existe #ForaBolsonaroEBando         \n",
       "1  4 meses de letargia do governo Bolsonaro, a equipe econômica é um fracasso, os índices apontam aumento da inflação, desemprego e recessão e esses tontos trocaram a tradição diplomática pacífica por um tom bélico demagogo. Nossas instituições estão falidas #ForaBolsonaroEBando             \n",
       "2  em 2 horas de entrevista, LULA apresentou mais propostas que o Bolsonaro em 30 anos de política.\\n\\nem 2 horas, Lula desmascarou a farsa da Lava Jato e da Previdência.\\n\\nem apenas 2 horas, #LulaInspira o povo ir à luta contra o desmonte do país.\\n\\nPOR ISSO MORREM DE MEDO QUE ELE FALE   \n",
       "\n",
       "      class  \n",
       "0  negative  \n",
       "1  negative  \n",
       "2  negative  "
      ]
     },
     "execution_count": 5,
     "metadata": {},
     "output_type": "execute_result"
    }
   ],
   "source": [
    "df.head(3)"
   ]
  },
  {
   "cell_type": "code",
   "execution_count": 6,
   "metadata": {},
   "outputs": [
    {
     "data": {
      "text/plain": [
       "(array([0, 0, 0, ..., 0, 1, 1]),\n",
       " Index(['negative', 'positive'], dtype='object'))"
      ]
     },
     "execution_count": 6,
     "metadata": {},
     "output_type": "execute_result"
    }
   ],
   "source": [
    "df_class_factor = pd.factorize(df[\"class\"])\n",
    "df_class_factor"
   ]
  },
  {
   "cell_type": "code",
   "execution_count": 7,
   "metadata": {},
   "outputs": [
    {
     "data": {
      "text/html": [
       "<div>\n",
       "<style scoped>\n",
       "    .dataframe tbody tr th:only-of-type {\n",
       "        vertical-align: middle;\n",
       "    }\n",
       "\n",
       "    .dataframe tbody tr th {\n",
       "        vertical-align: top;\n",
       "    }\n",
       "\n",
       "    .dataframe thead th {\n",
       "        text-align: right;\n",
       "    }\n",
       "</style>\n",
       "<table border=\"1\" class=\"dataframe\">\n",
       "  <thead>\n",
       "    <tr style=\"text-align: right;\">\n",
       "      <th></th>\n",
       "      <th>description</th>\n",
       "      <th>class</th>\n",
       "      <th>class_f</th>\n",
       "    </tr>\n",
       "  </thead>\n",
       "  <tbody>\n",
       "    <tr>\n",
       "      <th>21275</th>\n",
       "      <td>@senadorhumberto @jairbolsonaro Bolsonaro e um verme e todos os seus nazistas 😉\\n\\n#BolsonaroTeEnganouBabaca</td>\n",
       "      <td>negative</td>\n",
       "      <td>0</td>\n",
       "    </tr>\n",
       "    <tr>\n",
       "      <th>21276</th>\n",
       "      <td>Vou aproveitar minha embriaguez pra falar uma coisa: Bolsonaro, vai tomar no cu! #EuAcreditoNoBolsonaro</td>\n",
       "      <td>positive</td>\n",
       "      <td>1</td>\n",
       "    </tr>\n",
       "    <tr>\n",
       "      <th>21277</th>\n",
       "      <td>#EuAcreditoNoBolsonaro (11) e todo este discurso, tem um só objetivo: dizer que eu não acredito no bolsonaro! Não, eu acredito em Deus. E que, assim como ele o levantou da morte, ele o dará sabedoria e força para governar.\\nDeus não o salvou a toa. E se Deus está do lado dele,</td>\n",
       "      <td>positive</td>\n",
       "      <td>1</td>\n",
       "    </tr>\n",
       "  </tbody>\n",
       "</table>\n",
       "</div>"
      ],
      "text/plain": [
       "                                                                                                                                                                                                                                                                                 description  \\\n",
       "21275  @senadorhumberto @jairbolsonaro Bolsonaro e um verme e todos os seus nazistas 😉\\n\\n#BolsonaroTeEnganouBabaca                                                                                                                                                                            \n",
       "21276  Vou aproveitar minha embriaguez pra falar uma coisa: Bolsonaro, vai tomar no cu! #EuAcreditoNoBolsonaro                                                                                                                                                                                 \n",
       "21277  #EuAcreditoNoBolsonaro (11) e todo este discurso, tem um só objetivo: dizer que eu não acredito no bolsonaro! Não, eu acredito em Deus. E que, assim como ele o levantou da morte, ele o dará sabedoria e força para governar.\\nDeus não o salvou a toa. E se Deus está do lado dele,   \n",
       "\n",
       "          class  class_f  \n",
       "21275  negative  0        \n",
       "21276  positive  1        \n",
       "21277  positive  1        "
      ]
     },
     "execution_count": 7,
     "metadata": {},
     "output_type": "execute_result"
    }
   ],
   "source": [
    "df[\"class_f\"] = df_class_factor[0]\n",
    "df.tail(3)"
   ]
  },
  {
   "cell_type": "code",
   "execution_count": 8,
   "metadata": {},
   "outputs": [],
   "source": [
    "from sklearn.feature_extraction.text import CountVectorizer"
   ]
  },
  {
   "cell_type": "code",
   "execution_count": 9,
   "metadata": {},
   "outputs": [],
   "source": [
    "count_vect = CountVectorizer()"
   ]
  },
  {
   "cell_type": "code",
   "execution_count": 10,
   "metadata": {},
   "outputs": [],
   "source": [
    "X_train_counts = count_vect.fit_transform(df[\"description\"])"
   ]
  },
  {
   "cell_type": "code",
   "execution_count": 11,
   "metadata": {},
   "outputs": [
    {
     "data": {
      "text/plain": [
       "(21278, 30231)"
      ]
     },
     "execution_count": 11,
     "metadata": {},
     "output_type": "execute_result"
    }
   ],
   "source": [
    "X_train_counts.shape"
   ]
  },
  {
   "cell_type": "code",
   "execution_count": 12,
   "metadata": {},
   "outputs": [],
   "source": [
    "from sklearn.feature_extraction.text import TfidfTransformer"
   ]
  },
  {
   "cell_type": "code",
   "execution_count": 13,
   "metadata": {},
   "outputs": [],
   "source": [
    "tf_transformer = TfidfTransformer(use_idf=False).fit(X_train_counts)"
   ]
  },
  {
   "cell_type": "code",
   "execution_count": 14,
   "metadata": {},
   "outputs": [],
   "source": [
    "X_train_tf = tf_transformer.transform(X_train_counts)"
   ]
  },
  {
   "cell_type": "code",
   "execution_count": 15,
   "metadata": {},
   "outputs": [
    {
     "data": {
      "text/plain": [
       "(21278, 30231)"
      ]
     },
     "execution_count": 15,
     "metadata": {},
     "output_type": "execute_result"
    }
   ],
   "source": [
    "X_train_tf.shape"
   ]
  },
  {
   "cell_type": "code",
   "execution_count": 16,
   "metadata": {},
   "outputs": [],
   "source": [
    "tfidf_transformer = TfidfTransformer()"
   ]
  },
  {
   "cell_type": "code",
   "execution_count": 17,
   "metadata": {},
   "outputs": [],
   "source": [
    "X_train_tfidf = tfidf_transformer.fit_transform(X_train_counts)"
   ]
  },
  {
   "cell_type": "code",
   "execution_count": 18,
   "metadata": {},
   "outputs": [
    {
     "data": {
      "text/plain": [
       "(21278, 30231)"
      ]
     },
     "execution_count": 18,
     "metadata": {},
     "output_type": "execute_result"
    }
   ],
   "source": [
    "X_train_tfidf.shape"
   ]
  },
  {
   "cell_type": "code",
   "execution_count": 19,
   "metadata": {},
   "outputs": [],
   "source": [
    "from sklearn.naive_bayes import MultinomialNB\n",
    "clf = MultinomialNB().fit(X_train_tfidf, df[\"class_f\"])"
   ]
  },
  {
   "cell_type": "code",
   "execution_count": 20,
   "metadata": {},
   "outputs": [],
   "source": [
    "df_predict = f.get_data('data/07_repeated_descriptions_deleted/without_repeated_descriptions.xlsx')"
   ]
  },
  {
   "cell_type": "code",
   "execution_count": 21,
   "metadata": {},
   "outputs": [],
   "source": [
    "df_predict = df_predict.dropna(subset=['description'])"
   ]
  },
  {
   "cell_type": "code",
   "execution_count": 22,
   "metadata": {},
   "outputs": [],
   "source": [
    "#df_predict_description = df_predict[\"description\"].apply(f.removeSpecialCharactere)"
   ]
  },
  {
   "cell_type": "code",
   "execution_count": 23,
   "metadata": {},
   "outputs": [],
   "source": [
    "docs_new_predict = df_predict[\"description\"]\n",
    "X_new_counts_predict = count_vect.transform(docs_new_predict)\n",
    "X_new_tfidf_predict = tfidf_transformer.transform(X_new_counts_predict)"
   ]
  },
  {
   "cell_type": "code",
   "execution_count": 24,
   "metadata": {},
   "outputs": [],
   "source": [
    "predicted = clf.predict(X_new_tfidf_predict)"
   ]
  },
  {
   "cell_type": "code",
   "execution_count": 25,
   "metadata": {},
   "outputs": [],
   "source": [
    "positive = 0\n",
    "negative = 0\n",
    "neutral = 0\n",
    "positive_description = []\n",
    "negative_description = []\n",
    "neutral_description = []\n",
    "\n",
    "for doc, category in zip(docs_new_predict, predicted):\n",
    "    if category == 1:\n",
    "        category = \"positive\"\n",
    "        positive = positive + 1\n",
    "        positive_description.append(doc)\n",
    "#     elif category == 1:\n",
    "#         category = \"neutral\"\n",
    "#         neutral = neutral + 1\n",
    "#         neutral_description.append(doc)\n",
    "    else:\n",
    "        category = \"negative\"\n",
    "        negative = negative + 1\n",
    "        negative_description.append(doc)\n",
    "#     print('%r => %s' % (doc, category))"
   ]
  },
  {
   "cell_type": "code",
   "execution_count": 26,
   "metadata": {},
   "outputs": [
    {
     "data": {
      "text/plain": [
       "122702"
      ]
     },
     "execution_count": 26,
     "metadata": {},
     "output_type": "execute_result"
    }
   ],
   "source": [
    "positive"
   ]
  },
  {
   "cell_type": "code",
   "execution_count": 27,
   "metadata": {},
   "outputs": [
    {
     "data": {
      "text/plain": [
       "104070"
      ]
     },
     "execution_count": 27,
     "metadata": {},
     "output_type": "execute_result"
    }
   ],
   "source": [
    "negative"
   ]
  },
  {
   "cell_type": "code",
   "execution_count": 28,
   "metadata": {},
   "outputs": [
    {
     "name": "stdout",
     "output_type": "stream",
     "text": [
      "Que surpresa, um lobista da pesca industrial, filho de armadores e aliado do Bolsonaro, puxa, não esperava mesmo https://t.co/Dw51K6vEzl\n",
      "----------------------------------\n",
      "Justiça nega pedido de Flávio Bolsonaro para interromper investigação sobre Queiroz https://t.co/O2Urarfi0e\n",
      "----------------------------------\n",
      "Bolsonaro vai a banco e na volta encontra protesto na porta de seu condomínio https://t.co/rY0YacbNzO\n",
      "----------------------------------\n",
      "@UOLNoticias Por falar nisso cadê o Queiroz,Bolsonaro nem toca no assunto.\n",
      "----------------------------------\n",
      "Filosofia e Sociologia no Governo Bolsonaro! Pq investir menos nesses cursos? https://t.co/VFgylnzecg\n",
      "----------------------------------\n",
      "Se eu encontrasse um gênio da lâmpada e pudesse fazer 3 pedidos, um deles seria um vídeo do bolsonaro dando o cu.\n",
      "----------------------------------\n",
      "@blogdojosias @UOLNoticias @UOL Bolsonaro é o verdadeiro Papagaio de Pirata,acha que é o dono do Mundo.\n",
      "----------------------------------\n",
      "@peaarchno Existe um projeto neoliberal/ ultraliberal onde ele se sente um rei. E o Paulo Guedes tem se mostrado mais esperto q Bolsonaro, fazendo mais a linha Mourão, enfim\n",
      "----------------------------------\n",
      "É chegada a hora do Congresso reagir com um pedido de impeachment de Bolsonaro e sua equipe. Estão colocando o país e a população em risco graças a incompetência administrativa para resolver os problemas internos porque no exterior nossa diplomacia não existe #ForaBolsonaroEBando\n",
      "----------------------------------\n",
      "Atirador mata pelo menos 2 em universidade nos EUA\n",
      " https://t.co/fhTIX3hBDf #Bolsonaro #Justica #Corrupcao #Lavajato\n",
      "----------------------------------\n",
      "@UOLNoticias No que depender de Bolsonaro, ditadura militar receberá um dia especial com homenagens e tudo mais\n",
      "----------------------------------\n",
      "É hora de parar Bolsonaro, por Luis Nassif https://t.co/uPHaqsmDDM\n",
      "----------------------------------\n",
      "@UOLNoticias No que depender de Bolsonaro, alunos se voltarão contra professores e não será difícil ver ataques a professores nos jornais\n",
      "----------------------------------\n",
      "Eu tenho um meme desse cara falando \"que bom que essa desgraça do PT saiu do poder\" com a fotinha do menino do super onze\n",
      "\n",
      "Amanhã coloco aqui no site\n",
      "\n",
      "JDJWJDJSDB MINHA INTUIÇÃO PRA BABACA NUNCA FALHA CUZÃO\n",
      "\n",
      "POLENGUINHO NO PAU E BOLSONARO NA CABEÇA\n",
      "----------------------------------\n",
      "@Parnoffe @lngkmmr @folha Discordo sobre oq ele prega mas isso n vem ao caso. A questão é se o Bolsonaro tem mais capacidade técnica pra indicar um PGR dq os próprios procuradores e se o procurador escolhido p ele não iria blindar a família q ta enrolada c milícias e Laranjas. Q acha?\n",
      "----------------------------------\n",
      "@jairbolsonaro Bolsonaro é aquele(a) ex que não aceita o término, não segue a vida, vê o(a) ex com outro(a) e TUDO tem que fazer comparação!!\n",
      "\n",
      "DESAPEGA! \n",
      "\n",
      "... vergonha! 🤦🏻‍♀️\n",
      "----------------------------------\n",
      "@jairmearrependi KKK sobre Bolsonaro: \"Ele soa como nós\".\n",
      "----------------------------------\n",
      "Soa levemente contraditório o apoio de Bolsonaro e sua turma à Venezuela, quando, a pouco, seus simpatizantes expulsaram os venezuelanos de Roraima.\n",
      "----------------------------------\n",
      "Essas mortes vão pra conta da famiglia Metralha Bolsonaro miliciana e seu guru despirocado. https://t.co/9yG3eRg9CE\n",
      "----------------------------------\n",
      "@Estadao Que notícia positiva. Publiquem mais feitos positivos como este do Governo Bolsonaro. Quem sabe vocês ganham mais seguidores... 😂😂\n",
      "----------------------------------\n",
      "STF do inferno! Vergonha nacional!https://t.co/8PnSyhI3pt\n",
      "----------------------------------\n",
      "Em Israel, Bolsonaro publica foto com arma e critica leis de desarmamento | Política | G1 https://t.co/I7j3mJkTfr\n",
      "----------------------------------\n",
      "Se o ret pode falar pau no cu do bolsonaro pq eu não\n",
      "----------------------------------\n",
      "É hora de parar Bolsonaro, por Luis Nassif – GGN https://t.co/iWANZJ5a8C via\n",
      "----------------------------------\n",
      "N entendo em como ainda tem gente defendendo o bolsonaro\n",
      "\n",
      "Sinceramente???\n",
      "----------------------------------\n",
      "@rtitareis @albertocalmeida A mídia internacional se interessaria. São contra Bolsonaro. Tem q buscar esse suporte.\n",
      "----------------------------------\n",
      "Cara, tem até o Hélio Bolsonaro na foto!!! https://t.co/V9xpUK5a9G\n",
      "----------------------------------\n",
      "@thide_souza cara, tem até o Hélio Bolsonaro na foto!!!\n",
      "----------------------------------\n",
      "Que nesse mês lindo e maravilhoso que é Maio a única chacota na minha timeline seja só o Bolsonaro e os minions se queimando ainda mais\n",
      "AMÉM\n",
      "----------------------------------\n",
      "@GeneralMourao @epbr Mourão como vc consegue ser vice deste bando de imbecis da família Bolsonaro? Haja paciência. Isso não é ser vice isso é pagar os pecados.\n",
      "----------------------------------\n",
      "PONTA DO ICEBERG!! GRÁFICA LIGADA A ESQUEMA DE LARANJAS DO PARTIDO DE BOLSONARO (PSL) NÃO FUNCIONA HÁ 2 ANOS, DIZ POLÍCIA FEDERAL - Canguaretama de Fato https://t.co/zByW76hj00\n",
      "----------------------------------\n",
      "As pessoas precisam entender que não teremos emprego, desenvolvimento ou políticas públicas enquanto formos moeda de troca de interesses que nem conhecemos. No jogo do capital estrangeiro sempre seremos perdedores. Os carrascos de nosso futuro são os tipo Bolsonaro da História!\n",
      "----------------------------------\n",
      "Tenho um conhecido de direta, que votou e idólatra Bolsonaro e está fazendo doutorado na UnB. E aí, vais se pronunciar?\n",
      "----------------------------------\n",
      "Bolsonaro cita projetos que não receberam patrocínio da Petrobras para justificar revisão de contratos da estatal com cultura https://t.co/F9DV1gOv0X\n",
      "----------------------------------\n",
      "Procurador pede que TCU investigue prejuízos causados por veto de Bolsonaro à publicidade do BB https://t.co/ByMV6lyeBf\n",
      "----------------------------------\n",
      "@sensacionalista Pior do que do Bolsonaro impossível. Inflação, desemprego e Carluxo tuitando adoidado (literalmente) é a própria imagem do Inferno.\n",
      "----------------------------------\n",
      "@MarciaBertoline @cardoso_deli @MariseSampaio1 @luizbssantos @PRagazzon @Ivan11473751 @KilkieAlvernaz @denise_A_Sant @HusseinMinho @ValleAmarildo @luanaR8749 @Valqurias4 @betozsantos @RodapeDoPiG @BETOHOMMER @annasil24538637 @eugeniorib1958 @observ1972 @Baro51500518 @diraholanda @HannoucheT @Observo0000 @AnaRoch335 @socialcaipira @ruipalanque @CarlosxuxuDias @SargentoGangrel @Neto821 @Adrihasp @Serena10299551 @gilamarallima @mg_markao @JFerreiraJr2 @MariaNoblatPion @deusakhaly @Laramir41348617 @direitavolver17 @easy_baba @Leo_Xavier_t @HMF58984234 @Heman5791 @EvaldoBonifacio @LalaMD2015 @HeethSchitine @MancioCarla @Denise_A_Santo @chicocuritiba @GGGGGGui80 @emirsader @vnm1418 Esse povo que vota no PT é um povo todo alvoroçado, sem educação! O caba ver no twitter que essa turma do PT fica torcendo contra Bolsonaro e jogando praga pro governo dá errado, isso é uma tristeza! Quem ama o Brasil torce pro governo dá certo!\n",
      "----------------------------------\n",
      "Maia 'lembra' Bolsonaro que não é o presidente quem decide sobre intervenção na Venezuela | Revista Fórum https://t.co/R1RTNlQ9Mw\n",
      "----------------------------------\n",
      "Bolsonaro eh um cuzao\n",
      "----------------------------------\n",
      "Entidade de filosofia diz que fala de Bolsonaro é \"ignorância inadmissível\" https://t.co/VIp2dEOh1R\n",
      "----------------------------------\n",
      "@verasvasc Não há mais o que discutir, Bolsonaro já declarou em alto e bom som, \"Coaf fica com Moro\".\n",
      "----------------------------------\n",
      "Bolsonaro diz que desemprego é maior que o registrado pelo IBGE. 13,4 milhões de brasileiros procuravam emprego no 1º trimestre, 1,2 milhão maior que 2018; \n",
      "subutilização da força de trabalho brasileira chegou a 25%;\n",
      "28,3 milhões de brasileiros não trabalharam ou trabalharam men https://t.co/KJfdpkwFug\n",
      "----------------------------------\n",
      "Bolsonaro convoca reunião de emergência sobre a situação na Venezuela - Jornal de Jundiaí https://t.co/2FklBnrTHM\n",
      "----------------------------------\n",
      "@martaamato @PurperK @aquelejean @Marcell26088988 @sabrinauchoa @Haddad_Fernando Você 'cansou' e ai resolve apoiar governo autoritario que vai manchar o pais la fora? Isso só vai prejudicar nossos investimentos. Eles estao usando o meu e o seu dinheiro para tirar da EDUCAÇÃO.\n",
      "\n",
      "E o que o Lula e o PT tem a ver com o péssimo governo do Bolsonaro? NADA!\n",
      "----------------------------------\n",
      "@olstans o vado falou uma coisa super homofóbica umas semanas atrás na sala tanto que gerou a maior discussão que foi parar até na coordenação, e o rogener fala do bolsonaro em tds as aulaskkkkkkk hj ele até citou a frase da damares de meninas usam rosa e meninos usam azul\n",
      "----------------------------------\n",
      "Bolsonaro convoca reunião de emergência sobre a situação na Venezuela https://t.co/bHMmQP9895\n",
      "----------------------------------\n",
      "Vc discutindo entre Lula e Bolsonaro parece criança\n",
      "----------------------------------\n",
      "@gugachacra Bem, Maduro  é péssimo, concordo. Mas é possível ser contra Maduro e contra intervenção Americana. Pois ninguém é inocente, os EUA sempre se aproveita de conflitos internos para usurpar tudo que pode, principalmente petróleo. Não á toa Trump apóia o Bolsonaro.\n",
      "----------------------------------\n",
      "@Henrytado Só que eu não quero parecer defensor do governo Bolsonaro. Acho que há muita preocupação em ideologia ou doutrinação enquanto nossas escolas vão de mal a pior em todos outros quesitos.\n",
      "----------------------------------\n",
      "Bolsonaro provavelmente sonha em ter um encontro amoroso com o Lula. Convenhamos, quem não quer\n",
      "----------------------------------\n",
      "Renato quando não fala da escola de samba da mangueira, fala da política e o quanto odeia Bolsonaro\n",
      "----------------------------------\n",
      "Bolsonaro diz que vai mudar patrono da Educação brasileira, título conferido a Paulo Freire https://t.co/Kp9qFTZN3E\n",
      "----------------------------------\n",
      "Chave na eleição, bancada \"boi, bala e Bíblia\" agora nega apoio a Bolsonaro https://t.co/FJGmvcedSk\n",
      "----------------------------------\n",
      "'Confesso que foi simpático', diz líder sindical após reunião com Bolsonaro https://t.co/t3Pb5fYVYL\n",
      "----------------------------------\n",
      "Não posso ver alguém falando mal de Bolsonaro que já quero falar também vou logo entrando na rodinha pra falar do miliciano\n",
      "----------------------------------\n",
      "@jairbolsonaro @BolsonaroSP  @FlavioBolsonaro @CarlosBolsonaro\n",
      "A Globo está armando mais  intrigas no Profissão Repórter desta quarta-feira (1/5) com ataques ao governo Bolsonaro no Mais Médicos, questionando a saída dos cubanos e a não reposição dos médicos.\n",
      "----------------------------------\n",
      "@folha Isso é tão evidente que me espanta que o @MPF_PGR e o @STF_oficial ainda não tenham se pronunciado. Pra mim já é motivo de impeachment do Bolsonaro.\n",
      "----------------------------------\n",
      "@liljuliao_ o rogener fala do bolsonaro em tds as aulas ele até citou frase da damares hj e o vado falou um bagulho super homofóbico com um menino na sala que foi parar até na coordenação...\n",
      "----------------------------------\n",
      "@BlogdoNoblat Noblat, o senhor já viu algum covarde que não busque o aconchego da segurança? Eduardo Bolsonaro é o famoso macho de redes sociais.\n",
      "----------------------------------\n",
      "Bolsonaro assina MP que diminui burocracia para startups e pequenos negócios https://t.co/VVhf3mydQl\n",
      "----------------------------------\n",
      "Ui, o Bolsonaro erra muito mas pelo menos tá defendendo os *latifundiários* reis do agrotóxico e da depredação do solo brasileiro. https://t.co/uYBg3iqWHG\n",
      "----------------------------------\n",
      "#Bolsonaro #assina MP que #diminui #burocracia #para #startups e #pequenos #negócios https://t.co/RJtTZpohU6\n",
      "----------------------------------\n",
      "BOLSONARO CONTRA EDUCAÇÃO: WEINTRAUB CORTA 30% DAS VERBAS DE UNB, UFBA E UFF E INICIA PROCESSO DE ASFIXIA DAS UNIVERSIDADES PÚBLICAS https://t.co/SgDz73iBCT\n",
      "----------------------------------\n",
      "Maia ‘lembra’ Bolsonaro que não é o presidente quem decide sobre intervenção na Venezuela https://t.co/xPnfLDrLNp via @revistaforum\n",
      "----------------------------------\n",
      "Hoje fui chamado de bolsominion de novo.\n",
      "\n",
      "\"ESTAMOS HÁ    zero    DIAS SEM SER CHAMADO DE BOLSOMINION. NOSSO RECORDE É DE   zero   DIAS\"\n",
      "\n",
      "Bolsominion é meu ovo. O dia que eu botar a mão no fogo ou chupar as bola de político eu arranco meu braço direito. E pau no cu do Bolsonaro\n",
      "----------------------------------\n",
      "@olstans o rogener fala do bolsonaro em todas as aulas saturadíssima https://t.co/ucVNWLcrdV\n",
      "----------------------------------\n",
      "Eu não posso ver emoticon de joinha que já me lembra o bolsonaro, da ódio\n",
      "----------------------------------\n",
      "bolsonaro passou na fila pra agir como burro 37 vezes\n",
      "----------------------------------\n",
      "Marcelo Zero: Número de desempregados cresce 1,2 milhão em três meses de governo Bolsonaro - Viomundo https://t.co/hQwbiB16KA\n",
      "----------------------------------\n",
      "@felipeneto @capetalist4 ''10 anos atacando o pt '' porra nenhuma seu verme , só fala de bolsonaro no twitter toma vergonha na cara , e votar contra ele não tira o fato que vc votou nessa vergonha de partido !\n",
      "----------------------------------\n",
      "Delta Airlines retira apoio de homenagem a Bolsonaro https://t.co/yoqE5uMD2v\n",
      "----------------------------------\n",
      "Constituição é entrave para salvo-conduto previsto por Bolsonaro a dono de terra https://t.co/iaKS3GTLxl https://t.co/2g3Ve2HnUw\n",
      "----------------------------------\n",
      "@AttuchLeonardo Anuncio de Bolsonaro deixa claro que o Lula é um preso político e que o poder judiciário do Brasil não é independente. Esse anúncio só beneficia o Lula. #Euavisei\n",
      "----------------------------------\n",
      "As Mitadas e Cenas Engraçadas com o Porta-voz de Bolsonaro em Coletivas ... https://t.co/ldgmN0JTxg via @YouTube\n",
      "----------------------------------\n",
      "O melhor das programações culturais é quando elas terminam com o coro \"ei bolsonaro, vai tomar no c*\" eu fico grata\n",
      "----------------------------------\n",
      "Uma coisa que eu não sei é como o “ale oliveira” não ta envolvido no governo do bolsonaro\n",
      "----------------------------------\n",
      "Já falei que não entendia de economia, diz Bolsonaro sobre preço do diesel https://t.co/9AwVK2AAlT\n",
      "----------------------------------\n",
      "Com camisa de Bolsonaro-Hitler, João Gordo dispara: 'Odeio você mais que você odeia a gente' - Metro 1 https://t.co/pCu5OEM1hI\n",
      "----------------------------------\n",
      "Após pressão, companhia área, jornal e consultoria abandonam cerimônia em Nova York que vai conferir prêmio de \"Pessoa do Ano” ao presidente. Hotel que alugou espaço para jantar de gala também está na mira de ativistas.\n",
      "\n",
      "https://t.co/OKmoKSiDMb\n",
      "----------------------------------\n",
      "Governo Bolsonaro anuncia que todas universidades sofrerão corte de 30% nas verbas em 2019 https://t.co/eadcVLcvVR\n",
      "----------------------------------\n",
      "“De repente, você vai gerar 2, 3, 4 ou 5 milhões de empregos em um espaço de um ano, um ano e meio.”\n",
      "\n",
      "Parece eu falando que vou tomar umas 3 ou 9 cervejas.\n",
      "\n",
      "https://t.co/bIuEzL2FdT via @UOLEconomia @UOL\n",
      "----------------------------------\n",
      "☝️AOS QUE VIVEM MIMIMIZANDO QUE BOLSONARO AINDA NÃO COMEÇOU A GOVERNAR OU QUE NÃO TEM FEITO NADA DE GRANDE OU EFETIVO... ( II )\n",
      "\n",
      "👇👇👇 Vamos ver as novidades na área Rodovias?? https://t.co/3M5cpz4l8d\n",
      "----------------------------------\n",
      "@Accialima1 @PurperK @aquelejean @Marcell26088988 @sabrinauchoa @Haddad_Fernando Dai vai ficar lindo o mundo todo noticiando que o governo do Brasil / Bolsonaro persegue estudantes e ta distruindo Universidades e prejudicando milhares de alunos q tem nada a ver com isso. É só isso mesmo que sai de atoantidemocratico. Tu gosta de ditadorzinho é?\n",
      "----------------------------------\n",
      "Carluxo, responde aqui pra gente: teu pai tem lepra?\n",
      "\n",
      "https://t.co/ULUBkd6HaJ\n",
      "----------------------------------\n",
      "Bolsonaro é a maior fraquejada dos últimos tempos\n",
      "----------------------------------\n",
      "Recriação da CPMF: Desautorizado mais uma vez por Bolsonaro, Paulo Guedes deveria pedir o boné? Por Joaquim de Carvalho https://t.co/mKhD0pct9S via @iG\n",
      "----------------------------------\n",
      "FUJA NÃO!\n",
      "O cara nem chegou a concorrer às eleições na Venezuela e quer o PODER na marra. Pede asilo ao Bolsonaro! Fica tentando tomar o poder na marra de Maduro ! Manoel Mauricio\n",
      "----------------------------------\n",
      "Empresas desistem de patrocinar homenagem a Bolsonaro https://t.co/ofdGbd7gMa\n",
      "----------------------------------\n",
      "Ler as postagens da família Bolsonaro é o momento mais engraçado do meu dia. #falandosério\n",
      "----------------------------------\n",
      "#Bolsonaro #concede #asilo a 25 #militares #venezuelanos, #informa porta-voz https://t.co/JGDGCyTlhc #cultura\n",
      "----------------------------------\n",
      "@PSOE  @PSOEInternacion olha o amigo do Bolsonaro e monarquista https://t.co/vV0UQ1ou2i\n",
      "----------------------------------\n",
      "@SF_Moro “ Haviam”muitos pedidos atrasados? \n",
      "E o Delagnol parou de especular com imóveis do programa Minha Casa Minha Vida?Cadê o Queiroz e  os amigos milicianos do Bolsonaro e dos seus 3 filhos patetas?\n",
      "Doria perguntou se seu preço para dar palestra na Lide continua o mesmo. Bjs à conje\n",
      "----------------------------------\n",
      "@AddiosAnderson @PurperK @aquelejean @Marcell26088988 @sabrinauchoa @Haddad_Fernando Se bobear no boteco respeitam mais a constituição e a democracia do que esse governo lixo do Bolsonaro. Tão la empobrecendo todas universidades e prejudicando TODOS alunos por rixa politica. Gênio.\n",
      "----------------------------------\n",
      "Ala!!!! Ashuahuashuashuashuashuashua\n",
      "Eu ri muito alto agora!!!!\n",
      "Bolsonaro perde para todo mundo no 2 turno ainda é real para o boi!!!\n",
      "Ashuahuashuashuashuashuashua https://t.co/Pi79xIEwHk\n",
      "----------------------------------\n",
      "Fascistinha faz enquete entre Bolsonaro e Lula e passa vergonha na internet https://t.co/muUcPh5H0i\n",
      "----------------------------------\n",
      "Empresas desistem de patrocinar homenagem a Bolsonaro https://t.co/2mYNT3xcM7\n",
      "----------------------------------\n",
      "Conselho Superior do MP do Rio vai apurar atuação de procurador-geral no caso Flávio Bolsonaro-Queiroz\n",
      "https://t.co/NguNb7aZgS\n",
      "----------------------------------\n",
      "BLOG DO EDSON ALVES | A Sua Rede de Notícias: BOLSONARO AUTORIZA ESTUDO PARA PRIVATIZAÇÃO DOS CO... https://t.co/D8OPmmCi8P\n",
      "----------------------------------\n",
      "Bolsonaro lança plano para facilitar a entrada de pequenos negócios na Bolsa de Valores https://t.co/otW6Q64wVa\n",
      "----------------------------------\n",
      "Caso Queiroz e do filho do presidente completa 482 dias sem conclusão.🤔⁉️\n",
      "Investigação sobre movimentações financeiras de ex-assessor de Flávio Bolsonaro corre em sigilo\n",
      "https://t.co/pkVDFNcy5N\n",
      "----------------------------------\n"
     ]
    }
   ],
   "source": [
    "for tweet in negative_description[0:100]:\n",
    "    print(tweet)\n",
    "    print(\"----------------------------------\")"
   ]
  },
  {
   "cell_type": "code",
   "execution_count": 29,
   "metadata": {},
   "outputs": [
    {
     "name": "stdout",
     "output_type": "stream",
     "text": [
      "Maia diz que cabe ao Congresso, e não a Bolsonaro, autorizar guerra https://t.co/K2i07XWdGd\n",
      "----------------------------------\n",
      "@PAULOSP001 @NaitzSprite @caiopilan @Tosilva17 @RaphaelSG14 @Ideias_Radicais @pauloap Isso se você nao tiver vivendo numa Venezuela, queria ver tu falar isso se Haddad fosse presidente com desarmamento e regulação dos meios de comunicação como estava no plano de governo dele... É facil ser liberal surfando na onda conservadora. Agradeça ao Bolsonaro. :)\n",
      "----------------------------------\n",
      "@RodrigoMaia Mandar nossos homens para Venezuela? Esse negócio só deve ser aprovado se for um exército formado pela família Bolsonaro e seus militantes, fora isso duvido que nossas famílias apóiem essa intervenção ridícula. Não dão conta nem do próprio país e querer se meter no dos outros?\n",
      "----------------------------------\n",
      "@apcify eu toda vez que vejo o bolsonaro:\n",
      "----------------------------------\n",
      "@brasil247 Esse folhetim esquerdista não fala de outro nome que não seja Bolsonaro. Ô paixão!\n",
      "----------------------------------\n",
      "@BuzzFeedNewsBR Coitado do Maia Botafogo. Eu preferia ser muito mais o Eduardo Bolsonaro, do que  o deputado das planilhas da Odebrecht. Alias, Eduardo é bastante capacitado, além de falar 3 idiomas, é advogado, e trabalhou por muitos anos na PF. Quem é o Maia???\n",
      "----------------------------------\n",
      "@jairbolsonaro mais um toco?\n",
      "https://t.co/ajVngU1DWl\n",
      "----------------------------------\n",
      "@moura_101 E quando è o exercito que faz 80 tiros em uma familia lembrese de BOLSONARO\n",
      "----------------------------------\n",
      "Bolsonaro declara que vai mijar e Nhonho Maia retruca que primeiro é preciso passar pelo Congresso.\n",
      "----------------------------------\n",
      "@ema_deleonn @joavictorof @delta_op @pedepomba @jairbolsonaro Amiga... Bolsonaro abriu uma base em Alcântara pra Trump dizer que quer o Brasil na OCDE, veja bem, não é colocar, é apoiar. O teu e o meu dizer não significa nada, o dizer de um presidente é Pesado. Isso é política.\n",
      "----------------------------------\n",
      "Só os factos de aquele tipo ser um \"autoproclamado\" (também o daesh o é) e de ter o apoio e a orientação de Trump e Bolsonaro deveriam ser suficientes para nos fazer parar para pensar nas suas verdadeiras intenções! #Venezuela #GuaidoOtraVezFracaso\n",
      "----------------------------------\n",
      "@bbaggio_ Bolsonaro vai ficar puto\n",
      "----------------------------------\n",
      "@fernando_1181 @felipeneto São a mesma bosta, junto com o Bolsonaro, mas o cara reconhece isso\n",
      "----------------------------------\n",
      "@allantercalivre @RodrigoMaia Na cabeça do Nhonho BOLSONARO cai Mourão cai e ele virá presidente por isso vive querendo lacra, deixa essa reforma terminar que o dele tá guardado!!\n",
      "----------------------------------\n",
      "@cynaramenezes Bolsonaro não tem a moral de falar de nada,é um ser totalmente desqualificado para exercer a Presidência da república.\n",
      "----------------------------------\n",
      "Rodrigo Maia e Bolsonaro entram em conflito sobre conflito na #Venezuela https://t.co/BZ18DGn1iF\n",
      "----------------------------------\n",
      "@SargentoFAHUR Que triste isso! Não me surpreenderia em saber que tais bandidos são eleitores de Bolsonaro. É a forma que vocês têm de ver o mundo.\n",
      "----------------------------------\n",
      "@direitaFeliz @TemplarioPepe Enquanto nós conservadores que votamos no Bolsonaro não dermos o mínimo de atenção para os anarcocapitalistas (de preferência cristãos como o Kogos) continuaremos caindo nesse positivismo moralmente dúbio da direita borboleta/MBL. \n",
      "\n",
      "PAU NO CU DO ESTADO DEMOCRÁTICO DE DIREITO! https://t.co/FEukK6MALN\n",
      "----------------------------------\n",
      "@forwonjae começa com o bolsonaro prfvr\n",
      "----------------------------------\n",
      "Maia diz que cabe ao Congresso, e não a Bolsonaro, autorizar guerra https://t.co/cmsz77OOva\n",
      "----------------------------------\n",
      "@gurgelo Era da desinformação, não só sua, mas do presidente também! Pesquisem, estudem, desconfiem de tudo para então tomar posicionamento, não sejam gado como estão sendo! Bolsonaro tá mais pra vilao do que pra mocinho!! Acabou de passar por cima do Moro em uma decisão!\n",
      "----------------------------------\n",
      "@MarceloFreixo Meu Deus bolsonaro tbm é ladrão🤣nunca mais votarei nele. Vai se tratar frouxo\n",
      "----------------------------------\n",
      "@allantercalivre @RodrigoMaia NHONHO tá falando isso pq ele sabe que aquele twitter do Bolsonaro foi relacionado ao Mourão!! E qualquer coisa q vai contra o Mourão ele já se mete!!\n",
      "----------------------------------\n",
      "@BuzzFeedNewsBR Maia teve a merreca de 70 mil votos. Eduadro Bolsonaro teve quase 2 milhões de votos. Maia está com dor de cotovelo, simples assim.  Eduardo está se saindo muito bem na política externa, e o ministro das Relações Exterior também.\n",
      "----------------------------------\n",
      "O brasileiro realmente tem uma tara pelo autoritarismo, tanto de esquerda quanto de direita. Senhores, presidente não é Deus tem que respeitar as instituições. #Bolsonaro #Brasil #Venezuela\n",
      "----------------------------------\n",
      "O BRASIL É E SEMPRE VAI SER UM PAÍS SEM MORAL, COM OU SEM BOLSONARO. O PRIMEIRO PASSO PRA UM BRASIL COM MOROL, SERIA, AS FORÇAS ARMADAS ACABAR COM O STF E REESTRUTURAR TODO JUDICIÁRIO PQ EXISTEM MUITOS JUÍZES CORRUPTOS QUE INTERPRETAM A LEI EM BENEFÍCIOS DOS BANDIDOS. https://t.co/7iYyqu3tKz\n",
      "----------------------------------\n",
      "Fui no aniversário da minha prima ali, só tinha burguês. Tava mis perdida que Bolsonaro governando o país\n",
      "----------------------------------\n",
      "se sair notícia sei la \"bolsonaro proíbe a venda de coxinha no Brasil\" eu n vou ficar chocado sério mesmo\n",
      "----------------------------------\n",
      "Nessa era Bolsonaro, temos um Brasil depressivo. https://t.co/TuIcTrVqEl\n",
      "----------------------------------\n",
      "@CarlaZambelli17 @RodrigoMaia @jairbolsonaro Ele tá falando isso pq ele sabe q esse twitter do Bolsonaro foi relacionado ao Mourão e qualquer coisa q fale do Mourão o Nhonho se mete! Provavelmente ta querendo ser vice presidente do Mourão!!\n",
      "----------------------------------\n",
      "@luciano_hang Olavo tem razão,  vc tem razão , Bolsonaro tem razão , pronto, vão a puta que o pariu e levem os eleitores retardados com vcs , e na viagem vão lavando a rola um do outro .\n",
      "----------------------------------\n",
      "@folha Pessoal da Folha produzindo matéria do Bolsonaro https://t.co/v52R0Imkzj\n",
      "----------------------------------\n",
      "@marcellojazz @felipeneto @NicolasMaduro Vcs ficam putos com os Twittes dele contra o Bolsonaro, e ficam ainda mais putos com os twitter dele contra o Maduro e essa corja de vagabundos assassinos porque ele optou por uma escolha que na cabeça dele, era a menos \"pior\"\n",
      "----------------------------------\n",
      "@felipeneto Lembre  Bolsonaro nao ganhou a eleicao com voto de Bolsominions... o grosso dos votos veio de gente comum que nao venera ditador nenhum estava saco cheio. Foi voto anti PT.  Já esquerda que votou e vota em massa no PT, Psol etc.. esses sim apoam apoia ditadores sanguinarios.\n",
      "----------------------------------\n",
      "Sei que o Bolsonaro não queria incluir os militares na Nova Previdência, e tem motivos para esta posição.\n",
      "Os desavisados poderiam imaginar que o Presidente Bolsonaro não queira que os \"militares\" precisam... https://t.co/QTQSKR3qz0\n",
      "----------------------------------\n",
      "@THAISVIANELLO @TucaIvanicska @RodrigoMaia @jairbolsonaro Você sabe que Rodrigo Maia tinha 1153 concorrentes ao seu cargo, e tinha um universo de votos possíveis de 9,5M, enquanto bolsonaro tinha 1 concorrente pra dividir um universo de 115M, certo?\n",
      "----------------------------------\n",
      "@randolfeap Seu erro é subestimar a inteligência da população e comparar um gentleman que é Jair Bolsonaro aos psicóticos genocidas que vc gostaria de transforma lo mas jamais sua utopia se realizará. Bosal !\n",
      "----------------------------------\n",
      "Bolsonaro falará sobre a Reforma da Previdência no Programa Sílvio Santos, no próximo domingo - https://t.co/UzXeRvJBhu\n",
      "----------------------------------\n",
      "@mariadorosario De vcs esquerda nefasta eu espero que nada ...vcs são a doença e Bolsonaro e a cura\n",
      "----------------------------------\n",
      "O B R A S I L 🇧🇷 \n",
      "está crescendo, ame-o ou deixe-o.\n",
      "\n",
      "Brevemente poderemos gritar: \"ACABOU AS REGALIAS E MAMATAS DOS EX-PRESIDENTES\" 😃👏👏👏🙌🏻🙏\".\n",
      "\n",
      "Presidente Bolsonaro esteve nesta… https://t.co/Yman9dWdMn\n",
      "----------------------------------\n",
      "Ue... Mudaram o discurso por que? Terá sido o recente desembarque das tropas russas na Venezuela? https://t.co/9yBReySoN1\n",
      "----------------------------------\n",
      "Bolsonaro falará sobre a Reforma da Previdência no Programa Sílvio Santos, no próximo domingo - AÍ PESSOAL, Vamos divulgar, ...  https://t.co/e2QKUH8HgN\n",
      "----------------------------------\n",
      "@revistaforum QUE COMPRA DE VOTOS NADA, seus manipuladores. Passa a informação correta, não faça sensacionalismo, ou Fake News. Estão louquinhos para derrubar o governo Bolsonaro, né??? Chora, a mamata acabou.\n",
      "----------------------------------\n",
      "@RodrigoMaia Deixe de achar que você, com bem menos votos que Carlos Bolsonaro que é vereador, tem a mesma importância que Jair Bolsonaro, o presidente com 58 milhões de votos, que quase ganhou no primeiro turno. O capitão representa a maioria conservadora e cristã. https://t.co/MouZGZxgYr\n",
      "----------------------------------\n",
      "@RodrigoMaia Em qual momento o Bolsonaro disse algo sobre declaração de guerra? Pqp só quer aparecer.\n",
      "----------------------------------\n",
      "@DanidevilXD @MadeiraWhisley @GeracaodeValor vcs tão tudo no mesmo barco parceiro, votaram em Bolsonaro que tem ditador como ídolo e querem falar de quem?\n",
      "----------------------------------\n",
      "@JanainaDoBrasil @xicograziano Janaína, pq vc não segue o conselho do Olavo e cala a boca? Seu futuro é o esgoto da história, afundada junto com seu ídolo Bolsonaro. Pq vc não ajuda a gente a achar o Queiroz e acabar com as milícias no Brasil?\n",
      "----------------------------------\n",
      "@o_antagonista E eu aqui pensando que era por causa da Constituição que qualquer brasileiro podia se candidatar. Quer dizer que Bolsonaro em poucos meses já ampliou até os direitos políticos das pessoas? 😂\n",
      "----------------------------------\n",
      "@cnni O presidente Jair Bolsonaro editou nesta terça-feira (30) uma medida provisória (MP) para liberar R$ 223,8 milhões para assistência emergencial e acolhimento de cidadãos da Venezuela.\n",
      "----------------------------------\n",
      "@andreazzaeditor Tem casco, exato, como qualquer outro ruminante.\n",
      "\n",
      "A necessidade de campanha constante deve-se ao fato de que o governo de Bolsonaro não compromete sua integridade pela governabilidade, como p.ex. troca de cargos.\n",
      "----------------------------------\n",
      "@RodrigoMaia Você, com seus ínfimos votos, ninguém sabe como se elegeu. Tu não tens a mesma importância ou autoridade que Jair Bolsonaro, o presidente com 58 milhões de votos que quase ganhou no primeiro turno, tem. O capitão representa a maioria conservadora e cristã. https://t.co/MouZGZxgYr\n",
      "----------------------------------\n",
      "Ja comemos risoto de camarão, tomamos vinho e corote, andamos na rua, rasgamos adesivos de bolsonaro no carro aleatório, dançamos funk, tivemos DR entre nós e agora estamos dormindo juntos no mesmo quarto! Uns amigos perfeitos desses aff @alanabeatriix @caru_urac\n",
      "----------------------------------\n",
      "@luan_felipeM1 @milenereis @AbrahamWeint Acho que ela esteve no palacio do governo em reuniao com a familia bolsonaro, olavo e todos os ministros. Fez confusao coitada.\n",
      "----------------------------------\n",
      "@AllanGarcs1 @RodrigoMaia @BolsonaroSP @jairbolsonaro @CarlosBolsonaro O cara é um babaca. Bolsonaro já falou isso em entrevista. Bolsonaro deixou claro no seu post, que a DECISÃO de uma possível intervenção militar cabe ao presidente da republica, e claro, que depois será levado ao parecer do Congresso.\n",
      "----------------------------------\n",
      "@galvaobueno Galvão quando vejo uma notícia desta me da uma tristeza. A leitura é: o país indo a merda e 80 brasileiros, que vivem de renda oriunda do Brasil, lavam as maos para o que está acontecendo no país! Depois reclamam da existência de um Lula ou Bolsonaro!\n",
      "----------------------------------\n",
      "AAAAAAAAA N CREIO QUE O MAIA É A FADA SENSATA DA VEZ \n",
      "\"Maia rebate Bolsonaro e diz que cabe ao Congresso autorizar guerra com Venezuela\"  https://t.co/bteU4ZbSDO\n",
      "----------------------------------\n",
      "Ontem à noite (30) foi confirmada a presenta do presidente Jair Bolsonaro no Programa Sílvio Santos, que vai ao ar aos domingos, no SBT.\n",
      "\n",
      "O programa será gravado na quinta-feira desta semana, no final da manhã, ou no início da tarde.\n",
      "\n",
      "Segundo informações… https://t.co/c8xjeWqm1s\n",
      "----------------------------------\n",
      "@caipiracicabana E alegaram; ela ser da equipe Bolsonaro . Mas e dai isso dá o direito daquela prof... Querer deixar de dá aula e militar contra o Governo e Chingando  O .C ???\n",
      "----------------------------------\n",
      "@adr_Fla @DonaNenm2 @moro_bolsonaro @Cailleach_RS @MarceloFreixo difícil https://t.co/NMpRkftQj4\n",
      "----------------------------------\n",
      "Terminei de assistir a entrevista agora. O Lula deu aula de entrevista. Que mentalidade. Bolsonaro não chega aos pés dele!!!!\n",
      "----------------------------------\n",
      "meu zap só serve pra falar mal do bolsonaro sim\n",
      "----------------------------------\n",
      "@jairbolsonaro Deixa eu ver se eu entendi. Lula dando entrevistas e Livre Durante o governo Bolsonaro agora o COAF longe do @SF_Moro ? Eu não acreditei isso é verdade?\n",
      "----------------------------------\n",
      "@Welling40777934 Isso é um absurdo . Que pena que Bolsonaro não possa intervir .\n",
      "----------------------------------\n",
      "@folha “Ontem, na Agrishow, eu apelei para o presidente do Banco do Brasil, Rubem Novaes, para o seu espírito patriótico, conservador e cristão, que atenda os ruralistas no tocante das taxas de juros\", disse Bolsonaro.\n",
      "\n",
      "Defina conservador e cristao à luz do cidadao de bem.\n",
      "----------------------------------\n",
      "@allantercalivre @RodrigoMaia Q q o Rodrigo Maia têm haver com isso? Militante que se passa por jornalista dá nisso. Vai fazer reportagem do Queiróz ou dos milicianos que trabalham pra família Bolsonaro, com a família do homem dos 80 tiros ou do laranjal de PE e MG!\n",
      "----------------------------------\n",
      "@regixss Bolsonaro é o presidente, sem nenhuma mácula em sua moral. Ô Regis, VTNC!\n",
      "#LulaContinuaPresoBABACA https://t.co/ufphgIR9qe\n",
      "----------------------------------\n",
      "@ElGabrielCabron @fofisssssss Mano \n",
      "Só faz quatro meses de governo do Bolsonaro e você ainda cobra ele\n",
      "Ele é um Deus agora?\n",
      "Porque ao invés de apenas críticar atrás de um computador\n",
      " você não contribui com a sociedade\n",
      "----------------------------------\n",
      "@ebryanlima @UOLEsporte A culpa de tudo que existe de ruim neste Brasilzão a fora e culpa do Bolsonaro, acho que tem muita gente precisando se tratar, falo isto pra torcedores do Lula, assim como os do Bolsonaro.\n",
      "----------------------------------\n",
      "bolsonaro me ajuda eu to com gripe \n",
      "\n",
      "fodase\n",
      "----------------------------------\n",
      "@jairbolsonaro MUITA CALMA BOLSONARO . VOCÊ PRECISA DE PAZ PARA GOVERNAR O PAÍS . ORE SEMPRE . A SABEDORIA COM DEUS É A CHAVE DA VITÓRIA . UM GRANDE ABRAÇO .\n",
      "----------------------------------\n",
      "@SargentoFAHUR Pode vir quente.... kkkkkkkkk sou Bolsonaro...\n",
      "----------------------------------\n",
      "@jairbolsonaro Bolsonaro com todo respeito, votei em você. Mas acho muito desnecessário essas suas postagens. Você hoje é um presidente. Bom só minha opinião!\n",
      "Um abraço..\n",
      "----------------------------------\n",
      "O Bolsonaro é o presidente mais honesto e sincero que já tivemos. Quem não gosta dele não presta.\n",
      "----------------------------------\n",
      "A situação da Venezuela é complicada, Maduro é um Ditador e merece nada menos que repúdio, defende-lo é ser desleal com o estado democrático de direito. Já Guaidó, seria a saída democrática para o país, é apoiado por Trump e Bolsonaro, e não tem o povo, logo, tem algo de errado.\n",
      "----------------------------------\n",
      "@InriSincero Cala boca Maia Botafogo , voce não chega nem nos pés do Eduardo Bolsonaro.\n",
      "----------------------------------\n",
      "@CarlosBolsonaro Então rapaz, por que NÃO fazem absolutamente NADA para mudar essa péssima comunicação do Bolsonaro?? URGENTEMENTE em rede nacional de TVs abertas, semanalmente, ou TV estatal NBR aberta. Um jornal diário de 20 minutos, seria suficiente.Marketeiros do Bolsonaro estão BOICOTANDO-o\n",
      "----------------------------------\n",
      "@blogbymel @folha Com a proposta de Bolsonaro, o fazendeiro que matar um trabalhador rural poderá se livrar de qualquer punição. Bastará que o alvo dos tiros seja rotulado como “invasor”.\n",
      "----------------------------------\n",
      "Não votou no Bolsonaro... Meu coração não aguenta isso\n",
      "----------------------------------\n",
      "@AbrahamWeint O senhor está certo. Bolsonaro está certo. Vão em frente.\n",
      "----------------------------------\n",
      "@vivindab O lubrificante ela deve usar pensando no Bolsonaro! 🤣🤣🤣🤣🤣🤣\n",
      "----------------------------------\n",
      "@CarlaZambelli17 Mas claro o parlamento teria que votar para estar de https://t.co/aJXoKYnM1d a constituição e a esquerda nao colocar na conta do Bolsonaro\n",
      "----------------------------------\n",
      "@Almir_Alexandr @republica_ctba e quem leva a culpa de n haver melhoras ,segurança,etc no país é o Bolsonaro.\n",
      "----------------------------------\n",
      "@ElianeSP15 @patriota_right @BolsonaroSP Já que não sabe usar o Google, segue o link. Se não confiar já fonte, tem várias outras. https://t.co/z48yBzHcY4\n",
      "----------------------------------\n",
      "@kimpkat @ptbrasil @PCdoB_Oficial @psol50 Esses são os comunistas que todos sabemos. Mas e aqueles esquerdistas que apoiavam Alckmin,mas depois passaram a apoiar Bolsonaro? Vocês não me enganam !!😏\n",
      "----------------------------------\n",
      "Parabéns Bolsonaro! https://t.co/B3rzOtYu8r\n",
      "----------------------------------\n",
      "Só de ler o início do enunciado “bolsonaro defende...” já sei que vou discordar de todo o resto\n",
      "----------------------------------\n",
      "@RodrigoMaia Pior q os lacradorxx da \"imprensa\" vai noticiar que o bolinha rebateu tuite de bolsonaro, sem olhar nenhum dos pontos que colocamos aqui\n",
      "----------------------------------\n",
      "Discurso de Santiago Abascal - Líder do Vox (Partido de Direita da Espanha) mostra como a esquerda age no país, é igual como agem aqui e em toda europa, ela é igual em todos os lugares. https://t.co/tOCv88qQ0D via @YouTube @vox_es\n",
      "----------------------------------\n",
      "@Welling40777934 @NeirocaNBatch Ele eh muito paciente Kkkķ da vontade de sair socando a cara daqueles repórteres burros, igual aquele Jumento, que qdo Bolsonaro tirou A propaganda do BB por razões óbvias (dinheiro público e lacracao) Bolsonaro mandou o repórter olhar no espelho, o burro ñ entendeu! Affff\n",
      "----------------------------------\n",
      "todo dia é um bom dia pra odiar bolsonaro\n",
      "----------------------------------\n",
      "@Estadao Esse Bolsonaro é um comediante hahahahahaha\n",
      "----------------------------------\n",
      "@MoraesDAugusto @allantercalivre @RodrigoMaia Depois de elegermos Lula e Bolsonaro eu não duvido de mais nada nesse país!!\n",
      "----------------------------------\n",
      "Gente tinha um boy SUPER investindo na Isa hj ai ela perguntou em quem ele votou e ele falou que foi no Bolsonaro pra q a Isa deu um fora LINDO nele Kkkkkkkkkk errada ela num tá né sensatez q fala\n",
      "----------------------------------\n",
      "Vai ser top demais! Encontro de mitos. 😍\n",
      "\n",
      "https://t.co/EDomvWRYV6\n",
      "----------------------------------\n",
      "O Bolsonaro é presidente e vive postando bosta no twitter, acho que vou me candidatar na próxima vez , eu faço isso todos os dias e de graça ainda\n",
      "----------------------------------\n",
      "Queria pedir pras pessoas pararem de falar que o Bolsonaro não pode declarar guerra a Venezuela sem aprovação do Congresso. Deixa o cara, ele é o presidente.\n",
      "Mas se fizer isso não vai ser mais heheheheheheheheheheheheheheh\n",
      "----------------------------------\n",
      "Tenho asco desse cara! 🤬😤\n",
      "Até quando aguentaremos inertes a tanta bandidagem???\n",
      "@reinaldoazevedo @EstadaoPolitica\n",
      "@policiafederal\n",
      "@GloboNews\n",
      "#cadêoQueiroz \n",
      "https://t.co/5W8A6CGW7n\n",
      "----------------------------------\n",
      "@GGBCri @caiopilan kkkk eu sempre brinquei de com gado, na roça quando criança e no tt quando adulto,  adoro atiçar a gadaiada, não to errado não, bolsonaro continua tendo 0 mérito na mp que nem foi aprovada ainda.\n",
      "----------------------------------\n",
      "Vamos gente subir a tag #operaçãoLiberdade para Lula e acabar com o regime ditador do Bolsonaro.\n",
      "----------------------------------\n",
      "@gospelmente @PauloVieiraReal @jairbolsonaro Eu já nem sigo mais o @gospelmente em nenhuma rede social. Pra que inferno se os crentes já fazem um excelente papel de advogado de acusação, juiz e carcereiro. Tá igual o governo Bolsonaro, nem precisa de oposição pq a oposição e interna.\n",
      "----------------------------------\n"
     ]
    }
   ],
   "source": [
    "for tweet in positive_description[0:100]:\n",
    "    print(tweet)\n",
    "    print(\"----------------------------------\")"
   ]
  },
  {
   "cell_type": "code",
   "execution_count": null,
   "metadata": {},
   "outputs": [],
   "source": []
  },
  {
   "cell_type": "code",
   "execution_count": null,
   "metadata": {},
   "outputs": [],
   "source": [
    "import spacy\n",
    "import pandas as pd\n",
    "import random\n",
    "import re\n",
    "import spacy\n",
    "import time\n",
    "import utils.functions as f\n",
    "from utils.stop_words_custom import my_stop_words as stop_words\n",
    "from sklearn.feature_extraction.text import CountVectorizer\n",
    "from sklearn.naive_bayes import MultinomialNB\n",
    "from sklearn.model_selection import train_test_split\n",
    "nlp = spacy.load('pt_core_news_sm')\n",
    "pd.set_option('display.max_colwidth', -1)"
   ]
  },
  {
   "cell_type": "code",
   "execution_count": null,
   "metadata": {},
   "outputs": [],
   "source": []
  },
  {
   "cell_type": "code",
   "execution_count": null,
   "metadata": {},
   "outputs": [],
   "source": [
    "def clean_tweet(tweet):\n",
    "    cleaned = f.toFixPunctuation(tweet)\n",
    "    cleaned = f.changePatterns(cleaned)\n",
    "    #cleaned = f.removeHashtag(cleaned)\n",
    "    cleaned = f.removeLink(cleaned)\n",
    "    #cleaned = f.removeMention(cleaned)\n",
    "    cleaned = f.remove_punctuation(cleaned)\n",
    "    cleaned = f.toFixBlankSpaces(cleaned)\n",
    "    cleaned = f.remove_spaces_between_words(cleaned)\n",
    "    return cleaned"
   ]
  },
  {
   "cell_type": "code",
   "execution_count": null,
   "metadata": {},
   "outputs": [],
   "source": [
    "df_positive = f.get_data('data/10_classify_tweets/classify_tweets.xlsx')\n",
    "df_negative = f.get_data('data/11_classified/negative.xlsx')\n",
    "df_positive2 = f.get_data('data/11_classified/positive.xlsx')"
   ]
  },
  {
   "cell_type": "code",
   "execution_count": null,
   "metadata": {},
   "outputs": [],
   "source": [
    "df_negative.shape"
   ]
  },
  {
   "cell_type": "code",
   "execution_count": null,
   "metadata": {},
   "outputs": [],
   "source": [
    "df_positive.shape"
   ]
  },
  {
   "cell_type": "code",
   "execution_count": null,
   "metadata": {},
   "outputs": [],
   "source": [
    "df_positive2.shape"
   ]
  },
  {
   "cell_type": "code",
   "execution_count": null,
   "metadata": {},
   "outputs": [],
   "source": [
    "df_positive.columns"
   ]
  },
  {
   "cell_type": "code",
   "execution_count": null,
   "metadata": {},
   "outputs": [],
   "source": [
    "df_positive = df_positive[df_positive[\"class\"]==\"positive\"]"
   ]
  },
  {
   "cell_type": "code",
   "execution_count": null,
   "metadata": {},
   "outputs": [],
   "source": [
    "df_positive.head(1)"
   ]
  },
  {
   "cell_type": "code",
   "execution_count": null,
   "metadata": {},
   "outputs": [],
   "source": [
    "df_negative.head(1)"
   ]
  },
  {
   "cell_type": "code",
   "execution_count": null,
   "metadata": {},
   "outputs": [],
   "source": [
    "df_negative.columns = [\"description\"]\n",
    "df_negative.head(1)"
   ]
  },
  {
   "cell_type": "code",
   "execution_count": null,
   "metadata": {},
   "outputs": [],
   "source": [
    "df_negative[\"class\"] = \"negative\""
   ]
  },
  {
   "cell_type": "code",
   "execution_count": null,
   "metadata": {},
   "outputs": [],
   "source": [
    "df_negative.head(1)"
   ]
  },
  {
   "cell_type": "code",
   "execution_count": null,
   "metadata": {},
   "outputs": [],
   "source": [
    "df_negative[\"class\"].value_counts()"
   ]
  },
  {
   "cell_type": "code",
   "execution_count": null,
   "metadata": {},
   "outputs": [],
   "source": [
    "df_positive2.columns = [\"description\"]\n",
    "df_positive2[\"class\"] = \"positive\""
   ]
  },
  {
   "cell_type": "code",
   "execution_count": null,
   "metadata": {},
   "outputs": [],
   "source": [
    "df_all_classified = pd.concat([df_negative, df_positive, df_positive2])\n",
    "df_all_classified[\"class\"].value_counts()"
   ]
  },
  {
   "cell_type": "code",
   "execution_count": null,
   "metadata": {},
   "outputs": [],
   "source": [
    "df_description_cleaned = df_all_classified['description'].apply(clean_tweet)\n",
    "train_X, test_X, train_y, test_y = train_test_split(df_description_cleaned, df_all_classified['class'], test_size=0.5, random_state=42, stratify=df_all_classified['class'])"
   ]
  },
  {
   "cell_type": "code",
   "execution_count": null,
   "metadata": {},
   "outputs": [],
   "source": [
    "# vectorizer = CountVectorizer(ngram_range=(1,2))\n",
    "vectorizer = CountVectorizer(analyzer='word', ngram_range=(1, 2))"
   ]
  },
  {
   "cell_type": "code",
   "execution_count": null,
   "metadata": {},
   "outputs": [],
   "source": [
    "train_X = vectorizer.fit_transform(train_X)\n",
    "test_X = vectorizer.transform(test_X)\n",
    "\n",
    "clf = MultinomialNB()\n",
    "clf.fit(train_X, train_y)\n",
    "\n",
    "print(\"The accuracy on the test set is %.2f. The ngram representation had %i features.\" % (clf.score(test_X, test_y), train_X.shape[1]))"
   ]
  },
  {
   "cell_type": "code",
   "execution_count": null,
   "metadata": {},
   "outputs": [],
   "source": [
    "#print(vectorizer.get_feature_names())"
   ]
  },
  {
   "cell_type": "code",
   "execution_count": null,
   "metadata": {},
   "outputs": [],
   "source": [
    "# prediction = clf.predict(vectorizer.transform([\"O Bolsonaro vai se reeleger em 2022.\"]))\n",
    "# print(prediction)"
   ]
  },
  {
   "cell_type": "code",
   "execution_count": null,
   "metadata": {},
   "outputs": [],
   "source": [
    "# prediction = clf.predict(vectorizer.transform([\"O Bolsonaro matou a Marielle.\"]))\n",
    "# print(prediction)"
   ]
  },
  {
   "cell_type": "code",
   "execution_count": null,
   "metadata": {},
   "outputs": [],
   "source": [
    "# bow_matrix = vectorizer.fit_transform(df[\"description\"])\n",
    "# print(bow_matrix.shape)"
   ]
  },
  {
   "cell_type": "code",
   "execution_count": null,
   "metadata": {},
   "outputs": [],
   "source": [
    "# bow_matrix = vectorizer.fit_transform(description_series)\n",
    "# print(bow_matrix.shape)"
   ]
  },
  {
   "cell_type": "code",
   "execution_count": null,
   "metadata": {},
   "outputs": [],
   "source": [
    "df_all = f.get_data('data/07_repeated_descriptions_deleted/without_repeated_descriptions.xlsx')"
   ]
  },
  {
   "cell_type": "code",
   "execution_count": null,
   "metadata": {},
   "outputs": [],
   "source": [
    "df_all.info()"
   ]
  },
  {
   "cell_type": "code",
   "execution_count": null,
   "metadata": {},
   "outputs": [],
   "source": [
    "df_all.drop(['guid','link','title','user_id','profile_image_url','lang','code','coords','source','user_statuses_count','user_friends_count','user_followers_count','user_location'], axis=1, inplace=True)"
   ]
  },
  {
   "cell_type": "code",
   "execution_count": null,
   "metadata": {},
   "outputs": [],
   "source": [
    "df_all.info()"
   ]
  },
  {
   "cell_type": "code",
   "execution_count": null,
   "metadata": {},
   "outputs": [],
   "source": [
    "df_all.dropna(subset=['description'],inplace=True)"
   ]
  },
  {
   "cell_type": "code",
   "execution_count": null,
   "metadata": {},
   "outputs": [],
   "source": [
    "df_all.info()"
   ]
  },
  {
   "cell_type": "code",
   "execution_count": null,
   "metadata": {},
   "outputs": [],
   "source": [
    "def preditor(x):\n",
    "    prediction = clf.predict(vectorizer.transform([clean_tweet(x)]))\n",
    "    return prediction[0]"
   ]
  },
  {
   "cell_type": "code",
   "execution_count": null,
   "metadata": {},
   "outputs": [],
   "source": [
    "start_time = time.time()\n",
    "y = df_all[\"description\"].apply(preditor)\n",
    "df_all[\"predicted\"] = y\n",
    "print(time.time() - start_time)"
   ]
  },
  {
   "cell_type": "code",
   "execution_count": null,
   "metadata": {},
   "outputs": [],
   "source": [
    "df_all[\"predicted\"].value_counts()"
   ]
  },
  {
   "cell_type": "code",
   "execution_count": null,
   "metadata": {},
   "outputs": [],
   "source": [
    "df_all[df_all[\"predicted\"]==\"positive\"].iloc[0:100]"
   ]
  },
  {
   "cell_type": "code",
   "execution_count": null,
   "metadata": {},
   "outputs": [],
   "source": [
    "df_all[df_all[\"predicted\"]==\"negative\"].iloc[0:100]"
   ]
  },
  {
   "cell_type": "code",
   "execution_count": null,
   "metadata": {},
   "outputs": [],
   "source": [
    "df_positive = df_all[df_all[\"predicted\"]==\"positive\"]\n",
    "df_positive.info()"
   ]
  },
  {
   "cell_type": "code",
   "execution_count": null,
   "metadata": {},
   "outputs": [],
   "source": [
    "df_negative = df_all[df_all[\"predicted\"]==\"negative\"]\n",
    "df_negative.info()"
   ]
  },
  {
   "cell_type": "code",
   "execution_count": null,
   "metadata": {},
   "outputs": [],
   "source": [
    "# amostra_positivos = []\n",
    "# for x in range(50):\n",
    "#      amostra_positivos.append(random.randint(0,len(df_positive)))"
   ]
  },
  {
   "cell_type": "code",
   "execution_count": null,
   "metadata": {},
   "outputs": [],
   "source": [
    "# amostra_positivos"
   ]
  },
  {
   "cell_type": "code",
   "execution_count": null,
   "metadata": {},
   "outputs": [],
   "source": [
    "# amostra_negativos = []\n",
    "# for x in range(50):\n",
    "#      amostra_negativos.append(random.randint(0,len(df_negative)))"
   ]
  },
  {
   "cell_type": "code",
   "execution_count": null,
   "metadata": {},
   "outputs": [],
   "source": [
    "# amostra_negativos"
   ]
  },
  {
   "cell_type": "code",
   "execution_count": null,
   "metadata": {},
   "outputs": [],
   "source": [
    "amostra_all = []\n",
    "for x in range(100):\n",
    "     amostra_all.append(random.randint(0,len(df_all)))"
   ]
  },
  {
   "cell_type": "code",
   "execution_count": null,
   "metadata": {},
   "outputs": [],
   "source": [
    "print(amostra_all)"
   ]
  },
  {
   "cell_type": "code",
   "execution_count": null,
   "metadata": {},
   "outputs": [],
   "source": [
    "df_all.iloc[amostra_all][0:10][\"description\"]"
   ]
  },
  {
   "cell_type": "code",
   "execution_count": null,
   "metadata": {},
   "outputs": [],
   "source": [
    "df_all.iloc[amostra_all][10:20][\"description\"]"
   ]
  },
  {
   "cell_type": "code",
   "execution_count": null,
   "metadata": {},
   "outputs": [],
   "source": [
    "df_all.iloc[amostra_all][20:30][\"description\"]"
   ]
  },
  {
   "cell_type": "code",
   "execution_count": null,
   "metadata": {},
   "outputs": [],
   "source": [
    "df_all.iloc[amostra_all][30:40][\"description\"]"
   ]
  },
  {
   "cell_type": "code",
   "execution_count": null,
   "metadata": {},
   "outputs": [],
   "source": [
    "df_positive.iloc[amostra_positivos][40:50][\"description\"]"
   ]
  },
  {
   "cell_type": "code",
   "execution_count": null,
   "metadata": {},
   "outputs": [],
   "source": [
    "df_all.iloc[amostra_all][50:60][\"description\"]"
   ]
  },
  {
   "cell_type": "code",
   "execution_count": null,
   "metadata": {},
   "outputs": [],
   "source": [
    "df_all.iloc[amostra_all][60:70][\"description\"]"
   ]
  },
  {
   "cell_type": "code",
   "execution_count": null,
   "metadata": {},
   "outputs": [],
   "source": [
    "df_all.iloc[amostra_all][70:80][\"description\"]"
   ]
  },
  {
   "cell_type": "code",
   "execution_count": null,
   "metadata": {},
   "outputs": [],
   "source": [
    "df_all.iloc[amostra_all][80:90][\"description\"]"
   ]
  },
  {
   "cell_type": "code",
   "execution_count": null,
   "metadata": {},
   "outputs": [],
   "source": [
    "df_all.iloc[amostra_all][90:100][\"description\"]"
   ]
  },
  {
   "cell_type": "code",
   "execution_count": null,
   "metadata": {},
   "outputs": [],
   "source": [
    "writer = pd.ExcelWriter(r'data/12_positive.xlsx', engine='xlsxwriter',options={'strings_to_urls': False})\n",
    "df_positive.to_excel(writer)\n",
    "writer.close()"
   ]
  },
  {
   "cell_type": "code",
   "execution_count": null,
   "metadata": {},
   "outputs": [],
   "source": [
    "writer = pd.ExcelWriter(r'data/12_negative.xlsx', engine='xlsxwriter',options={'strings_to_urls': False})\n",
    "df_negative.to_excel(writer)\n",
    "writer.close()"
   ]
  }
 ],
 "metadata": {
  "kernelspec": {
   "display_name": "Python 3",
   "language": "python",
   "name": "python3"
  },
  "language_info": {
   "codemirror_mode": {
    "name": "ipython",
    "version": 3
   },
   "file_extension": ".py",
   "mimetype": "text/x-python",
   "name": "python",
   "nbconvert_exporter": "python",
   "pygments_lexer": "ipython3",
   "version": "3.7.1"
  }
 },
 "nbformat": 4,
 "nbformat_minor": 2
}
