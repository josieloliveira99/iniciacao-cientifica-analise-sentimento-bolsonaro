{
 "cells": [
  {
   "cell_type": "code",
   "execution_count": 1,
   "metadata": {},
   "outputs": [],
   "source": [
    "import pandas as pd\n",
    "import random\n",
    "import re\n",
    "import utils.functions as f\n",
    "from utils.stop_words_custom import my_stop_words as stop_words\n",
    "pd.set_option('display.max_colwidth', -1)"
   ]
  },
  {
   "cell_type": "code",
   "execution_count": 17,
   "metadata": {},
   "outputs": [],
   "source": [
    "df = f.get_data('data/07_repeated_descriptions_deleted/without_repeated_descriptions.xlsx')"
   ]
  },
  {
   "cell_type": "code",
   "execution_count": 18,
   "metadata": {},
   "outputs": [
    {
     "name": "stdout",
     "output_type": "stream",
     "text": [
      "<class 'pandas.core.frame.DataFrame'>\n",
      "Int64Index: 226773 entries, 834 to 20829\n",
      "Data columns (total 19 columns):\n",
      "pubdate                 226773 non-null datetime64[ns]\n",
      "id                      226773 non-null int64\n",
      "guid                    226773 non-null object\n",
      "link                    226773 non-null object\n",
      "author                  226773 non-null object\n",
      "title                   226772 non-null object\n",
      "description             226772 non-null object\n",
      "source                  226773 non-null object\n",
      "user_id                 226773 non-null int64\n",
      "profile_image_url       226773 non-null object\n",
      "user_statuses_count     226773 non-null int64\n",
      "user_friends_count      226773 non-null int64\n",
      "user_followers_count    226773 non-null int64\n",
      "user_created_at         226773 non-null object\n",
      "user_bio                171591 non-null object\n",
      "user_location           151316 non-null object\n",
      "lang                    226773 non-null object\n",
      "code                    226773 non-null object\n",
      "coords                  144 non-null object\n",
      "dtypes: datetime64[ns](1), int64(5), object(13)\n",
      "memory usage: 34.6+ MB\n"
     ]
    }
   ],
   "source": [
    "df.info()"
   ]
  },
  {
   "cell_type": "code",
   "execution_count": 19,
   "metadata": {},
   "outputs": [
    {
     "data": {
      "text/html": [
       "<div>\n",
       "<style scoped>\n",
       "    .dataframe tbody tr th:only-of-type {\n",
       "        vertical-align: middle;\n",
       "    }\n",
       "\n",
       "    .dataframe tbody tr th {\n",
       "        vertical-align: top;\n",
       "    }\n",
       "\n",
       "    .dataframe thead th {\n",
       "        text-align: right;\n",
       "    }\n",
       "</style>\n",
       "<table border=\"1\" class=\"dataframe\">\n",
       "  <thead>\n",
       "    <tr style=\"text-align: right;\">\n",
       "      <th></th>\n",
       "      <th>pubdate</th>\n",
       "      <th>id</th>\n",
       "      <th>guid</th>\n",
       "      <th>link</th>\n",
       "      <th>author</th>\n",
       "      <th>title</th>\n",
       "      <th>description</th>\n",
       "      <th>source</th>\n",
       "      <th>user_id</th>\n",
       "      <th>profile_image_url</th>\n",
       "      <th>user_statuses_count</th>\n",
       "      <th>user_friends_count</th>\n",
       "      <th>user_followers_count</th>\n",
       "      <th>user_created_at</th>\n",
       "      <th>user_bio</th>\n",
       "      <th>user_location</th>\n",
       "      <th>lang</th>\n",
       "      <th>code</th>\n",
       "      <th>coords</th>\n",
       "    </tr>\n",
       "  </thead>\n",
       "  <tbody>\n",
       "    <tr>\n",
       "      <th>834</th>\n",
       "      <td>2019-05-01 02:06:12</td>\n",
       "      <td>24834</td>\n",
       "      <td>https://twitter.com/wesleyespindula/statuses/1123468644929953797</td>\n",
       "      <td>https://twitter.com/wesleyespindula/statuses/1123468644929953797</td>\n",
       "      <td>wesleyespindula</td>\n",
       "      <td>Maia diz que cabe ao Congresso, e não a Bolsonaro, autorizar guerra https://t.co/K2i07XWdGd</td>\n",
       "      <td>Maia diz que cabe ao Congresso, e não a Bolsonaro, autorizar guerra https://t.co/K2i07XWdGd</td>\n",
       "      <td>Facebook</td>\n",
       "      <td>313591346</td>\n",
       "      <td>https://pbs.twimg.com/profile_images/943998833373208578/dCn_xmKR_normal.jpg</td>\n",
       "      <td>42471</td>\n",
       "      <td>246</td>\n",
       "      <td>35</td>\n",
       "      <td>2011-06-08 18:12:01</td>\n",
       "      <td>Wesley Espindula Instalaçao Venda Manutençao De Ar Condicionado</td>\n",
       "      <td>Brasília, Brasil</td>\n",
       "      <td>pt</td>\n",
       "      <td>21f695a164055603264d96c166b3c3f1</td>\n",
       "      <td>NaN</td>\n",
       "    </tr>\n",
       "  </tbody>\n",
       "</table>\n",
       "</div>"
      ],
      "text/plain": [
       "                pubdate     id  \\\n",
       "834 2019-05-01 02:06:12  24834   \n",
       "\n",
       "                                                                 guid  \\\n",
       "834  https://twitter.com/wesleyespindula/statuses/1123468644929953797   \n",
       "\n",
       "                                                                 link  \\\n",
       "834  https://twitter.com/wesleyespindula/statuses/1123468644929953797   \n",
       "\n",
       "              author  \\\n",
       "834  wesleyespindula   \n",
       "\n",
       "                                                                                           title  \\\n",
       "834  Maia diz que cabe ao Congresso, e não a Bolsonaro, autorizar guerra https://t.co/K2i07XWdGd   \n",
       "\n",
       "                                                                                     description  \\\n",
       "834  Maia diz que cabe ao Congresso, e não a Bolsonaro, autorizar guerra https://t.co/K2i07XWdGd   \n",
       "\n",
       "       source    user_id  \\\n",
       "834  Facebook  313591346   \n",
       "\n",
       "                                                               profile_image_url  \\\n",
       "834  https://pbs.twimg.com/profile_images/943998833373208578/dCn_xmKR_normal.jpg   \n",
       "\n",
       "     user_statuses_count  user_friends_count  user_followers_count  \\\n",
       "834  42471                246                 35                     \n",
       "\n",
       "         user_created_at  \\\n",
       "834  2011-06-08 18:12:01   \n",
       "\n",
       "                                                            user_bio  \\\n",
       "834  Wesley Espindula Instalaçao Venda Manutençao De Ar Condicionado   \n",
       "\n",
       "        user_location lang                              code coords  \n",
       "834  Brasília, Brasil  pt   21f695a164055603264d96c166b3c3f1  NaN    "
      ]
     },
     "execution_count": 19,
     "metadata": {},
     "output_type": "execute_result"
    }
   ],
   "source": [
    "df.head(1)"
   ]
  },
  {
   "cell_type": "code",
   "execution_count": 20,
   "metadata": {},
   "outputs": [],
   "source": [
    "df.drop(['guid','link','title','user_id','profile_image_url','lang','code','coords','source','user_statuses_count','user_friends_count','user_followers_count','user_location'], axis=1, inplace=True)\n",
    "# source\tuser_statuses_count\tuser_friends_count\tuser_followers_count\tuser_created_at\tuser_bio\tuser_location"
   ]
  },
  {
   "cell_type": "code",
   "execution_count": 21,
   "metadata": {},
   "outputs": [
    {
     "name": "stdout",
     "output_type": "stream",
     "text": [
      "<class 'pandas.core.frame.DataFrame'>\n",
      "Int64Index: 226773 entries, 834 to 20829\n",
      "Data columns (total 6 columns):\n",
      "pubdate            226773 non-null datetime64[ns]\n",
      "id                 226773 non-null int64\n",
      "author             226773 non-null object\n",
      "description        226772 non-null object\n",
      "user_created_at    226773 non-null object\n",
      "user_bio           171591 non-null object\n",
      "dtypes: datetime64[ns](1), int64(1), object(4)\n",
      "memory usage: 12.1+ MB\n"
     ]
    }
   ],
   "source": [
    "df.info()"
   ]
  },
  {
   "cell_type": "code",
   "execution_count": 22,
   "metadata": {},
   "outputs": [
    {
     "data": {
      "text/html": [
       "<div>\n",
       "<style scoped>\n",
       "    .dataframe tbody tr th:only-of-type {\n",
       "        vertical-align: middle;\n",
       "    }\n",
       "\n",
       "    .dataframe tbody tr th {\n",
       "        vertical-align: top;\n",
       "    }\n",
       "\n",
       "    .dataframe thead th {\n",
       "        text-align: right;\n",
       "    }\n",
       "</style>\n",
       "<table border=\"1\" class=\"dataframe\">\n",
       "  <thead>\n",
       "    <tr style=\"text-align: right;\">\n",
       "      <th></th>\n",
       "      <th>pubdate</th>\n",
       "      <th>id</th>\n",
       "      <th>author</th>\n",
       "      <th>description</th>\n",
       "      <th>user_created_at</th>\n",
       "      <th>user_bio</th>\n",
       "    </tr>\n",
       "  </thead>\n",
       "  <tbody>\n",
       "    <tr>\n",
       "      <th>834</th>\n",
       "      <td>2019-05-01 02:06:12</td>\n",
       "      <td>24834</td>\n",
       "      <td>wesleyespindula</td>\n",
       "      <td>Maia diz que cabe ao Congresso, e não a Bolsonaro, autorizar guerra https://t.co/K2i07XWdGd</td>\n",
       "      <td>2011-06-08 18:12:01</td>\n",
       "      <td>Wesley Espindula Instalaçao Venda Manutençao De Ar Condicionado</td>\n",
       "    </tr>\n",
       "    <tr>\n",
       "      <th>832</th>\n",
       "      <td>2019-05-01 02:06:18</td>\n",
       "      <td>24832</td>\n",
       "      <td>diogoandrew85</td>\n",
       "      <td>@PAULOSP001 @NaitzSprite @caiopilan @Tosilva17 @RaphaelSG14 @Ideias_Radicais @pauloap Isso se você nao tiver vivendo numa Venezuela, queria ver tu falar isso se Haddad fosse presidente com desarmamento e regulação dos meios de comunicação como estava no plano de governo dele... É facil ser liberal surfando na onda conservadora. Agradeça ao Bolsonaro. :)</td>\n",
       "      <td>2016-12-13 16:36:30</td>\n",
       "      <td>Gifted by the earth.</td>\n",
       "    </tr>\n",
       "    <tr>\n",
       "      <th>831</th>\n",
       "      <td>2019-05-01 02:06:18</td>\n",
       "      <td>24831</td>\n",
       "      <td>andrearoeirap</td>\n",
       "      <td>Que surpresa, um lobista da pesca industrial, filho de armadores e aliado do Bolsonaro, puxa, não esperava mesmo https://t.co/Dw51K6vEzl</td>\n",
       "      <td>2017-06-15 18:47:51</td>\n",
       "      <td>Biólogo e Msc. atleticano, ambientalista, articulista.\\nEspecialista em políticas públicas ambientais e financiamento da conservação.\\nPerfil pessoal.</td>\n",
       "    </tr>\n",
       "    <tr>\n",
       "      <th>829</th>\n",
       "      <td>2019-05-01 02:06:20</td>\n",
       "      <td>24829</td>\n",
       "      <td>_criscorrea</td>\n",
       "      <td>@RodrigoMaia Mandar nossos homens para Venezuela? Esse negócio só deve ser aprovado se for um exército formado pela família Bolsonaro e seus militantes, fora isso duvido que nossas famílias apóiem essa intervenção ridícula. Não dão conta nem do próprio país e querer se meter no dos outros?</td>\n",
       "      <td>2014-10-08 05:12:42</td>\n",
       "      <td>Criadora da Maenga Toys. 👾 (mãe dos monstros)📍Cristã que às vezes grava vídeos. Blo'Vlogueira um tanto preguiçosa + com análises minuciosas.</td>\n",
       "    </tr>\n",
       "    <tr>\n",
       "      <th>827</th>\n",
       "      <td>2019-05-01 02:06:22</td>\n",
       "      <td>24827</td>\n",
       "      <td>AuricelCarvalho</td>\n",
       "      <td>Justiça nega pedido de Flávio Bolsonaro para interromper investigação sobre Queiroz https://t.co/O2Urarfi0e</td>\n",
       "      <td>2010-06-05 14:14:12</td>\n",
       "      <td>Olho por olho dente por dente</td>\n",
       "    </tr>\n",
       "  </tbody>\n",
       "</table>\n",
       "</div>"
      ],
      "text/plain": [
       "                pubdate     id           author  \\\n",
       "834 2019-05-01 02:06:12  24834  wesleyespindula   \n",
       "832 2019-05-01 02:06:18  24832  diogoandrew85     \n",
       "831 2019-05-01 02:06:18  24831  andrearoeirap     \n",
       "829 2019-05-01 02:06:20  24829  _criscorrea       \n",
       "827 2019-05-01 02:06:22  24827  AuricelCarvalho   \n",
       "\n",
       "                                                                                                                                                                                                                                                                                                                                                             description  \\\n",
       "834  Maia diz que cabe ao Congresso, e não a Bolsonaro, autorizar guerra https://t.co/K2i07XWdGd                                                                                                                                                                                                                                                                           \n",
       "832  @PAULOSP001 @NaitzSprite @caiopilan @Tosilva17 @RaphaelSG14 @Ideias_Radicais @pauloap Isso se você nao tiver vivendo numa Venezuela, queria ver tu falar isso se Haddad fosse presidente com desarmamento e regulação dos meios de comunicação como estava no plano de governo dele... É facil ser liberal surfando na onda conservadora. Agradeça ao Bolsonaro. :)   \n",
       "831  Que surpresa, um lobista da pesca industrial, filho de armadores e aliado do Bolsonaro, puxa, não esperava mesmo https://t.co/Dw51K6vEzl                                                                                                                                                                                                                              \n",
       "829  @RodrigoMaia Mandar nossos homens para Venezuela? Esse negócio só deve ser aprovado se for um exército formado pela família Bolsonaro e seus militantes, fora isso duvido que nossas famílias apóiem essa intervenção ridícula. Não dão conta nem do próprio país e querer se meter no dos outros?                                                                    \n",
       "827  Justiça nega pedido de Flávio Bolsonaro para interromper investigação sobre Queiroz https://t.co/O2Urarfi0e                                                                                                                                                                                                                                                           \n",
       "\n",
       "         user_created_at  \\\n",
       "834  2011-06-08 18:12:01   \n",
       "832  2016-12-13 16:36:30   \n",
       "831  2017-06-15 18:47:51   \n",
       "829  2014-10-08 05:12:42   \n",
       "827  2010-06-05 14:14:12   \n",
       "\n",
       "                                                                                                                                                   user_bio  \n",
       "834  Wesley Espindula Instalaçao Venda Manutençao De Ar Condicionado                                                                                         \n",
       "832  Gifted by the earth.                                                                                                                                    \n",
       "831  Biólogo e Msc. atleticano, ambientalista, articulista.\\nEspecialista em políticas públicas ambientais e financiamento da conservação.\\nPerfil pessoal.  \n",
       "829  Criadora da Maenga Toys. 👾 (mãe dos monstros)📍Cristã que às vezes grava vídeos. Blo'Vlogueira um tanto preguiçosa + com análises minuciosas.            \n",
       "827  Olho por olho dente por dente                                                                                                                           "
      ]
     },
     "execution_count": 22,
     "metadata": {},
     "output_type": "execute_result"
    }
   ],
   "source": [
    "df.head()"
   ]
  },
  {
   "cell_type": "code",
   "execution_count": 28,
   "metadata": {},
   "outputs": [
    {
     "data": {
      "text/plain": [
       "gojammaj          464\n",
       "LavaJatoNews      357\n",
       "epopeiaorg        302\n",
       "inteligovbr       285\n",
       "vonivar           242\n",
       "DCM_online        232\n",
       "AldoNunes57       218\n",
       "brasil247         182\n",
       "aEduardocGomes    179\n",
       "aimcmoreira       169\n",
       "Name: author, dtype: int64"
      ]
     },
     "execution_count": 28,
     "metadata": {},
     "output_type": "execute_result"
    }
   ],
   "source": [
    "df[\"author\"].value_counts().head(10)"
   ]
  },
  {
   "cell_type": "code",
   "execution_count": 33,
   "metadata": {},
   "outputs": [
    {
     "data": {
      "text/plain": [
       "Manifestem-se! Só um velho engenheiro econômico aposentado, um vagabundo a mais, segundo um conhecido sociopata canalha! #EsquerdistasSeguemEsquerdistas            464\n",
       "🤖Robô com noticias, críticas e retweets sobre denuncias de corrupção na América Latina, entre elas, Lavajato\\nOs RTs não significam endosso nem apoio ao postado    357\n",
       "Agregador de notícias.                                                                                                                                              302\n",
       "O primeiro em inteligência legislativa. Tweets sobre política, internet, zen budismo, startups, tecnologia ou tudo isso junto.                                      285\n",
       "Jornalista e Consultor                                                                                                                                              242\n",
       "Site apartidário de notícias e análises. Nossa missão é lutar por uma sociedade menos desigual. Diretor: Kiko Nogueira                                              232\n",
       "🇧🇷                                                                                                                                                                  220\n",
       "Santista roxo                                                                                                                                                       218\n",
       "Jornalista                                                                                                                                                          194\n",
       "Bem-vindo ao Brasil 247, seu jornal digital progressista, democrático, 24 horas por dia 7 dias por semana.                                                          182\n",
       "CASADO, PAI DE 3, AVÔ DE 2 ATÉ AGORA, CATÓLICO, FLAMENGUISTA, ENGo.TELECOM, BRIZOLISTA RADICALMENTE ANTI-DIREITA!   #EsquerdistasSeguemEsquerdistas                 179\n",
       ".                                                                                                                                                                   159\n",
       "Acompanhe as últimas notícias de política, economia, cotidiano, internacional, saúde, ciência, ambiente, educação e outras áreas                                    152\n",
       "...                                                                                                                                                                 143\n",
       "Veja no Twitter - Acompanhe as atualizações do blog do colunista Ricardo Noblat                                                                                     143\n",
       "Jornalista #DH;  Consult. Br/ Trad./ Pesq Online-BR+ALatina: Comitê p/a Proteção dos Jornalistas; AnistiaBr-Coord.Trad Volunt;  Retuitar ≠ endossar🌎                141\n",
       "Precisamos vencer a fome, a miséria e a exclusão social. Nossa guerra não é para matar ninguém - é para salvar vidas.\\n\\nLuiz Inácio Lula da Silva                  141\n",
       "Olho por olho dente por dente                                                                                                                                       141\n",
       "A ENIC, Ñ tem seguidores devidos as postagem q podem trazer problemas indiretos aos seguidores q vierem seguir a ENIC. O importante mesmo é vcs verem os post.      131\n",
       "sem tempo irmão                                                                                                                                                     127\n",
       "jurunapdt@hotmail.com                                                                                                                                               122\n",
       "Resumo da semana, análises de especialistas, reportagens especiais e conteúdos enviados pelos correspondentes em Brasília e por jornalistas espalhados pelo país    119\n",
       "A vida é boa, meu bem!😁               #EuAvisei                                                                                                                     114\n",
       "A BOA VONTADE, ACABA COM QUALQUER BUROCRACIA!                                                                                                                       110\n",
       "man, from brazil, researcher                                                                                                                                        109\n",
       "🔎 Quem visitou seu perfil no Twitter? 🔎 \\n                👆 Clique aqui: https://t.co/0nbkNBfh4Y 👆                                                                  105\n",
       "Em meio a tantas atrocidades  feita pelo ser humano  chego a uma conclusao: O inferno e justo. 👊 🌻🌹🌸 Comunista só tem medo do Exército. Sou intervencionista!       104\n",
       "Perfil oficial do jornal Folha de S.Paulo.  No Instagram: https://t.co/ROC54dLDbE.  Atendimento: @folha_atende                                                      102\n",
       "Jornalista, blogueiro e comunicador. Escreve desde os 8. Estou no @DCM_online, @dropsdejogos, @radiogeekbr, @digiclubbr. Freelancer.                                101\n",
       "😎                                                                                                                                                                   97 \n",
       "Você tem direito as suas próprias opniões, mas não tem direito a seus próprios fatos - Daniel Patrick Moynihan                                                      95 \n",
       "Mulher, brasileira, 70% razão e 30% coração mas, isso muda dependendo da causa em pauta, equidade sempre. Respeito e hierarquia, não abro mão.                      93 \n",
       "Mergulhador, Nadador. Ciclista. Jornalista, Corintiano, Filho da ilha.                                                                                              91 \n",
       "SOU UM SER EM EVOLUÇÃO, DE DIREITA, CONSERVADORA, QUE TENTA SOBREVIVER NO RIO DE JANEIRO. E AVISO AOS POLÍTICOS, TÔ DE OLHO EM VOCÊS!!!                             90 \n",
       "Educação, Cultura, Cidadania                                                                                                                                        88 \n",
       "Perfil oficial do UOL. Acompanhe em tempo real as manchetes do maior provedor de conteúdo em língua portuguesa do mundo.                                            84 \n",
       "Cidadão brasileiro, democrático,sem filiação partidária, sonha com um Brasil mais justo e com mais igualdade e que tenha o povo no poder.                           84 \n",
       "Engenheiro Civil. Petista,Lulista,Pacifista,Anti-Preconceitos,Corintiano e sobretudo BRASILEIRO.#LULALIVRE                                                          83 \n",
       "😍                                                                                                                                                                   80 \n",
       "Enquanto traduzo o que dizem nossos políticos, mostro acima uma das lâmpadas sob as palmeiras no entorno do Maracanã! Elas matam mais de 500 abelhas por noite!     80 \n",
       "O Poder360 publica textos, fotos, vídeos e newsletters diariamente. Sua sede é na capital da República, Brasília.                                                   77 \n",
       "Parlamentar por PE e SP por mais de 44 anos. Presidente Nacional do Cidadania23 - sucessor do PPS.                                                                  76 \n",
       "Valdek Costa                                                                                                                                                        76 \n",
       "O Twitter de  Eduardo Guimarães  mudou o nome para Blog da  Cidadania                                                                                               75 \n",
       "Advogado                                                                                                                                                            75 \n",
       "Twitter que reúne noticias brasileiras dos principais portais do Brasil. Adm @jacksoow                                                                              74 \n",
       "Jornalista.                                                                                                                                                         74 \n",
       "Formado em Educação Física  pela UnB, graduado em Processamento de Dados, Pós Graduado em Análise de Sistemas (Universidade Federal de Uberlândia-MG)               73 \n",
       "artist peintre, curateur                                                                                                                                            73 \n",
       "😎Engenheiro Civil                                                                                                                                                   72 \n",
       "Name: user_bio, dtype: int64"
      ]
     },
     "execution_count": 33,
     "metadata": {},
     "output_type": "execute_result"
    }
   ],
   "source": [
    "df[\"user_bio\"].value_counts().head(50)"
   ]
  },
  {
   "cell_type": "code",
   "execution_count": 30,
   "metadata": {},
   "outputs": [
    {
     "data": {
      "text/plain": [
       "2010-03-14 14:41:53    464\n",
       "2016-10-21 23:00:46    357\n",
       "2018-10-11 11:52:21    302\n",
       "2013-08-27 08:34:03    285\n",
       "2007-11-29 10:18:58    242\n",
       "2009-05-29 10:36:06    232\n",
       "2009-07-21 12:55:06    218\n",
       "2018-05-04 19:11:54    189\n",
       "2011-02-07 18:03:07    182\n",
       "2012-07-09 11:14:54    179\n",
       "Name: user_created_at, dtype: int64"
      ]
     },
     "execution_count": 30,
     "metadata": {},
     "output_type": "execute_result"
    }
   ],
   "source": [
    "df[\"user_created_at\"].value_counts().head(10)"
   ]
  },
  {
   "cell_type": "code",
   "execution_count": 32,
   "metadata": {},
   "outputs": [],
   "source": [
    "writer = pd.ExcelWriter(r'data/09_columns_deleteds/columns_deleteds.xlsx', engine='xlsxwriter',options={'strings_to_urls': False})\n",
    "df.to_excel(writer)\n",
    "writer.close()"
   ]
  }
 ],
 "metadata": {
  "kernelspec": {
   "display_name": "Python 3",
   "language": "python",
   "name": "python3"
  },
  "language_info": {
   "codemirror_mode": {
    "name": "ipython",
    "version": 3
   },
   "file_extension": ".py",
   "mimetype": "text/x-python",
   "name": "python",
   "nbconvert_exporter": "python",
   "pygments_lexer": "ipython3",
   "version": "3.7.1"
  }
 },
 "nbformat": 4,
 "nbformat_minor": 2
}
